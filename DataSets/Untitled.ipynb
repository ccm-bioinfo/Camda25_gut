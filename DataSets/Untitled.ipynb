{
 "cells": [
  {
   "cell_type": "code",
   "execution_count": 2,
   "id": "7c4ffa92-cb62-4713-9868-ce13f4ae81e7",
   "metadata": {},
   "outputs": [],
   "source": [
    "import biom\n"
   ]
  },
  {
   "cell_type": "code",
   "execution_count": 4,
   "id": "6fe80625-874f-425b-b797-9f696e6851f1",
   "metadata": {},
   "outputs": [
    {
     "ename": "NameError",
     "evalue": "name 'load_table' is not defined",
     "output_type": "error",
     "traceback": [
      "\u001b[0;31m---------------------------------------------------------------------------\u001b[0m",
      "\u001b[0;31mNameError\u001b[0m                                 Traceback (most recent call last)",
      "\u001b[0;32m/tmp/ipykernel_29888/609422767.py\u001b[0m in \u001b[0;36m<module>\u001b[0;34m\u001b[0m\n\u001b[0;32m----> 1\u001b[0;31m \u001b[0mtabla\u001b[0m \u001b[0;34m=\u001b[0m \u001b[0mload_table\u001b[0m\u001b[0;34m(\u001b[0m\u001b[0;34m\"bracken_species.biom\"\u001b[0m\u001b[0;34m)\u001b[0m\u001b[0;34m\u001b[0m\u001b[0;34m\u001b[0m\u001b[0m\n\u001b[0m",
      "\u001b[0;31mNameError\u001b[0m: name 'load_table' is not defined"
     ]
    }
   ],
   "source": [
    "tabla = load_table(\"bracken_species.biom\")"
   ]
  },
  {
   "cell_type": "code",
   "execution_count": null,
   "id": "d645b78d-300d-48ce-bbb0-cb1f49a8ba80",
   "metadata": {},
   "outputs": [],
   "source": []
  },
  {
   "cell_type": "code",
   "execution_count": null,
   "id": "59b62111-9c03-4719-92cc-69e46934be88",
   "metadata": {},
   "outputs": [],
   "source": []
  },
  {
   "cell_type": "code",
   "execution_count": null,
   "id": "05e04ef7-fb1e-423f-ae1e-1623c17c9ab2",
   "metadata": {},
   "outputs": [],
   "source": []
  },
  {
   "cell_type": "code",
   "execution_count": null,
   "id": "8afe90d2-362b-4aec-ae18-4432e6dd53c4",
   "metadata": {},
   "outputs": [],
   "source": []
  },
  {
   "cell_type": "code",
   "execution_count": null,
   "id": "d32de28e-a3bb-4446-9578-36db1ef94e75",
   "metadata": {},
   "outputs": [],
   "source": []
  },
  {
   "cell_type": "code",
   "execution_count": null,
   "id": "351e9318-5f1e-4a68-a1d7-b52cfcf91bac",
   "metadata": {},
   "outputs": [],
   "source": []
  }
 ],
 "metadata": {
  "kernelspec": {
   "display_name": "Python 3 (ipykernel)",
   "language": "python",
   "name": "python3"
  },
  "language_info": {
   "codemirror_mode": {
    "name": "ipython",
    "version": 3
   },
   "file_extension": ".py",
   "mimetype": "text/x-python",
   "name": "python",
   "nbconvert_exporter": "python",
   "pygments_lexer": "ipython3",
   "version": "3.8.8"
  }
 },
 "nbformat": 4,
 "nbformat_minor": 5
}
