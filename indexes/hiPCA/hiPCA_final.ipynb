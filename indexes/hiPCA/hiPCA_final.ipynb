{
 "cells": [
  {
   "cell_type": "markdown",
   "id": "b5864ecc-abbd-4e61-85ea-c3e23264b61c",
   "metadata": {},
   "source": [
    "# KS - hiPCA"
   ]
  },
  {
   "cell_type": "markdown",
   "id": "865a2699-3755-4dbf-ad2b-9b64e337cb2b",
   "metadata": {},
   "source": [
    "In this notebook we replicate the Kolgomorov-Smirnov hiPCA index as described in (Zhu et al, 2023). We also capture all the experiments made in pursue to obtain the best result for the CAMDA 2024 challenge"
   ]
  },
  {
   "cell_type": "markdown",
   "id": "45ef32ee-18d3-4671-a612-670b2c066399",
   "metadata": {},
   "source": [
    "First we import the necessary libraries to run this notebook"
   ]
  },
  {
   "cell_type": "code",
   "execution_count": 5,
   "id": "c9e383c3-c1cf-4180-9c50-096666e7e297",
   "metadata": {},
   "outputs": [],
   "source": [
    "import pandas as pd\n",
    "import numpy as np\n",
    "from scipy.stats import kstest\n",
    "from sklearn.preprocessing import StandardScaler\n",
    "from sklearn.decomposition import PCA\n",
    "from scipy.stats import chi2, norm\n",
    "from sklearn.metrics import balanced_accuracy_score"
   ]
  },
  {
   "cell_type": "markdown",
   "id": "13e080d4-f449-49a0-9f68-797369460a87",
   "metadata": {},
   "source": [
    "Now we need to read the data"
   ]
  },
  {
   "cell_type": "code",
   "execution_count": 6,
   "id": "89073018-d9fa-4f2d-afa3-a7c33f3d196f",
   "metadata": {},
   "outputs": [],
   "source": [
    "taxonomy = pd.read_csv('../../DataSets/CAMDA/taxonomy.txt', sep = '\\t', index_col = 0)\n",
    "metadata = pd.read_csv('../../DataSets/CAMDA/metadata.csv')"
   ]
  },
  {
   "cell_type": "markdown",
   "id": "fd179fff-2d39-4187-9647-6da36dc14d00",
   "metadata": {},
   "source": [
    "We select the samples which have most of the species identified"
   ]
  },
  {
   "cell_type": "code",
   "execution_count": 7,
   "id": "63111223-b8a7-47d3-b4dc-9f1f5f8bc016",
   "metadata": {},
   "outputs": [],
   "source": [
    "good_samples = []\n",
    "for c in taxonomy.columns:\n",
    "    if sum(taxonomy[c]) > 90:\n",
    "        good_samples.append(c)\n",
    "taxonomy_aux = taxonomy[good_samples]"
   ]
  },
  {
   "cell_type": "markdown",
   "id": "e5b3ad94-1354-4524-8eb4-054b48de0dfc",
   "metadata": {},
   "source": [
    "From previous experiments we obtained better performance taking out the samples labeled as Obese, that is the reason we are not going to consider them either"
   ]
  },
  {
   "cell_type": "code",
   "execution_count": 8,
   "id": "87131074-a469-4799-83c3-f67f35b1345e",
   "metadata": {},
   "outputs": [],
   "source": [
    "obese = list(metadata[metadata['Diagnosis'] == 'Obese']['SampleID'])\n",
    "healthy = list(metadata[metadata['Diagnosis'] == 'Healthy']['SampleID'])\n",
    "non_healthy = list(metadata[metadata['Diagnosis'] != 'Healthy']['SampleID'])\n",
    "non_healthy = [x for x in non_healthy if x not in obese]"
   ]
  },
  {
   "cell_type": "markdown",
   "id": "9b6dd072-7490-4606-87ca-3da836117a89",
   "metadata": {},
   "source": [
    "Next we will define a function to perform Kolmogorov-Smirnov test to find the most important features for the PCA model"
   ]
  },
  {
   "cell_type": "code",
   "execution_count": 9,
   "id": "828a2d19-2959-47ca-af78-46314590ca61",
   "metadata": {},
   "outputs": [],
   "source": [
    "def ks_test(df, healthy, non_healthy, method_ks = 'auto', p_val = 0.001):\n",
    "    healthy_df = df[[x for x in df.columns if x in healthy]].T\n",
    "    nonhealthy_df = df[[x for x in df.columns if x in non_healthy]].T\n",
    "    healthy_features = []\n",
    "    nonhealthy_features = []\n",
    "    for feature in list(df.index):\n",
    "        if kstest(list(healthy_df[feature]), list(nonhealthy_df[feature]), alternative = 'less', method = method_ks).pvalue <= p_val:\n",
    "            healthy_features.append(feature)\n",
    "        if kstest(list(nonhealthy_df[feature]), list(healthy_df[feature]), alternative = 'less', method = method_ks).pvalue <= p_val:\n",
    "            nonhealthy_features.append(feature)\n",
    "    print(f'# Healthy features selected by KS: {len(healthy_features)}')\n",
    "    print(f'# Unheatlhy features selected by KS: {len(nonhealthy_features)}')\n",
    "    return healthy_features, nonhealthy_features"
   ]
  },
  {
   "cell_type": "markdown",
   "id": "c668f8a0-9290-48e6-9862-297221d13190",
   "metadata": {},
   "source": [
    "Now we define the data preprocessing workflow as defined in the paper"
   ]
  },
  {
   "cell_type": "code",
   "execution_count": 10,
   "id": "5a7d34ed-758d-440a-a89d-d53533afcf6d",
   "metadata": {},
   "outputs": [],
   "source": [
    "def custom_transform(x):\n",
    "    if x <= 1:\n",
    "        return np.log2(2 * x + 0.00001)\n",
    "    else:\n",
    "        return np.sqrt(x)"
   ]
  },
  {
   "cell_type": "code",
   "execution_count": 11,
   "id": "6a053da7-699f-4755-b013-28e2d1f111d7",
   "metadata": {},
   "outputs": [],
   "source": [
    "def transform_data(df, healthy_features, nonhealthy_features):\n",
    "    scaler = StandardScaler()\n",
    "    selected = df.T[[x for x in list(set(healthy_features + nonhealthy_features)) if x in df.T.columns]]\n",
    "    selected = selected.applymap(custom_transform)\n",
    "\n",
    "    for c in selected.columns:\n",
    "        scaler.fit(np.array(selected[c]).reshape(-1, 1))\n",
    "        selected[c] = scaler.transform(np.array(selected[c]).reshape(-1, 1))\n",
    "\n",
    "    return selected"
   ]
  },
  {
   "cell_type": "markdown",
   "id": "ffe03c66-151c-4256-a3f0-fb0b399c7006",
   "metadata": {},
   "source": [
    "Then we define a function to perform PCA over the selected features only"
   ]
  },
  {
   "cell_type": "code",
   "execution_count": 12,
   "id": "40be3c08-1694-44c2-a4fe-a7f58b57e00c",
   "metadata": {},
   "outputs": [],
   "source": [
    "def get_pca_data(df):\n",
    "    pca = PCA()\n",
    "\n",
    "    pca.fit(df)\n",
    "\n",
    "    eigenvalues = pca.explained_variance_\n",
    "    eigenvectors = pca.components_\n",
    "    singular = pca.singular_values_\n",
    "    \n",
    "    pca_data = pd.DataFrame(zip(eigenvectors, eigenvalues, singular), columns = ('Eigenvectors', 'Explained_variance', 'Singular_values')).sort_values('Explained_variance', ascending = False)\n",
    "    pca_data['%variance'] = pca_data['Explained_variance'] / sum(pca_data['Explained_variance'])\n",
    "    pca_data = pca_data.sort_values('%variance', ascending = False)\n",
    "    pca_data['%variance_cumulative'] = pca_data['%variance'].cumsum()\n",
    "    \n",
    "    return pca_data, pca"
   ]
  },
  {
   "cell_type": "markdown",
   "id": "3c3eba2e-5fa6-4da4-9ec1-447bc105bebf",
   "metadata": {},
   "source": [
    "After that we start calculating the indexes, below there is a function to calculate T^2 index"
   ]
  },
  {
   "cell_type": "code",
   "execution_count": 13,
   "id": "8097c8a6-aa01-4f2e-9c3a-0ce8b2e5cff6",
   "metadata": {},
   "outputs": [],
   "source": [
    "def hotelling_t2(df, pca, pca_data, variance_for_pc = 0.9, alpha = 0.05):\n",
    "    principal_components = list(pca_data[pca_data['%variance_cumulative'] < variance_for_pc]['Eigenvectors'])\n",
    "    print(f'# Principal Components selected: {len(principal_components)}')\n",
    "    principal_values = list(pca_data[pca_data['%variance_cumulative'] < variance_for_pc]['Explained_variance'])\n",
    "    D = np.array(principal_components).T @ np.linalg.inv(np.diag(principal_values)) @ np.array(principal_components)\n",
    "    deg_free = len(principal_components) \n",
    "    # alpha = 0.05\n",
    "    t2_threshold = chi2.ppf(1-alpha, deg_free)\n",
    "    T2 = []\n",
    "    pred = []\n",
    "    \n",
    "    try:\n",
    "        for item in pca.transform(df):\n",
    "            index = item.T @ D @ item\n",
    "            T2.append(index)\n",
    "            if index > t2_threshold:\n",
    "                pred.append('Unhealthy')\n",
    "            else:\n",
    "                pred.append('Healthy')\n",
    "    except:\n",
    "        for item in np.array(df):\n",
    "            index = item.T @ D @ item\n",
    "            T2.append(index)\n",
    "            if index > t2_threshold:\n",
    "                pred.append('Unhealthy')\n",
    "            else:\n",
    "                pred.append('Healthy')\n",
    "            \n",
    "    hoteling = pd.DataFrame(zip(df.index, T2, pred), columns = ['Sample', 'T2', 'Prediction T2'])\n",
    "    \n",
    "    return D, principal_components, hoteling, t2_threshold\n",
    "    "
   ]
  },
  {
   "cell_type": "markdown",
   "id": "9a468de2-a6d2-4961-9fbd-3a1842021f5a",
   "metadata": {},
   "source": [
    "Here we made a modification to Q_statistic limit according to ()"
   ]
  },
  {
   "cell_type": "code",
   "execution_count": 14,
   "id": "82d33df9-c69e-430c-8f53-77f54afe7b02",
   "metadata": {},
   "outputs": [],
   "source": [
    "def Q_statistic(df, pca, pca_data, variance_for_pc = 0.9, alpha = 0.05):\n",
    "    principal_components_residual = list(pca_data[pca_data['%variance_cumulative'] >= variance_for_pc]['Eigenvectors'])\n",
    "    principal_values_residual = list(pca_data[pca_data['%variance_cumulative'] >= variance_for_pc]['Explained_variance'])\n",
    "    principal_singvalues_residual = list(pca_data[pca_data['%variance_cumulative'] >= variance_for_pc]['Singular_values'])\n",
    "    \n",
    "    C = np.array(principal_components_residual).T @ np.array(principal_components_residual)\n",
    "    Theta1 = sum(principal_values_residual)\n",
    "    Theta2 = sum([x**2 for x in principal_values_residual])\n",
    "    Theta3 = sum([x**3 for x in principal_values_residual])\n",
    "    \n",
    "    c_alpha = norm.ppf(1-alpha)\n",
    "    \n",
    "    h0 = 1-((2*Theta1*Theta3)/(3*Theta2**2))\n",
    "    \n",
    "    Q_alpha = Theta1*(((((c_alpha*np.sqrt(2*Theta2*(h0**2)))/Theta1)+1+((Theta2*h0*(h0-1))/(Theta1**2))))**(1/h0))\n",
    "    \n",
    "    Q = []\n",
    "    pred = []\n",
    "    try:\n",
    "        for item in pca.transform(df):\n",
    "            index = item.T @ C @ item\n",
    "            Q.append(index)\n",
    "            if index > Q_alpha:\n",
    "                pred.append('Unhealthy')\n",
    "            else:\n",
    "                pred.append('Healthy')\n",
    "    except:\n",
    "        for item in np.array(df):\n",
    "            index = item.T @ C @ item\n",
    "            Q.append(index)\n",
    "            if index > Q_alpha:\n",
    "                pred.append('Unhealthy')\n",
    "            else:\n",
    "                pred.append('Healthy')\n",
    "    \n",
    "    Q_statistic = pd.DataFrame(zip(df.index, Q, pred), columns = ['Sample', 'Q', 'Prediction Q'])\n",
    "    \n",
    "    return C, Theta1, Theta2, Q_statistic, Q_alpha\n",
    "    \n",
    "    "
   ]
  },
  {
   "cell_type": "code",
   "execution_count": 15,
   "id": "b1fec9f2-826c-412f-b6b7-c5670a506c06",
   "metadata": {},
   "outputs": [],
   "source": [
    "def combined_index(df, D, t2_threshold, principal_components, Q_alpha, Theta1, Theta2, pca, alpha = 0.05):\n",
    "    fi = D/t2_threshold + (np.eye(len(principal_components[0])) - (np.array(principal_components).T @ np.array(principal_components)))/Q_alpha\n",
    "    g = ((len(principal_components) / t2_threshold**2) + (Theta2 / Q_alpha**2)) / ((len(principal_components)/t2_threshold) + (Theta1 / Q_alpha))\n",
    "    h = ((len(principal_components)/t2_threshold) + (Theta1 / Q_alpha))**2 / ((len(principal_components) / t2_threshold**2) + (Theta2 / Q_alpha**2))\n",
    "\n",
    "    chi_value = chi2.ppf(1-alpha, h)\n",
    "    threshold_combined = g*chi_value\n",
    "    combined = []\n",
    "    pred = []\n",
    "    \n",
    "    try:\n",
    "        for item in pca.transform(df):\n",
    "            index = item.T @ fi @ item\n",
    "            combined.append(index)\n",
    "            if index > threshold_combined:\n",
    "                pred.append('Unhealthy')\n",
    "            else:\n",
    "                pred.append('Healthy')\n",
    "    except:\n",
    "        for item in np.array(df):\n",
    "            index = item.T @ fi @ item\n",
    "            combined.append(index)\n",
    "            if index > threshold_combined:\n",
    "                pred.append('Unhealthy')\n",
    "            else:\n",
    "                pred.append('Healthy')\n",
    "\n",
    "    combined = pd.DataFrame(zip(df.index, combined, pred), columns = ['Sample', 'Combined', 'Prediction Combined']) \n",
    "    return combined"
   ]
  },
  {
   "cell_type": "markdown",
   "id": "9e4760ab-e28a-4fc0-ab21-c6532c93e8e2",
   "metadata": {},
   "source": [
    "Finally we define a function to calculate the index "
   ]
  },
  {
   "cell_type": "code",
   "execution_count": 80,
   "id": "4e8b6a66-e6ff-4fad-8e53-d67fac6bf480",
   "metadata": {},
   "outputs": [],
   "source": [
    "def hiPCA(df, healthy, non_health, df_ks = [], healthy_features = [], non_healthy_features = [], ks = False, method = 'auto', p_val = 0.001, only_nonhealthy_features = False):\n",
    "    if ks:\n",
    "        healthy_features, non_healthy_features = ks_test(df_ks, healthy, non_healthy, method_ks = method, p_val = p_val)\n",
    "        \n",
    "    if only_nonhealthy_features:\n",
    "        selected = transform_data(df, [], non_healthy_features)\n",
    "    else:\n",
    "        selected = transform_data(df, healthy_features, non_healthy_features)\n",
    "    \n",
    "    print(selected)\n",
    "    pca_data, pca = get_pca_data(selected)\n",
    "    D, principal_components, results_hotelling, t2_threshold = hotelling_t2(selected, pca, pca_data)\n",
    "    C, Theta1, Theta2, results_q, Q_alpha = Q_statistic(selected, pca, pca_data)\n",
    "    hiPCA = combined_index(selected, D, t2_threshold, principal_components, Q_alpha, Theta1, Theta2, pca)\n",
    "    \n",
    "    return healthy_features, non_healthy_features, pd.concat([results_hotelling, results_q.drop('Sample', axis = 1),  hiPCA.drop('Sample', axis = 1)], axis=1, join='outer')"
   ]
  },
  {
   "cell_type": "code",
   "execution_count": null,
   "id": "58ae9111-d121-4919-b899-99adef354f75",
   "metadata": {},
   "outputs": [],
   "source": []
  },
  {
   "cell_type": "markdown",
   "id": "bc9266cb-641c-4471-96ff-305d483fce7b",
   "metadata": {},
   "source": [
    "## Experiments"
   ]
  },
  {
   "cell_type": "markdown",
   "id": "66719489-6b10-4d5d-81b3-0ea08e5c88de",
   "metadata": {},
   "source": [
    "### Experiment 1"
   ]
  },
  {
   "cell_type": "markdown",
   "id": "ba8cc75a-137a-4465-bc2c-d4b7c76487ef",
   "metadata": {},
   "source": [
    "First we will calculate KS-hiPCA index to the trainning data and evaluate its result using balanced accuracy"
   ]
  },
  {
   "cell_type": "code",
   "execution_count": 46,
   "id": "c06379b3-de57-4ee3-85dd-a1fd84b670e4",
   "metadata": {},
   "outputs": [
    {
     "name": "stderr",
     "output_type": "stream",
     "text": [
      "\n",
      "KeyboardInterrupt\n",
      "\n"
     ]
    }
   ],
   "source": [
    "healthy_features, non_healthy_features, results = hiPCA(taxonomy, healthy, non_healthy, df_ks = taxonomy_aux, ks = True, only_nonhealthy_features = True)"
   ]
  },
  {
   "cell_type": "code",
   "execution_count": 18,
   "id": "8a7a44a6-4cd0-45c5-bbfe-4a042b6640f6",
   "metadata": {},
   "outputs": [],
   "source": [
    "original_hiPCA = balanced_accuracy_score(['Unhealthy' if x != 'Healthy' else 'Healthy' for x in metadata[metadata['SampleID'].isin(taxonomy.columns)]['Diagnosis']], ['Unhealthy' if x > 3.8 else 'Healthy' for x in metadata['hiPCA']])"
   ]
  },
  {
   "cell_type": "code",
   "execution_count": 19,
   "id": "4cf825be-fc19-44b5-93bf-4e8dc798f42a",
   "metadata": {},
   "outputs": [],
   "source": [
    "ks_hiPCA = balanced_accuracy_score(['Unhealthy' if x != 'Healthy' else 'Healthy' for x in metadata[metadata['SampleID'].isin(taxonomy.columns)]['Diagnosis']],results['Prediction Combined'])"
   ]
  },
  {
   "cell_type": "code",
   "execution_count": 20,
   "id": "091dc65b-55ea-4732-9b29-b1ff3e9618ad",
   "metadata": {},
   "outputs": [],
   "source": [
    "t2_hiPCA = balanced_accuracy_score(['Unhealthy' if x != 'Healthy' else 'Healthy' for x in metadata[metadata['SampleID'].isin(taxonomy.columns)]['Diagnosis']],results['Prediction T2'])"
   ]
  },
  {
   "cell_type": "code",
   "execution_count": 21,
   "id": "de5282de-0949-4ffe-a1b5-543534bb6799",
   "metadata": {},
   "outputs": [],
   "source": [
    "q_hiPCA = balanced_accuracy_score(['Unhealthy' if x != 'Healthy' else 'Healthy' for x in metadata[metadata['SampleID'].isin(taxonomy.columns)]['Diagnosis']],results['Prediction Q'])"
   ]
  },
  {
   "cell_type": "code",
   "execution_count": 22,
   "id": "893056b0-0786-4124-9626-4bc6ee2e8a08",
   "metadata": {},
   "outputs": [
    {
     "name": "stdout",
     "output_type": "stream",
     "text": [
      "Given hiPCA: 0.6726198083067092\n",
      "KS - hiPCA (T^2) : 0.6779126730564431\n",
      "KS - hiPCA (Q) : 0.7522843450479233\n",
      "KS - hiPCA (Combined): 0.7572151224707135\n"
     ]
    }
   ],
   "source": [
    "print(f'Given hiPCA: {original_hiPCA}')\n",
    "print(f'KS - hiPCA (T^2) : {t2_hiPCA}')\n",
    "print(f'KS - hiPCA (Q) : {q_hiPCA}')\n",
    "print(f'KS - hiPCA (Combined): {ks_hiPCA}')"
   ]
  },
  {
   "cell_type": "markdown",
   "id": "18176574-a53a-4e6e-bdd9-ba0f6a0164ac",
   "metadata": {},
   "source": [
    ">Note that we did not have the threshold for the given hiPCA to classify samples, we arbitrarly chose the threshold that gave best result to make a fair comparison"
   ]
  },
  {
   "cell_type": "markdown",
   "id": "efd95bc5-2082-4254-a322-ce0d242a1e6f",
   "metadata": {},
   "source": [
    "Now we will use this model to try to predict the unhealthy samples"
   ]
  },
  {
   "cell_type": "code",
   "execution_count": 92,
   "id": "cd9c4cf9-3e63-427e-b60b-c34f4dfc2b2d",
   "metadata": {},
   "outputs": [],
   "source": [
    "taxonomy_covid = pd.read_csv('../../DataSets/COVID/CAMDA_taxa.txt', sep = '\\t', index_col = 0)"
   ]
  },
  {
   "cell_type": "code",
   "execution_count": 93,
   "id": "10035fd7-646a-4af1-890f-fba093be104c",
   "metadata": {},
   "outputs": [
    {
     "name": "stdout",
     "output_type": "stream",
     "text": [
      "# Principal Components selected: 10\n"
     ]
    }
   ],
   "source": [
    "_, _, results_covid_taxonomy = hiPCA(taxonomy_covid, [], [], non_healthy_features = non_healthy_features)"
   ]
  },
  {
   "cell_type": "code",
   "execution_count": 94,
   "id": "fd2c71e7-7578-47b5-9152-92d8728b2dff",
   "metadata": {},
   "outputs": [],
   "source": [
    "results_covid_taxonomy.to_csv('../../output/hiPCA/kshiPCA_covid_taxonomy.csv', index = False)"
   ]
  },
  {
   "cell_type": "code",
   "execution_count": null,
   "id": "b81d47d8-c73d-452f-8d0f-5aba37a7b136",
   "metadata": {},
   "outputs": [],
   "source": []
  },
  {
   "cell_type": "markdown",
   "id": "33a02427-3bbd-487a-be13-e73ec8e4b86d",
   "metadata": {},
   "source": [
    "### Experiment 2"
   ]
  },
  {
   "cell_type": "code",
   "execution_count": 95,
   "id": "c4f6aaec-cdcb-4133-8d80-2ecafcef66a0",
   "metadata": {},
   "outputs": [],
   "source": [
    "unhealthy_tax = pd.read_csv('../../DataSets/INDEX/hiPCA/zhu_ks92_unhealthy_species.txt', sep=\"\\t\")"
   ]
  },
  {
   "cell_type": "code",
   "execution_count": 96,
   "id": "894b3fe4-dff3-455c-9557-3fb4349dc069",
   "metadata": {},
   "outputs": [
    {
     "name": "stdout",
     "output_type": "stream",
     "text": [
      "# Principal Components selected: 35\n"
     ]
    }
   ],
   "source": [
    "healthy_features, non_healthy_features, results = hiPCA(taxonomy, healthy, non_healthy, non_healthy_features = list(unhealthy_tax['species']))"
   ]
  },
  {
   "cell_type": "code",
   "execution_count": 97,
   "id": "9d66333b-ad6f-4883-afcd-c441df4cd34c",
   "metadata": {},
   "outputs": [],
   "source": [
    "hiPCA_zhutax = balanced_accuracy_score(['Unhealthy' if x != 'Healthy' else 'Healthy' for x in metadata[metadata['SampleID'].isin(taxonomy.columns)]['Diagnosis']],results['Prediction Combined'])\n",
    "hiPCA_zhutax_t2 = balanced_accuracy_score(['Unhealthy' if x != 'Healthy' else 'Healthy' for x in metadata[metadata['SampleID'].isin(taxonomy.columns)]['Diagnosis']],results['Prediction T2'])\n",
    "hiPCA_zhutax_q = balanced_accuracy_score(['Unhealthy' if x != 'Healthy' else 'Healthy' for x in metadata[metadata['SampleID'].isin(taxonomy.columns)]['Diagnosis']],results['Prediction Q'])"
   ]
  },
  {
   "cell_type": "code",
   "execution_count": 98,
   "id": "0a86fefd-8da8-4254-b361-f41a98149709",
   "metadata": {},
   "outputs": [
    {
     "name": "stdout",
     "output_type": "stream",
     "text": [
      "Given hiPCA: 0.6726198083067092\n",
      "hiPCA with Zhu taxa (T^2): 0.5877742279020234\n",
      "hiPCA with Zhu taxa (Q): 0.6293503727369542\n",
      "hiPCA with Zhu taxa (Combined): 0.647555910543131\n"
     ]
    }
   ],
   "source": [
    "print(f'Given hiPCA: {original_hiPCA}')\n",
    "print(f'hiPCA with Zhu taxa (T^2): {hiPCA_zhutax_t2}')\n",
    "print(f'hiPCA with Zhu taxa (Q): {hiPCA_zhutax_q}')\n",
    "print(f'hiPCA with Zhu taxa (Combined): {hiPCA_zhutax}')"
   ]
  },
  {
   "cell_type": "code",
   "execution_count": 99,
   "id": "ea7d7a70-140e-4027-9650-37adfa2fb37f",
   "metadata": {},
   "outputs": [
    {
     "name": "stdout",
     "output_type": "stream",
     "text": [
      "# Principal Components selected: 15\n"
     ]
    }
   ],
   "source": [
    "_, _, results_covid_taxonomy = hiPCA(taxonomy_covid, [], [], non_healthy_features = list(unhealthy_tax['species']) )"
   ]
  },
  {
   "cell_type": "code",
   "execution_count": 100,
   "id": "4d87300f-299d-4005-bf92-35997bcc7299",
   "metadata": {},
   "outputs": [],
   "source": [
    "results_covid_taxonomy.to_csv('../../output/hiPCA/hiPCAzhutax_covid.csv', index = False)"
   ]
  },
  {
   "cell_type": "code",
   "execution_count": null,
   "id": "abda0eee-88ab-4382-a819-9831f5087406",
   "metadata": {},
   "outputs": [],
   "source": []
  },
  {
   "cell_type": "markdown",
   "id": "348f223b-e541-4de6-b9d4-007246c190ee",
   "metadata": {},
   "source": [
    "### Experiment 3"
   ]
  },
  {
   "cell_type": "markdown",
   "id": "089f4732-3cb0-40b3-a5e2-881771199ce4",
   "metadata": {},
   "source": [
    "We tried to fit differentially expressed genes with FDR 0.05"
   ]
  },
  {
   "cell_type": "code",
   "execution_count": 23,
   "id": "5a96faa5-2234-4d9d-83db-efbed6f1535c",
   "metadata": {},
   "outputs": [],
   "source": [
    "unhealthy_tax = pd.read_csv('../../DataSets/INDEX/hiPCA/differential_expression1.txt', sep=\"\\t\")"
   ]
  },
  {
   "cell_type": "code",
   "execution_count": 25,
   "id": "ad94f333-e60c-4fc9-8890-a16e4bde2669",
   "metadata": {},
   "outputs": [
    {
     "name": "stdout",
     "output_type": "stream",
     "text": [
      "# Principal Components selected: 12\n"
     ]
    }
   ],
   "source": [
    "healthy_features, non_healthy_features, results = hiPCA(taxonomy, healthy, non_healthy, non_healthy_features = list(unhealthy_tax['species']))"
   ]
  },
  {
   "cell_type": "code",
   "execution_count": 26,
   "id": "e68cca4f-2b30-4ddf-b1b7-0cae72f947f0",
   "metadata": {},
   "outputs": [],
   "source": [
    "hiPCA_zhutax = balanced_accuracy_score(['Unhealthy' if x != 'Healthy' else 'Healthy' for x in metadata[metadata['SampleID'].isin(taxonomy.columns)]['Diagnosis']],results['Prediction Combined'])\n",
    "hiPCA_zhutax_t2 = balanced_accuracy_score(['Unhealthy' if x != 'Healthy' else 'Healthy' for x in metadata[metadata['SampleID'].isin(taxonomy.columns)]['Diagnosis']],results['Prediction T2'])\n",
    "hiPCA_zhutax_q = balanced_accuracy_score(['Unhealthy' if x != 'Healthy' else 'Healthy' for x in metadata[metadata['SampleID'].isin(taxonomy.columns)]['Diagnosis']],results['Prediction Q'])"
   ]
  },
  {
   "cell_type": "code",
   "execution_count": 27,
   "id": "02194967-44fc-4618-ac73-2c8cfa7e3f1c",
   "metadata": {},
   "outputs": [
    {
     "name": "stdout",
     "output_type": "stream",
     "text": [
      "Given hiPCA: 0.6726198083067092\n",
      "hiPCA with Zhu taxa (T^2): 0.7043716719914803\n",
      "hiPCA with Zhu taxa (Q): 0.6954100106496273\n",
      "hiPCA with Zhu taxa (Combined): 0.7172151224707135\n"
     ]
    }
   ],
   "source": [
    "print(f'Given hiPCA: {original_hiPCA}')\n",
    "print(f'hiPCA with Zhu taxa (T^2): {hiPCA_zhutax_t2}')\n",
    "print(f'hiPCA with Zhu taxa (Q): {hiPCA_zhutax_q}')\n",
    "print(f'hiPCA with Zhu taxa (Combined): {hiPCA_zhutax}')"
   ]
  },
  {
   "cell_type": "code",
   "execution_count": null,
   "id": "e5ee1e03-d8dd-43e2-8e13-0cfed4c2d517",
   "metadata": {},
   "outputs": [],
   "source": []
  },
  {
   "cell_type": "markdown",
   "id": "e800fb60-e210-4ff4-8b28-5347fae65b8b",
   "metadata": {},
   "source": [
    "### Experiment 4"
   ]
  },
  {
   "cell_type": "code",
   "execution_count": 30,
   "id": "86048d17-88b2-4808-b8e9-f4f85f12e5b1",
   "metadata": {},
   "outputs": [],
   "source": [
    "unhealthy_tax = pd.read_csv('../../DataSets/INDEX/hiPCA/differential_expression2.txt', sep=\"\\t\")"
   ]
  },
  {
   "cell_type": "code",
   "execution_count": 31,
   "id": "a39b43da-ba47-46f4-9414-5087c44edc67",
   "metadata": {},
   "outputs": [
    {
     "name": "stdout",
     "output_type": "stream",
     "text": [
      "# Principal Components selected: 10\n"
     ]
    }
   ],
   "source": [
    "healthy_features, non_healthy_features, results = hiPCA(taxonomy, healthy, non_healthy, non_healthy_features = list(unhealthy_tax['species']))"
   ]
  },
  {
   "cell_type": "code",
   "execution_count": 32,
   "id": "f3218049-369e-46c3-8ad2-e6378a565282",
   "metadata": {},
   "outputs": [],
   "source": [
    "hiPCA_zhutax = balanced_accuracy_score(['Unhealthy' if x != 'Healthy' else 'Healthy' for x in metadata[metadata['SampleID'].isin(taxonomy.columns)]['Diagnosis']],results['Prediction Combined'])\n",
    "hiPCA_zhutax_t2 = balanced_accuracy_score(['Unhealthy' if x != 'Healthy' else 'Healthy' for x in metadata[metadata['SampleID'].isin(taxonomy.columns)]['Diagnosis']],results['Prediction T2'])\n",
    "hiPCA_zhutax_q = balanced_accuracy_score(['Unhealthy' if x != 'Healthy' else 'Healthy' for x in metadata[metadata['SampleID'].isin(taxonomy.columns)]['Diagnosis']],results['Prediction Q'])"
   ]
  },
  {
   "cell_type": "code",
   "execution_count": 33,
   "id": "56c05189-227a-42d6-b60d-83381ffe4a8e",
   "metadata": {},
   "outputs": [
    {
     "name": "stdout",
     "output_type": "stream",
     "text": [
      "Given hiPCA: 0.6726198083067092\n",
      "hiPCA with Zhu taxa (T^2): 0.6761075612353568\n",
      "hiPCA with Zhu taxa (Q): 0.691863684771033\n",
      "hiPCA with Zhu taxa (Combined): 0.7347124600638977\n"
     ]
    }
   ],
   "source": [
    "print(f'Given hiPCA: {original_hiPCA}')\n",
    "print(f'hiPCA with Zhu taxa (T^2): {hiPCA_zhutax_t2}')\n",
    "print(f'hiPCA with Zhu taxa (Q): {hiPCA_zhutax_q}')\n",
    "print(f'hiPCA with Zhu taxa (Combined): {hiPCA_zhutax}')"
   ]
  },
  {
   "cell_type": "code",
   "execution_count": null,
   "id": "a4006937-7cfa-4636-8fe7-d858e3a87166",
   "metadata": {},
   "outputs": [],
   "source": []
  },
  {
   "cell_type": "code",
   "execution_count": null,
   "id": "968c4bec-3d17-4049-b332-90c3a4665d0f",
   "metadata": {},
   "outputs": [],
   "source": []
  },
  {
   "cell_type": "markdown",
   "id": "be115654-7689-42b4-acbd-38e0aff732a9",
   "metadata": {},
   "source": [
    "### Experiment 5"
   ]
  },
  {
   "cell_type": "code",
   "execution_count": 34,
   "id": "ec557451-a048-48d1-963e-3e0e05827598",
   "metadata": {},
   "outputs": [],
   "source": [
    "unhealthy_tax = pd.read_csv('../../DataSets/INDEX/hiPCA/consensus_ks_differential_expression.txt', sep=\"\\t\")"
   ]
  },
  {
   "cell_type": "code",
   "execution_count": 35,
   "id": "2e3b8a28-9b79-4941-8a6b-24d29d4f4ef6",
   "metadata": {},
   "outputs": [
    {
     "name": "stdout",
     "output_type": "stream",
     "text": [
      "# Principal Components selected: 3\n"
     ]
    }
   ],
   "source": [
    "healthy_features, non_healthy_features, results = hiPCA(taxonomy, healthy, non_healthy, non_healthy_features = list(unhealthy_tax['species']))"
   ]
  },
  {
   "cell_type": "code",
   "execution_count": 36,
   "id": "bbbb02cf-265d-4545-a108-6e56d41cebc3",
   "metadata": {},
   "outputs": [],
   "source": [
    "hiPCA_zhutax = balanced_accuracy_score(['Unhealthy' if x != 'Healthy' else 'Healthy' for x in metadata[metadata['SampleID'].isin(taxonomy.columns)]['Diagnosis']],results['Prediction Combined'])\n",
    "hiPCA_zhutax_t2 = balanced_accuracy_score(['Unhealthy' if x != 'Healthy' else 'Healthy' for x in metadata[metadata['SampleID'].isin(taxonomy.columns)]['Diagnosis']],results['Prediction T2'])\n",
    "hiPCA_zhutax_q = balanced_accuracy_score(['Unhealthy' if x != 'Healthy' else 'Healthy' for x in metadata[metadata['SampleID'].isin(taxonomy.columns)]['Diagnosis']],results['Prediction Q'])"
   ]
  },
  {
   "cell_type": "code",
   "execution_count": 37,
   "id": "ed56501d-3b1c-44c1-8770-3e18998a9463",
   "metadata": {},
   "outputs": [
    {
     "name": "stdout",
     "output_type": "stream",
     "text": [
      "Given hiPCA: 0.6726198083067092\n",
      "hiPCA with Zhu taxa (T^2): 0.6090947816826411\n",
      "hiPCA with Zhu taxa (Q): 0.6094408945686901\n",
      "hiPCA with Zhu taxa (Combined): 0.6377742279020234\n"
     ]
    }
   ],
   "source": [
    "print(f'Given hiPCA: {original_hiPCA}')\n",
    "print(f'hiPCA with Zhu taxa (T^2): {hiPCA_zhutax_t2}')\n",
    "print(f'hiPCA with Zhu taxa (Q): {hiPCA_zhutax_q}')\n",
    "print(f'hiPCA with Zhu taxa (Combined): {hiPCA_zhutax}')"
   ]
  },
  {
   "cell_type": "code",
   "execution_count": null,
   "id": "b486fc05-a08b-46b1-97bc-1d0541b5f248",
   "metadata": {},
   "outputs": [],
   "source": []
  },
  {
   "cell_type": "code",
   "execution_count": null,
   "id": "f865e4c2-67f5-45c2-9d37-3251589e9f50",
   "metadata": {},
   "outputs": [],
   "source": []
  },
  {
   "cell_type": "markdown",
   "id": "6771e778-e510-4052-a723-2973058e6d7e",
   "metadata": {},
   "source": [
    "### Experiment 6"
   ]
  },
  {
   "cell_type": "code",
   "execution_count": 69,
   "id": "fc859980-106f-4a49-baba-4ef52892c93c",
   "metadata": {},
   "outputs": [],
   "source": [
    "new_taxa = pd.read_csv('../../DataSets/INDEX/hiPCA/tax_hmp2.csv', sep = '\\t', index_col = 0)"
   ]
  },
  {
   "cell_type": "code",
   "execution_count": 70,
   "id": "0d075ae7-b003-434a-94ad-b101dc3c6881",
   "metadata": {},
   "outputs": [],
   "source": [
    "unhealthy_tax = pd.read_csv('../../DataSets/INDEX/hiPCA/ks_camda_species.txt', sep=\"\\t\")"
   ]
  },
  {
   "cell_type": "code",
   "execution_count": 77,
   "id": "297000a0-778d-45c6-a057-42f47c0c3556",
   "metadata": {},
   "outputs": [],
   "source": [
    "unhealthy_tax = pd.read_csv('../../DataSets/INDEX/hiPCA/zhu_ks92_unhealthy_species.txt', sep=\"\\t\")"
   ]
  },
  {
   "cell_type": "code",
   "execution_count": null,
   "id": "1588f8f9-3ead-433b-a668-1e608ee121b4",
   "metadata": {},
   "outputs": [],
   "source": [
    "z"
   ]
  },
  {
   "cell_type": "code",
   "execution_count": 78,
   "id": "96da4df6-5bd3-4f0e-b986-3e80e9946257",
   "metadata": {
    "collapsed": true,
    "jupyter": {
     "outputs_hidden": true
    },
    "tags": []
   },
   "outputs": [
    {
     "name": "stdout",
     "output_type": "stream",
     "text": [
      "Entre aqui\n",
      "Feature\\Sample  Clostridium_bolteae  Clostridium_clostridioforme  \\\n",
      "CSM5FZ3N_P                 1.212788                     2.525913   \n",
      "CSM5FZ3R_P                 1.031026                     2.465184   \n",
      "CSM5FZ3T_P                -0.931003                     2.513558   \n",
      "CSM5FZ3V_P                 0.874027                     1.976450   \n",
      "CSM5FZ3X_P                -0.931003                     2.070692   \n",
      "...                             ...                          ...   \n",
      "PSMB4MBS                   0.341298                    -0.526617   \n",
      "PSMB4MC1                   0.750802                    -0.526617   \n",
      "PSMB4MC3                   0.135012                    -0.526617   \n",
      "PSMB4MC5                  -0.931003                    -0.526617   \n",
      "PSMB4MC7                   1.001476                    -0.526617   \n",
      "\n",
      "Feature\\Sample  Eubacterium_infirmum  Bacteroides_nordii  Gemella_morbillorum  \\\n",
      "CSM5FZ3N_P                 -0.034749           -0.281416            -0.034952   \n",
      "CSM5FZ3R_P                 -0.034749           -0.281416            -0.034952   \n",
      "CSM5FZ3T_P                 -0.034749           -0.281416            -0.034952   \n",
      "CSM5FZ3V_P                 -0.034749           -0.281416            -0.034952   \n",
      "CSM5FZ3X_P                 -0.034749           -0.281416            -0.034952   \n",
      "...                              ...                 ...                  ...   \n",
      "PSMB4MBS                   -0.034749           -0.281416            -0.034952   \n",
      "PSMB4MC1                   -0.034749           -0.281416            -0.034952   \n",
      "PSMB4MC3                   -0.034749           -0.281416            -0.034952   \n",
      "PSMB4MC5                   -0.034749           -0.281416            -0.034952   \n",
      "PSMB4MC7                   -0.034749           -0.281416            -0.034952   \n",
      "\n",
      "Feature\\Sample  Ruminococcus_torques  Ruminococcaceae_bacterium_D16  \\\n",
      "CSM5FZ3N_P                 -1.017072                      -0.398372   \n",
      "CSM5FZ3R_P                 -1.017072                      -0.398372   \n",
      "CSM5FZ3T_P                 -1.017072                      -0.398372   \n",
      "CSM5FZ3V_P                  0.620942                      -0.398372   \n",
      "CSM5FZ3X_P                 -1.017072                      -0.398372   \n",
      "...                              ...                            ...   \n",
      "PSMB4MBS                    1.272840                      -0.398372   \n",
      "PSMB4MC1                    1.325586                      -0.398372   \n",
      "PSMB4MC3                    0.872170                      -0.398372   \n",
      "PSMB4MC5                    1.544206                      -0.398372   \n",
      "PSMB4MC7                   -1.017072                       2.479526   \n",
      "\n",
      "Feature\\Sample  Actinomyces_odontolyticus  Peptostreptococcus_stomatis  \\\n",
      "CSM5FZ3N_P                      -0.042137                    -0.079706   \n",
      "CSM5FZ3R_P                      -0.042137                    -0.079706   \n",
      "CSM5FZ3T_P                      -0.042137                    -0.079706   \n",
      "CSM5FZ3V_P                      -0.042137                    -0.079706   \n",
      "CSM5FZ3X_P                      -0.042137                    -0.079706   \n",
      "...                                   ...                          ...   \n",
      "PSMB4MBS                        -0.042137                    -0.079706   \n",
      "PSMB4MC1                        -0.042137                    -0.079706   \n",
      "PSMB4MC3                        -0.042137                    -0.079706   \n",
      "PSMB4MC5                        -0.042137                    -0.079706   \n",
      "PSMB4MC7                        -0.042137                    -0.079706   \n",
      "\n",
      "Feature\\Sample  Clostridium_leptum  ...  Bacteroides_fragilis  \\\n",
      "CSM5FZ3N_P               -0.793650  ...              0.985645   \n",
      "CSM5FZ3R_P                0.522396  ...              0.917237   \n",
      "CSM5FZ3T_P               -0.793650  ...              1.274632   \n",
      "CSM5FZ3V_P                0.586533  ...              1.241096   \n",
      "CSM5FZ3X_P               -0.793650  ...              1.363568   \n",
      "...                            ...  ...                   ...   \n",
      "PSMB4MBS                 -0.793650  ...              1.458516   \n",
      "PSMB4MC1                  1.532093  ...              1.293993   \n",
      "PSMB4MC3                  0.739164  ...              1.183999   \n",
      "PSMB4MC5                 -0.793650  ...              1.131869   \n",
      "PSMB4MC7                 -0.793650  ...             -0.964289   \n",
      "\n",
      "Feature\\Sample  Dialister_invisus  Bacteroides_thetaiotaomicron  \\\n",
      "CSM5FZ3N_P               1.578255                      0.967109   \n",
      "CSM5FZ3R_P               1.626703                      1.008352   \n",
      "CSM5FZ3T_P               0.987822                      1.097622   \n",
      "CSM5FZ3V_P               1.655476                      1.058297   \n",
      "CSM5FZ3X_P              -0.817357                      0.938180   \n",
      "...                           ...                           ...   \n",
      "PSMB4MBS                -0.817357                     -1.372032   \n",
      "PSMB4MC1                 1.401266                      0.797073   \n",
      "PSMB4MC3                 1.455745                      0.724479   \n",
      "PSMB4MC5                 0.921217                      0.625110   \n",
      "PSMB4MC7                 1.678425                      0.720398   \n",
      "\n",
      "Feature\\Sample  Actinomyces_graevenitzii  Clostridiales_bacterium_1_7_47FAA  \\\n",
      "CSM5FZ3N_P                     -0.034958                           5.604572   \n",
      "CSM5FZ3R_P                     -0.034958                           5.916183   \n",
      "CSM5FZ3T_P                     -0.034958                          -0.206773   \n",
      "CSM5FZ3V_P                     -0.034958                           4.759923   \n",
      "CSM5FZ3X_P                     -0.034958                          -0.206773   \n",
      "...                                  ...                                ...   \n",
      "PSMB4MBS                       -0.034958                          -0.206773   \n",
      "PSMB4MC1                       -0.034958                          -0.206773   \n",
      "PSMB4MC3                       -0.034958                          -0.206773   \n",
      "PSMB4MC5                       -0.034958                          -0.206773   \n",
      "PSMB4MC7                       -0.034958                          -0.206773   \n",
      "\n",
      "Feature\\Sample  Ruminococcus_gnavus  Streptococcus_infantis  \\\n",
      "CSM5FZ3N_P                 1.095816               -0.088738   \n",
      "CSM5FZ3R_P                 0.628248               -0.088738   \n",
      "CSM5FZ3T_P                -0.994379               -0.088738   \n",
      "CSM5FZ3V_P                 0.493379               -0.088738   \n",
      "CSM5FZ3X_P                -0.994379               -0.088738   \n",
      "...                             ...                     ...   \n",
      "PSMB4MBS                   1.278369               -0.088738   \n",
      "PSMB4MC1                   0.474828               -0.088738   \n",
      "PSMB4MC3                  -0.994379               -0.088738   \n",
      "PSMB4MC5                  -0.994379               -0.088738   \n",
      "PSMB4MC7                  -0.994379               -0.088738   \n",
      "\n",
      "Feature\\Sample  Clostridium_innocuum  Fusobacterium_mortiferum  \\\n",
      "CSM5FZ3N_P                 -0.359356                 -0.083814   \n",
      "CSM5FZ3R_P                 -0.359356                 -0.083814   \n",
      "CSM5FZ3T_P                 -0.359356                 -0.083814   \n",
      "CSM5FZ3V_P                 -0.359356                 -0.083814   \n",
      "CSM5FZ3X_P                 -0.359356                 -0.083814   \n",
      "...                              ...                       ...   \n",
      "PSMB4MBS                   -0.359356                 -0.083814   \n",
      "PSMB4MC1                   -0.359356                 -0.083814   \n",
      "PSMB4MC3                   -0.359356                 -0.083814   \n",
      "PSMB4MC5                   -0.359356                 -0.083814   \n",
      "PSMB4MC7                   -0.359356                 -0.083814   \n",
      "\n",
      "Feature\\Sample  Fusobacterium_nucleatum  \n",
      "CSM5FZ3N_P                    -0.138508  \n",
      "CSM5FZ3R_P                    -0.138508  \n",
      "CSM5FZ3T_P                    -0.138508  \n",
      "CSM5FZ3V_P                    -0.138508  \n",
      "CSM5FZ3X_P                    -0.138508  \n",
      "...                                 ...  \n",
      "PSMB4MBS                      -0.138508  \n",
      "PSMB4MC1                      -0.138508  \n",
      "PSMB4MC3                      -0.138508  \n",
      "PSMB4MC5                      -0.138508  \n",
      "PSMB4MC7                      -0.138508  \n",
      "\n",
      "[1638 rows x 63 columns]\n",
      "# Principal Components selected: 46\n"
     ]
    }
   ],
   "source": [
    "healthy_features, non_healthy_features, results = hiPCA(new_taxa, [], new_taxa.columns, non_healthy_features = list(unhealthy_tax['species']), only_nonhealthy_features = True)"
   ]
  },
  {
   "cell_type": "code",
   "execution_count": 82,
   "id": "26a9d551-e59b-409c-8864-f29830ac92bb",
   "metadata": {},
   "outputs": [
    {
     "data": {
      "text/html": [
       "<div>\n",
       "<style scoped>\n",
       "    .dataframe tbody tr th:only-of-type {\n",
       "        vertical-align: middle;\n",
       "    }\n",
       "\n",
       "    .dataframe tbody tr th {\n",
       "        vertical-align: top;\n",
       "    }\n",
       "\n",
       "    .dataframe thead th {\n",
       "        text-align: right;\n",
       "    }\n",
       "</style>\n",
       "<table border=\"1\" class=\"dataframe\">\n",
       "  <thead>\n",
       "    <tr style=\"text-align: right;\">\n",
       "      <th></th>\n",
       "      <th>Sample</th>\n",
       "      <th>T2</th>\n",
       "      <th>Prediction T2</th>\n",
       "      <th>Q</th>\n",
       "      <th>Prediction Q</th>\n",
       "      <th>Combined</th>\n",
       "      <th>Prediction Combined</th>\n",
       "    </tr>\n",
       "  </thead>\n",
       "  <tbody>\n",
       "    <tr>\n",
       "      <th>0</th>\n",
       "      <td>CSM5FZ3N_P</td>\n",
       "      <td>39.768134</td>\n",
       "      <td>Healthy</td>\n",
       "      <td>29.115808</td>\n",
       "      <td>Unhealthy</td>\n",
       "      <td>3.223098</td>\n",
       "      <td>Unhealthy</td>\n",
       "    </tr>\n",
       "    <tr>\n",
       "      <th>1</th>\n",
       "      <td>CSM5FZ3R_P</td>\n",
       "      <td>44.243493</td>\n",
       "      <td>Healthy</td>\n",
       "      <td>26.603154</td>\n",
       "      <td>Unhealthy</td>\n",
       "      <td>3.070802</td>\n",
       "      <td>Unhealthy</td>\n",
       "    </tr>\n",
       "    <tr>\n",
       "      <th>3</th>\n",
       "      <td>CSM5FZ3V_P</td>\n",
       "      <td>27.126361</td>\n",
       "      <td>Healthy</td>\n",
       "      <td>17.061119</td>\n",
       "      <td>Unhealthy</td>\n",
       "      <td>1.949504</td>\n",
       "      <td>Unhealthy</td>\n",
       "    </tr>\n",
       "    <tr>\n",
       "      <th>11</th>\n",
       "      <td>CSM5FZ4E_P</td>\n",
       "      <td>57.273235</td>\n",
       "      <td>Healthy</td>\n",
       "      <td>17.330062</td>\n",
       "      <td>Unhealthy</td>\n",
       "      <td>2.453249</td>\n",
       "      <td>Unhealthy</td>\n",
       "    </tr>\n",
       "    <tr>\n",
       "      <th>12</th>\n",
       "      <td>CSM5FZ4G_P</td>\n",
       "      <td>53.507014</td>\n",
       "      <td>Healthy</td>\n",
       "      <td>21.848779</td>\n",
       "      <td>Unhealthy</td>\n",
       "      <td>2.795291</td>\n",
       "      <td>Unhealthy</td>\n",
       "    </tr>\n",
       "    <tr>\n",
       "      <th>...</th>\n",
       "      <td>...</td>\n",
       "      <td>...</td>\n",
       "      <td>...</td>\n",
       "      <td>...</td>\n",
       "      <td>...</td>\n",
       "      <td>...</td>\n",
       "      <td>...</td>\n",
       "    </tr>\n",
       "    <tr>\n",
       "      <th>1607</th>\n",
       "      <td>PSMA265T</td>\n",
       "      <td>99.774156</td>\n",
       "      <td>Unhealthy</td>\n",
       "      <td>60.990083</td>\n",
       "      <td>Unhealthy</td>\n",
       "      <td>7.013697</td>\n",
       "      <td>Unhealthy</td>\n",
       "    </tr>\n",
       "    <tr>\n",
       "      <th>1609</th>\n",
       "      <td>PSMA2668</td>\n",
       "      <td>310.127835</td>\n",
       "      <td>Unhealthy</td>\n",
       "      <td>40.464591</td>\n",
       "      <td>Unhealthy</td>\n",
       "      <td>8.535749</td>\n",
       "      <td>Unhealthy</td>\n",
       "    </tr>\n",
       "    <tr>\n",
       "      <th>1623</th>\n",
       "      <td>PSMA267P</td>\n",
       "      <td>55.738366</td>\n",
       "      <td>Healthy</td>\n",
       "      <td>18.457598</td>\n",
       "      <td>Unhealthy</td>\n",
       "      <td>2.529126</td>\n",
       "      <td>Unhealthy</td>\n",
       "    </tr>\n",
       "    <tr>\n",
       "      <th>1632</th>\n",
       "      <td>PSMB4MBK</td>\n",
       "      <td>97.404515</td>\n",
       "      <td>Unhealthy</td>\n",
       "      <td>40.873485</td>\n",
       "      <td>Unhealthy</td>\n",
       "      <td>5.186407</td>\n",
       "      <td>Unhealthy</td>\n",
       "    </tr>\n",
       "    <tr>\n",
       "      <th>1637</th>\n",
       "      <td>PSMB4MC7</td>\n",
       "      <td>26.540337</td>\n",
       "      <td>Healthy</td>\n",
       "      <td>18.027239</td>\n",
       "      <td>Unhealthy</td>\n",
       "      <td>2.026123</td>\n",
       "      <td>Unhealthy</td>\n",
       "    </tr>\n",
       "  </tbody>\n",
       "</table>\n",
       "<p>469 rows × 7 columns</p>\n",
       "</div>"
      ],
      "text/plain": [
       "          Sample          T2 Prediction T2          Q Prediction Q  Combined  \\\n",
       "0     CSM5FZ3N_P   39.768134       Healthy  29.115808    Unhealthy  3.223098   \n",
       "1     CSM5FZ3R_P   44.243493       Healthy  26.603154    Unhealthy  3.070802   \n",
       "3     CSM5FZ3V_P   27.126361       Healthy  17.061119    Unhealthy  1.949504   \n",
       "11    CSM5FZ4E_P   57.273235       Healthy  17.330062    Unhealthy  2.453249   \n",
       "12    CSM5FZ4G_P   53.507014       Healthy  21.848779    Unhealthy  2.795291   \n",
       "...          ...         ...           ...        ...          ...       ...   \n",
       "1607    PSMA265T   99.774156     Unhealthy  60.990083    Unhealthy  7.013697   \n",
       "1609    PSMA2668  310.127835     Unhealthy  40.464591    Unhealthy  8.535749   \n",
       "1623    PSMA267P   55.738366       Healthy  18.457598    Unhealthy  2.529126   \n",
       "1632    PSMB4MBK   97.404515     Unhealthy  40.873485    Unhealthy  5.186407   \n",
       "1637    PSMB4MC7   26.540337       Healthy  18.027239    Unhealthy  2.026123   \n",
       "\n",
       "     Prediction Combined  \n",
       "0              Unhealthy  \n",
       "1              Unhealthy  \n",
       "3              Unhealthy  \n",
       "11             Unhealthy  \n",
       "12             Unhealthy  \n",
       "...                  ...  \n",
       "1607           Unhealthy  \n",
       "1609           Unhealthy  \n",
       "1623           Unhealthy  \n",
       "1632           Unhealthy  \n",
       "1637           Unhealthy  \n",
       "\n",
       "[469 rows x 7 columns]"
      ]
     },
     "execution_count": 82,
     "metadata": {},
     "output_type": "execute_result"
    }
   ],
   "source": [
    "results[results['Prediction Combined'] == 'Unhealthy']"
   ]
  },
  {
   "cell_type": "code",
   "execution_count": 72,
   "id": "f100d997-2855-4751-a74a-02ba15618b95",
   "metadata": {},
   "outputs": [
    {
     "ename": "ValueError",
     "evalue": "Found input variables with inconsistent numbers of samples: [613, 1638]",
     "output_type": "error",
     "traceback": [
      "\u001b[1;31m---------------------------------------------------------------------------\u001b[0m",
      "\u001b[1;31mValueError\u001b[0m                                Traceback (most recent call last)",
      "Input \u001b[1;32mIn [72]\u001b[0m, in \u001b[0;36m<cell line: 1>\u001b[1;34m()\u001b[0m\n\u001b[1;32m----> 1\u001b[0m hiPCA_zhutax \u001b[38;5;241m=\u001b[39m \u001b[43mbalanced_accuracy_score\u001b[49m\u001b[43m(\u001b[49m\u001b[43m[\u001b[49m\u001b[38;5;124;43m'\u001b[39;49m\u001b[38;5;124;43mUnhealthy\u001b[39;49m\u001b[38;5;124;43m'\u001b[39;49m\u001b[43m \u001b[49m\u001b[38;5;28;43;01mif\u001b[39;49;00m\u001b[43m \u001b[49m\u001b[43mx\u001b[49m\u001b[43m \u001b[49m\u001b[38;5;241;43m!=\u001b[39;49m\u001b[43m \u001b[49m\u001b[38;5;124;43m'\u001b[39;49m\u001b[38;5;124;43mHealthy\u001b[39;49m\u001b[38;5;124;43m'\u001b[39;49m\u001b[43m \u001b[49m\u001b[38;5;28;43;01melse\u001b[39;49;00m\u001b[43m \u001b[49m\u001b[38;5;124;43m'\u001b[39;49m\u001b[38;5;124;43mHealthy\u001b[39;49m\u001b[38;5;124;43m'\u001b[39;49m\u001b[43m \u001b[49m\u001b[38;5;28;43;01mfor\u001b[39;49;00m\u001b[43m \u001b[49m\u001b[43mx\u001b[49m\u001b[43m \u001b[49m\u001b[38;5;129;43;01min\u001b[39;49;00m\u001b[43m \u001b[49m\u001b[43mmetadata\u001b[49m\u001b[43m[\u001b[49m\u001b[43mmetadata\u001b[49m\u001b[43m[\u001b[49m\u001b[38;5;124;43m'\u001b[39;49m\u001b[38;5;124;43mSampleID\u001b[39;49m\u001b[38;5;124;43m'\u001b[39;49m\u001b[43m]\u001b[49m\u001b[38;5;241;43m.\u001b[39;49m\u001b[43misin\u001b[49m\u001b[43m(\u001b[49m\u001b[43mtaxonomy\u001b[49m\u001b[38;5;241;43m.\u001b[39;49m\u001b[43mcolumns\u001b[49m\u001b[43m)\u001b[49m\u001b[43m]\u001b[49m\u001b[43m[\u001b[49m\u001b[38;5;124;43m'\u001b[39;49m\u001b[38;5;124;43mDiagnosis\u001b[39;49m\u001b[38;5;124;43m'\u001b[39;49m\u001b[43m]\u001b[49m\u001b[43m]\u001b[49m\u001b[43m,\u001b[49m\u001b[43mresults\u001b[49m\u001b[43m[\u001b[49m\u001b[38;5;124;43m'\u001b[39;49m\u001b[38;5;124;43mPrediction Combined\u001b[39;49m\u001b[38;5;124;43m'\u001b[39;49m\u001b[43m]\u001b[49m\u001b[43m)\u001b[49m\n\u001b[0;32m      2\u001b[0m hiPCA_zhutax_t2 \u001b[38;5;241m=\u001b[39m balanced_accuracy_score([\u001b[38;5;124m'\u001b[39m\u001b[38;5;124mUnhealthy\u001b[39m\u001b[38;5;124m'\u001b[39m \u001b[38;5;28;01mif\u001b[39;00m x \u001b[38;5;241m!=\u001b[39m \u001b[38;5;124m'\u001b[39m\u001b[38;5;124mHealthy\u001b[39m\u001b[38;5;124m'\u001b[39m \u001b[38;5;28;01melse\u001b[39;00m \u001b[38;5;124m'\u001b[39m\u001b[38;5;124mHealthy\u001b[39m\u001b[38;5;124m'\u001b[39m \u001b[38;5;28;01mfor\u001b[39;00m x \u001b[38;5;129;01min\u001b[39;00m metadata[metadata[\u001b[38;5;124m'\u001b[39m\u001b[38;5;124mSampleID\u001b[39m\u001b[38;5;124m'\u001b[39m]\u001b[38;5;241m.\u001b[39misin(taxonomy\u001b[38;5;241m.\u001b[39mcolumns)][\u001b[38;5;124m'\u001b[39m\u001b[38;5;124mDiagnosis\u001b[39m\u001b[38;5;124m'\u001b[39m]],results[\u001b[38;5;124m'\u001b[39m\u001b[38;5;124mPrediction T2\u001b[39m\u001b[38;5;124m'\u001b[39m])\n\u001b[0;32m      3\u001b[0m hiPCA_zhutax_q \u001b[38;5;241m=\u001b[39m balanced_accuracy_score([\u001b[38;5;124m'\u001b[39m\u001b[38;5;124mUnhealthy\u001b[39m\u001b[38;5;124m'\u001b[39m \u001b[38;5;28;01mif\u001b[39;00m x \u001b[38;5;241m!=\u001b[39m \u001b[38;5;124m'\u001b[39m\u001b[38;5;124mHealthy\u001b[39m\u001b[38;5;124m'\u001b[39m \u001b[38;5;28;01melse\u001b[39;00m \u001b[38;5;124m'\u001b[39m\u001b[38;5;124mHealthy\u001b[39m\u001b[38;5;124m'\u001b[39m \u001b[38;5;28;01mfor\u001b[39;00m x \u001b[38;5;129;01min\u001b[39;00m metadata[metadata[\u001b[38;5;124m'\u001b[39m\u001b[38;5;124mSampleID\u001b[39m\u001b[38;5;124m'\u001b[39m]\u001b[38;5;241m.\u001b[39misin(taxonomy\u001b[38;5;241m.\u001b[39mcolumns)][\u001b[38;5;124m'\u001b[39m\u001b[38;5;124mDiagnosis\u001b[39m\u001b[38;5;124m'\u001b[39m]],results[\u001b[38;5;124m'\u001b[39m\u001b[38;5;124mPrediction Q\u001b[39m\u001b[38;5;124m'\u001b[39m])\n",
      "File \u001b[1;32m~\\AppData\\Local\\Programs\\Python\\Python310\\lib\\site-packages\\sklearn\\metrics\\_classification.py:1995\u001b[0m, in \u001b[0;36mbalanced_accuracy_score\u001b[1;34m(y_true, y_pred, sample_weight, adjusted)\u001b[0m\n\u001b[0;32m   1926\u001b[0m \u001b[38;5;28;01mdef\u001b[39;00m \u001b[38;5;21mbalanced_accuracy_score\u001b[39m(y_true, y_pred, \u001b[38;5;241m*\u001b[39m, sample_weight\u001b[38;5;241m=\u001b[39m\u001b[38;5;28;01mNone\u001b[39;00m, adjusted\u001b[38;5;241m=\u001b[39m\u001b[38;5;28;01mFalse\u001b[39;00m):\n\u001b[0;32m   1927\u001b[0m     \u001b[38;5;124;03m\"\"\"Compute the balanced accuracy.\u001b[39;00m\n\u001b[0;32m   1928\u001b[0m \n\u001b[0;32m   1929\u001b[0m \u001b[38;5;124;03m    The balanced accuracy in binary and multiclass classification problems to\u001b[39;00m\n\u001b[1;32m   (...)\u001b[0m\n\u001b[0;32m   1993\u001b[0m \u001b[38;5;124;03m    0.625\u001b[39;00m\n\u001b[0;32m   1994\u001b[0m \u001b[38;5;124;03m    \"\"\"\u001b[39;00m\n\u001b[1;32m-> 1995\u001b[0m     C \u001b[38;5;241m=\u001b[39m \u001b[43mconfusion_matrix\u001b[49m\u001b[43m(\u001b[49m\u001b[43my_true\u001b[49m\u001b[43m,\u001b[49m\u001b[43m \u001b[49m\u001b[43my_pred\u001b[49m\u001b[43m,\u001b[49m\u001b[43m \u001b[49m\u001b[43msample_weight\u001b[49m\u001b[38;5;241;43m=\u001b[39;49m\u001b[43msample_weight\u001b[49m\u001b[43m)\u001b[49m\n\u001b[0;32m   1996\u001b[0m     \u001b[38;5;28;01mwith\u001b[39;00m np\u001b[38;5;241m.\u001b[39merrstate(divide\u001b[38;5;241m=\u001b[39m\u001b[38;5;124m\"\u001b[39m\u001b[38;5;124mignore\u001b[39m\u001b[38;5;124m\"\u001b[39m, invalid\u001b[38;5;241m=\u001b[39m\u001b[38;5;124m\"\u001b[39m\u001b[38;5;124mignore\u001b[39m\u001b[38;5;124m\"\u001b[39m):\n\u001b[0;32m   1997\u001b[0m         per_class \u001b[38;5;241m=\u001b[39m np\u001b[38;5;241m.\u001b[39mdiag(C) \u001b[38;5;241m/\u001b[39m C\u001b[38;5;241m.\u001b[39msum(axis\u001b[38;5;241m=\u001b[39m\u001b[38;5;241m1\u001b[39m)\n",
      "File \u001b[1;32m~\\AppData\\Local\\Programs\\Python\\Python310\\lib\\site-packages\\sklearn\\metrics\\_classification.py:307\u001b[0m, in \u001b[0;36mconfusion_matrix\u001b[1;34m(y_true, y_pred, labels, sample_weight, normalize)\u001b[0m\n\u001b[0;32m    222\u001b[0m \u001b[38;5;28;01mdef\u001b[39;00m \u001b[38;5;21mconfusion_matrix\u001b[39m(\n\u001b[0;32m    223\u001b[0m     y_true, y_pred, \u001b[38;5;241m*\u001b[39m, labels\u001b[38;5;241m=\u001b[39m\u001b[38;5;28;01mNone\u001b[39;00m, sample_weight\u001b[38;5;241m=\u001b[39m\u001b[38;5;28;01mNone\u001b[39;00m, normalize\u001b[38;5;241m=\u001b[39m\u001b[38;5;28;01mNone\u001b[39;00m\n\u001b[0;32m    224\u001b[0m ):\n\u001b[0;32m    225\u001b[0m     \u001b[38;5;124;03m\"\"\"Compute confusion matrix to evaluate the accuracy of a classification.\u001b[39;00m\n\u001b[0;32m    226\u001b[0m \n\u001b[0;32m    227\u001b[0m \u001b[38;5;124;03m    By definition a confusion matrix :math:`C` is such that :math:`C_{i, j}`\u001b[39;00m\n\u001b[1;32m   (...)\u001b[0m\n\u001b[0;32m    305\u001b[0m \u001b[38;5;124;03m    (0, 2, 1, 1)\u001b[39;00m\n\u001b[0;32m    306\u001b[0m \u001b[38;5;124;03m    \"\"\"\u001b[39;00m\n\u001b[1;32m--> 307\u001b[0m     y_type, y_true, y_pred \u001b[38;5;241m=\u001b[39m \u001b[43m_check_targets\u001b[49m\u001b[43m(\u001b[49m\u001b[43my_true\u001b[49m\u001b[43m,\u001b[49m\u001b[43m \u001b[49m\u001b[43my_pred\u001b[49m\u001b[43m)\u001b[49m\n\u001b[0;32m    308\u001b[0m     \u001b[38;5;28;01mif\u001b[39;00m y_type \u001b[38;5;129;01mnot\u001b[39;00m \u001b[38;5;129;01min\u001b[39;00m (\u001b[38;5;124m\"\u001b[39m\u001b[38;5;124mbinary\u001b[39m\u001b[38;5;124m\"\u001b[39m, \u001b[38;5;124m\"\u001b[39m\u001b[38;5;124mmulticlass\u001b[39m\u001b[38;5;124m\"\u001b[39m):\n\u001b[0;32m    309\u001b[0m         \u001b[38;5;28;01mraise\u001b[39;00m \u001b[38;5;167;01mValueError\u001b[39;00m(\u001b[38;5;124m\"\u001b[39m\u001b[38;5;132;01m%s\u001b[39;00m\u001b[38;5;124m is not supported\u001b[39m\u001b[38;5;124m\"\u001b[39m \u001b[38;5;241m%\u001b[39m y_type)\n",
      "File \u001b[1;32m~\\AppData\\Local\\Programs\\Python\\Python310\\lib\\site-packages\\sklearn\\metrics\\_classification.py:84\u001b[0m, in \u001b[0;36m_check_targets\u001b[1;34m(y_true, y_pred)\u001b[0m\n\u001b[0;32m     57\u001b[0m \u001b[38;5;28;01mdef\u001b[39;00m \u001b[38;5;21m_check_targets\u001b[39m(y_true, y_pred):\n\u001b[0;32m     58\u001b[0m     \u001b[38;5;124;03m\"\"\"Check that y_true and y_pred belong to the same classification task.\u001b[39;00m\n\u001b[0;32m     59\u001b[0m \n\u001b[0;32m     60\u001b[0m \u001b[38;5;124;03m    This converts multiclass or binary types to a common shape, and raises a\u001b[39;00m\n\u001b[1;32m   (...)\u001b[0m\n\u001b[0;32m     82\u001b[0m \u001b[38;5;124;03m    y_pred : array or indicator matrix\u001b[39;00m\n\u001b[0;32m     83\u001b[0m \u001b[38;5;124;03m    \"\"\"\u001b[39;00m\n\u001b[1;32m---> 84\u001b[0m     \u001b[43mcheck_consistent_length\u001b[49m\u001b[43m(\u001b[49m\u001b[43my_true\u001b[49m\u001b[43m,\u001b[49m\u001b[43m \u001b[49m\u001b[43my_pred\u001b[49m\u001b[43m)\u001b[49m\n\u001b[0;32m     85\u001b[0m     type_true \u001b[38;5;241m=\u001b[39m type_of_target(y_true, input_name\u001b[38;5;241m=\u001b[39m\u001b[38;5;124m\"\u001b[39m\u001b[38;5;124my_true\u001b[39m\u001b[38;5;124m\"\u001b[39m)\n\u001b[0;32m     86\u001b[0m     type_pred \u001b[38;5;241m=\u001b[39m type_of_target(y_pred, input_name\u001b[38;5;241m=\u001b[39m\u001b[38;5;124m\"\u001b[39m\u001b[38;5;124my_pred\u001b[39m\u001b[38;5;124m\"\u001b[39m)\n",
      "File \u001b[1;32m~\\AppData\\Local\\Programs\\Python\\Python310\\lib\\site-packages\\sklearn\\utils\\validation.py:387\u001b[0m, in \u001b[0;36mcheck_consistent_length\u001b[1;34m(*arrays)\u001b[0m\n\u001b[0;32m    385\u001b[0m uniques \u001b[38;5;241m=\u001b[39m np\u001b[38;5;241m.\u001b[39munique(lengths)\n\u001b[0;32m    386\u001b[0m \u001b[38;5;28;01mif\u001b[39;00m \u001b[38;5;28mlen\u001b[39m(uniques) \u001b[38;5;241m>\u001b[39m \u001b[38;5;241m1\u001b[39m:\n\u001b[1;32m--> 387\u001b[0m     \u001b[38;5;28;01mraise\u001b[39;00m \u001b[38;5;167;01mValueError\u001b[39;00m(\n\u001b[0;32m    388\u001b[0m         \u001b[38;5;124m\"\u001b[39m\u001b[38;5;124mFound input variables with inconsistent numbers of samples: \u001b[39m\u001b[38;5;132;01m%r\u001b[39;00m\u001b[38;5;124m\"\u001b[39m\n\u001b[0;32m    389\u001b[0m         \u001b[38;5;241m%\u001b[39m [\u001b[38;5;28mint\u001b[39m(l) \u001b[38;5;28;01mfor\u001b[39;00m l \u001b[38;5;129;01min\u001b[39;00m lengths]\n\u001b[0;32m    390\u001b[0m     )\n",
      "\u001b[1;31mValueError\u001b[0m: Found input variables with inconsistent numbers of samples: [613, 1638]"
     ]
    }
   ],
   "source": [
    "hiPCA_zhutax = balanced_accuracy_score(['Unhealthy' if x != 'Healthy' else 'Healthy' for x in metadata[metadata['SampleID'].isin(taxonomy.columns)]['Diagnosis']],results['Prediction Combined'])\n",
    "hiPCA_zhutax_t2 = balanced_accuracy_score(['Unhealthy' if x != 'Healthy' else 'Healthy' for x in metadata[metadata['SampleID'].isin(taxonomy.columns)]['Diagnosis']],results['Prediction T2'])\n",
    "hiPCA_zhutax_q = balanced_accuracy_score(['Unhealthy' if x != 'Healthy' else 'Healthy' for x in metadata[metadata['SampleID'].isin(taxonomy.columns)]['Diagnosis']],results['Prediction Q'])"
   ]
  },
  {
   "cell_type": "code",
   "execution_count": null,
   "id": "f4c569a4-aedb-485f-918d-5788a32779bf",
   "metadata": {},
   "outputs": [],
   "source": []
  },
  {
   "cell_type": "markdown",
   "id": "12d18c63-df7d-4e59-8ffe-70ad226a4d18",
   "metadata": {},
   "source": [
    "### Experiment 3"
   ]
  },
  {
   "cell_type": "markdown",
   "id": "4247010e-ee1c-4fa3-80ac-de0ea2fca7ca",
   "metadata": {},
   "source": [
    "Now we tried to fit pathways data to the KS - hiPCA"
   ]
  },
  {
   "cell_type": "code",
   "execution_count": 101,
   "id": "4f57a03d-c840-4826-8aa6-08ec66cfd4ff",
   "metadata": {},
   "outputs": [],
   "source": [
    "pathways = pd.read_csv('../../DataSets/CAMDA/pathways.txt', sep = '\\t', index_col = 0)"
   ]
  },
  {
   "cell_type": "code",
   "execution_count": 102,
   "id": "c0872116-ef54-41a0-a4e5-178f47696113",
   "metadata": {},
   "outputs": [],
   "source": [
    "pathways = pathways.T[[x for x in pathways.index if 'UNINTEGRATED' not in x]]\n",
    "pathways = pathways.T"
   ]
  },
  {
   "cell_type": "code",
   "execution_count": 103,
   "id": "5675d7f2-20db-420c-ba22-01ef73d9a4b6",
   "metadata": {},
   "outputs": [],
   "source": [
    "good_samples = []\n",
    "for c in taxonomy.columns:\n",
    "    if sum(taxonomy[c]) > 90:\n",
    "        good_samples.append(c)\n",
    "pathways_aux = pathways[good_samples]"
   ]
  },
  {
   "cell_type": "code",
   "execution_count": 104,
   "id": "44b80a21-a512-4aab-a532-38b0c35a25f7",
   "metadata": {},
   "outputs": [],
   "source": [
    "ob = list(metadata[metadata['Diagnosis'] == 'Obese']['SampleID'])"
   ]
  },
  {
   "cell_type": "code",
   "execution_count": 105,
   "id": "2b817490-9c23-4a8c-9b25-a75d7482c989",
   "metadata": {},
   "outputs": [],
   "source": [
    "healthy = list(metadata[metadata['Diagnosis'] == 'Healthy']['SampleID'])\n",
    "non_healthy = list(metadata[metadata['Diagnosis'] != 'Healthy']['SampleID'])\n",
    "non_healthy = [x for x in non_healthy if x not in ob]"
   ]
  },
  {
   "cell_type": "code",
   "execution_count": 106,
   "id": "035be7b5-8858-482d-992c-ae64c0476433",
   "metadata": {},
   "outputs": [],
   "source": [
    "pathways_healthy = pathways[[x for x in pathways_aux.columns if x in healthy]].T\n",
    "pathways_nonhealthy = pathways[[x for x in pathways_aux.columns if x in non_healthy]].T"
   ]
  },
  {
   "cell_type": "code",
   "execution_count": 107,
   "id": "f22e2468-d7b1-4926-9ed7-374a2d026841",
   "metadata": {},
   "outputs": [
    {
     "name": "stdout",
     "output_type": "stream",
     "text": [
      "# Healthy features selected by KS: 1103\n",
      "# Unheatlhy features selected by KS: 770\n",
      "# Principal Components selected: 28\n"
     ]
    }
   ],
   "source": [
    "healthy_features, non_healthy_features, results_pathways = hiPCA(pathways, healthy, non_healthy, df_ks = pathways_aux, ks = True, only_nonhealthy_features = False, method = 'asymp', p_val = 0.001)"
   ]
  },
  {
   "cell_type": "code",
   "execution_count": 108,
   "id": "947acc0d-93a5-41b2-98b1-71ffddd1ac3f",
   "metadata": {},
   "outputs": [],
   "source": [
    "ks_hiPCA_path = balanced_accuracy_score(['Unhealthy' if x != 'Healthy' else 'Healthy' for x in metadata[metadata['SampleID'].isin(taxonomy.columns)]['Diagnosis']],results_pathways['Prediction Combined'])\n",
    "ks_hiPCA_patht2 = balanced_accuracy_score(['Unhealthy' if x != 'Healthy' else 'Healthy' for x in metadata[metadata['SampleID'].isin(taxonomy.columns)]['Diagnosis']],results_pathways['Prediction T2'])\n",
    "ks_hiPCA_pathq = balanced_accuracy_score(['Unhealthy' if x != 'Healthy' else 'Healthy' for x in metadata[metadata['SampleID'].isin(taxonomy.columns)]['Diagnosis']],results_pathways['Prediction Q'])"
   ]
  },
  {
   "cell_type": "code",
   "execution_count": 109,
   "id": "17fe688e-77d7-4cc8-b3e4-92f139939371",
   "metadata": {},
   "outputs": [
    {
     "name": "stdout",
     "output_type": "stream",
     "text": [
      "Given hiPCA: 0.6726198083067092\n",
      "hiPCA with pathways (T^2): 0.6078434504792332\n",
      "hiPCA with pathways (Q): 0.512321618743344\n",
      "hiPCA with pathways (Combined): 0.6063099041533546\n"
     ]
    }
   ],
   "source": [
    "print(f'Given hiPCA: {original_hiPCA}')\n",
    "print(f'hiPCA with pathways (T^2): {ks_hiPCA_patht2}')\n",
    "print(f'hiPCA with pathways (Q): {ks_hiPCA_pathq}')\n",
    "print(f'hiPCA with pathways (Combined): {ks_hiPCA_path}')"
   ]
  },
  {
   "cell_type": "code",
   "execution_count": null,
   "id": "703b8a5b-8ad9-4b19-bf7a-93b7698bd2ab",
   "metadata": {},
   "outputs": [],
   "source": []
  },
  {
   "cell_type": "code",
   "execution_count": 110,
   "id": "dff17cd0-80ea-4ccd-996d-b79213befdb1",
   "metadata": {},
   "outputs": [],
   "source": [
    "pathways_covid = pd.read_csv('../../DataSets/COVID/CAMDA_pathways.txt', sep = '\\t', index_col = 0)"
   ]
  },
  {
   "cell_type": "code",
   "execution_count": 111,
   "id": "a2c86528-1c00-4baf-99c5-40aac821d749",
   "metadata": {},
   "outputs": [
    {
     "ename": "ValueError",
     "evalue": "at least one array or dtype is required",
     "output_type": "error",
     "traceback": [
      "\u001b[1;31m---------------------------------------------------------------------------\u001b[0m",
      "\u001b[1;31mValueError\u001b[0m                                Traceback (most recent call last)",
      "Input \u001b[1;32mIn [111]\u001b[0m, in \u001b[0;36m<cell line: 1>\u001b[1;34m()\u001b[0m\n\u001b[1;32m----> 1\u001b[0m _, _, results_hotelling_covid, results_q_covid, results_hiPCA_covid \u001b[38;5;241m=\u001b[39m \u001b[43mhiPCA\u001b[49m\u001b[43m(\u001b[49m\u001b[43mpathways_covid\u001b[49m\u001b[43m,\u001b[49m\u001b[43m \u001b[49m\u001b[43m[\u001b[49m\u001b[43m]\u001b[49m\u001b[43m,\u001b[49m\u001b[43m \u001b[49m\u001b[43m[\u001b[49m\u001b[43m]\u001b[49m\u001b[43m,\u001b[49m\u001b[43m \u001b[49m\u001b[43mhealthy_features\u001b[49m\u001b[43m \u001b[49m\u001b[38;5;241;43m=\u001b[39;49m\u001b[43m \u001b[49m\u001b[43mhealthy_features\u001b[49m\u001b[43m,\u001b[49m\u001b[43m \u001b[49m\u001b[43mnon_healthy_features\u001b[49m\u001b[43m \u001b[49m\u001b[38;5;241;43m=\u001b[39;49m\u001b[43m \u001b[49m\u001b[43mnon_healthy_features\u001b[49m\u001b[43m)\u001b[49m\n",
      "Input \u001b[1;32mIn [85]\u001b[0m, in \u001b[0;36mhiPCA\u001b[1;34m(df, healthy, non_health, df_ks, healthy_features, non_healthy_features, ks, method, p_val, only_nonhealthy_features)\u001b[0m\n\u001b[0;32m      7\u001b[0m \u001b[38;5;28;01melse\u001b[39;00m:\n\u001b[0;32m      8\u001b[0m     selected \u001b[38;5;241m=\u001b[39m transform_data(df, healthy_features, non_healthy_features)\n\u001b[1;32m---> 10\u001b[0m pca_data, pca \u001b[38;5;241m=\u001b[39m \u001b[43mget_pca_data\u001b[49m\u001b[43m(\u001b[49m\u001b[43mselected\u001b[49m\u001b[43m)\u001b[49m\n\u001b[0;32m     11\u001b[0m D, principal_components, results_hotelling, t2_threshold \u001b[38;5;241m=\u001b[39m hotelling_t2(selected, pca, pca_data)\n\u001b[0;32m     12\u001b[0m C, Theta1, Theta2, results_q, Q_alpha \u001b[38;5;241m=\u001b[39m Q_statistic(selected, pca, pca_data)\n",
      "Input \u001b[1;32mIn [81]\u001b[0m, in \u001b[0;36mget_pca_data\u001b[1;34m(df)\u001b[0m\n\u001b[0;32m      1\u001b[0m \u001b[38;5;28;01mdef\u001b[39;00m \u001b[38;5;21mget_pca_data\u001b[39m(df):\n\u001b[0;32m      2\u001b[0m     pca \u001b[38;5;241m=\u001b[39m PCA()\n\u001b[1;32m----> 4\u001b[0m     \u001b[43mpca\u001b[49m\u001b[38;5;241;43m.\u001b[39;49m\u001b[43mfit\u001b[49m\u001b[43m(\u001b[49m\u001b[43mdf\u001b[49m\u001b[43m)\u001b[49m\n\u001b[0;32m      6\u001b[0m     eigenvalues \u001b[38;5;241m=\u001b[39m pca\u001b[38;5;241m.\u001b[39mexplained_variance_\n\u001b[0;32m      7\u001b[0m     eigenvectors \u001b[38;5;241m=\u001b[39m pca\u001b[38;5;241m.\u001b[39mcomponents_\n",
      "File \u001b[1;32m~\\AppData\\Local\\Programs\\Python\\Python310\\lib\\site-packages\\sklearn\\decomposition\\_pca.py:408\u001b[0m, in \u001b[0;36mPCA.fit\u001b[1;34m(self, X, y)\u001b[0m\n\u001b[0;32m    385\u001b[0m \u001b[38;5;124;03m\"\"\"Fit the model with X.\u001b[39;00m\n\u001b[0;32m    386\u001b[0m \n\u001b[0;32m    387\u001b[0m \u001b[38;5;124;03mParameters\u001b[39;00m\n\u001b[1;32m   (...)\u001b[0m\n\u001b[0;32m    399\u001b[0m \u001b[38;5;124;03m    Returns the instance itself.\u001b[39;00m\n\u001b[0;32m    400\u001b[0m \u001b[38;5;124;03m\"\"\"\u001b[39;00m\n\u001b[0;32m    401\u001b[0m check_scalar(\n\u001b[0;32m    402\u001b[0m     \u001b[38;5;28mself\u001b[39m\u001b[38;5;241m.\u001b[39mn_oversamples,\n\u001b[0;32m    403\u001b[0m     \u001b[38;5;124m\"\u001b[39m\u001b[38;5;124mn_oversamples\u001b[39m\u001b[38;5;124m\"\u001b[39m,\n\u001b[0;32m    404\u001b[0m     min_val\u001b[38;5;241m=\u001b[39m\u001b[38;5;241m1\u001b[39m,\n\u001b[0;32m    405\u001b[0m     target_type\u001b[38;5;241m=\u001b[39mnumbers\u001b[38;5;241m.\u001b[39mIntegral,\n\u001b[0;32m    406\u001b[0m )\n\u001b[1;32m--> 408\u001b[0m \u001b[38;5;28;43mself\u001b[39;49m\u001b[38;5;241;43m.\u001b[39;49m\u001b[43m_fit\u001b[49m\u001b[43m(\u001b[49m\u001b[43mX\u001b[49m\u001b[43m)\u001b[49m\n\u001b[0;32m    409\u001b[0m \u001b[38;5;28;01mreturn\u001b[39;00m \u001b[38;5;28mself\u001b[39m\n",
      "File \u001b[1;32m~\\AppData\\Local\\Programs\\Python\\Python310\\lib\\site-packages\\sklearn\\decomposition\\_pca.py:456\u001b[0m, in \u001b[0;36mPCA._fit\u001b[1;34m(self, X)\u001b[0m\n\u001b[0;32m    450\u001b[0m \u001b[38;5;28;01mif\u001b[39;00m issparse(X):\n\u001b[0;32m    451\u001b[0m     \u001b[38;5;28;01mraise\u001b[39;00m \u001b[38;5;167;01mTypeError\u001b[39;00m(\n\u001b[0;32m    452\u001b[0m         \u001b[38;5;124m\"\u001b[39m\u001b[38;5;124mPCA does not support sparse input. See \u001b[39m\u001b[38;5;124m\"\u001b[39m\n\u001b[0;32m    453\u001b[0m         \u001b[38;5;124m\"\u001b[39m\u001b[38;5;124mTruncatedSVD for a possible alternative.\u001b[39m\u001b[38;5;124m\"\u001b[39m\n\u001b[0;32m    454\u001b[0m     )\n\u001b[1;32m--> 456\u001b[0m X \u001b[38;5;241m=\u001b[39m \u001b[38;5;28;43mself\u001b[39;49m\u001b[38;5;241;43m.\u001b[39;49m\u001b[43m_validate_data\u001b[49m\u001b[43m(\u001b[49m\n\u001b[0;32m    457\u001b[0m \u001b[43m    \u001b[49m\u001b[43mX\u001b[49m\u001b[43m,\u001b[49m\u001b[43m \u001b[49m\u001b[43mdtype\u001b[49m\u001b[38;5;241;43m=\u001b[39;49m\u001b[43m[\u001b[49m\u001b[43mnp\u001b[49m\u001b[38;5;241;43m.\u001b[39;49m\u001b[43mfloat64\u001b[49m\u001b[43m,\u001b[49m\u001b[43m \u001b[49m\u001b[43mnp\u001b[49m\u001b[38;5;241;43m.\u001b[39;49m\u001b[43mfloat32\u001b[49m\u001b[43m]\u001b[49m\u001b[43m,\u001b[49m\u001b[43m \u001b[49m\u001b[43mensure_2d\u001b[49m\u001b[38;5;241;43m=\u001b[39;49m\u001b[38;5;28;43;01mTrue\u001b[39;49;00m\u001b[43m,\u001b[49m\u001b[43m \u001b[49m\u001b[43mcopy\u001b[49m\u001b[38;5;241;43m=\u001b[39;49m\u001b[38;5;28;43mself\u001b[39;49m\u001b[38;5;241;43m.\u001b[39;49m\u001b[43mcopy\u001b[49m\n\u001b[0;32m    458\u001b[0m \u001b[43m\u001b[49m\u001b[43m)\u001b[49m\n\u001b[0;32m    460\u001b[0m \u001b[38;5;66;03m# Handle n_components==None\u001b[39;00m\n\u001b[0;32m    461\u001b[0m \u001b[38;5;28;01mif\u001b[39;00m \u001b[38;5;28mself\u001b[39m\u001b[38;5;241m.\u001b[39mn_components \u001b[38;5;129;01mis\u001b[39;00m \u001b[38;5;28;01mNone\u001b[39;00m:\n",
      "File \u001b[1;32m~\\AppData\\Local\\Programs\\Python\\Python310\\lib\\site-packages\\sklearn\\base.py:577\u001b[0m, in \u001b[0;36mBaseEstimator._validate_data\u001b[1;34m(self, X, y, reset, validate_separately, **check_params)\u001b[0m\n\u001b[0;32m    575\u001b[0m     \u001b[38;5;28;01mraise\u001b[39;00m \u001b[38;5;167;01mValueError\u001b[39;00m(\u001b[38;5;124m\"\u001b[39m\u001b[38;5;124mValidation should be done on X, y or both.\u001b[39m\u001b[38;5;124m\"\u001b[39m)\n\u001b[0;32m    576\u001b[0m \u001b[38;5;28;01melif\u001b[39;00m \u001b[38;5;129;01mnot\u001b[39;00m no_val_X \u001b[38;5;129;01mand\u001b[39;00m no_val_y:\n\u001b[1;32m--> 577\u001b[0m     X \u001b[38;5;241m=\u001b[39m check_array(X, input_name\u001b[38;5;241m=\u001b[39m\u001b[38;5;124m\"\u001b[39m\u001b[38;5;124mX\u001b[39m\u001b[38;5;124m\"\u001b[39m, \u001b[38;5;241m*\u001b[39m\u001b[38;5;241m*\u001b[39mcheck_params)\n\u001b[0;32m    578\u001b[0m     out \u001b[38;5;241m=\u001b[39m X\n\u001b[0;32m    579\u001b[0m \u001b[38;5;28;01melif\u001b[39;00m no_val_X \u001b[38;5;129;01mand\u001b[39;00m \u001b[38;5;129;01mnot\u001b[39;00m no_val_y:\n",
      "File \u001b[1;32m~\\AppData\\Local\\Programs\\Python\\Python310\\lib\\site-packages\\sklearn\\utils\\validation.py:768\u001b[0m, in \u001b[0;36mcheck_array\u001b[1;34m(array, accept_sparse, accept_large_sparse, dtype, order, copy, force_all_finite, ensure_2d, allow_nd, ensure_min_samples, ensure_min_features, estimator, input_name)\u001b[0m\n\u001b[0;32m    764\u001b[0m     pandas_requires_conversion \u001b[38;5;241m=\u001b[39m \u001b[38;5;28many\u001b[39m(\n\u001b[0;32m    765\u001b[0m         _pandas_dtype_needs_early_conversion(i) \u001b[38;5;28;01mfor\u001b[39;00m i \u001b[38;5;129;01min\u001b[39;00m dtypes_orig\n\u001b[0;32m    766\u001b[0m     )\n\u001b[0;32m    767\u001b[0m     \u001b[38;5;28;01mif\u001b[39;00m \u001b[38;5;28mall\u001b[39m(\u001b[38;5;28misinstance\u001b[39m(dtype_iter, np\u001b[38;5;241m.\u001b[39mdtype) \u001b[38;5;28;01mfor\u001b[39;00m dtype_iter \u001b[38;5;129;01min\u001b[39;00m dtypes_orig):\n\u001b[1;32m--> 768\u001b[0m         dtype_orig \u001b[38;5;241m=\u001b[39m \u001b[43mnp\u001b[49m\u001b[38;5;241;43m.\u001b[39;49m\u001b[43mresult_type\u001b[49m\u001b[43m(\u001b[49m\u001b[38;5;241;43m*\u001b[39;49m\u001b[43mdtypes_orig\u001b[49m\u001b[43m)\u001b[49m\n\u001b[0;32m    770\u001b[0m \u001b[38;5;28;01mif\u001b[39;00m dtype_numeric:\n\u001b[0;32m    771\u001b[0m     \u001b[38;5;28;01mif\u001b[39;00m dtype_orig \u001b[38;5;129;01mis\u001b[39;00m \u001b[38;5;129;01mnot\u001b[39;00m \u001b[38;5;28;01mNone\u001b[39;00m \u001b[38;5;129;01mand\u001b[39;00m dtype_orig\u001b[38;5;241m.\u001b[39mkind \u001b[38;5;241m==\u001b[39m \u001b[38;5;124m\"\u001b[39m\u001b[38;5;124mO\u001b[39m\u001b[38;5;124m\"\u001b[39m:\n\u001b[0;32m    772\u001b[0m         \u001b[38;5;66;03m# if input is object, convert to float.\u001b[39;00m\n",
      "File \u001b[1;32m<__array_function__ internals>:180\u001b[0m, in \u001b[0;36mresult_type\u001b[1;34m(*args, **kwargs)\u001b[0m\n",
      "\u001b[1;31mValueError\u001b[0m: at least one array or dtype is required"
     ]
    }
   ],
   "source": [
    "_, _, results_hotelling_covid, results_q_covid, results_hiPCA_covid = hiPCA(pathways_covid, [], [], healthy_features = healthy_features, non_healthy_features = non_healthy_features)"
   ]
  },
  {
   "cell_type": "code",
   "execution_count": null,
   "id": "22b617c1-c8ac-412e-a689-09ea796891dc",
   "metadata": {},
   "outputs": [],
   "source": []
  }
 ],
 "metadata": {
  "kernelspec": {
   "display_name": "Python 3 (ipykernel)",
   "language": "python",
   "name": "python3"
  },
  "language_info": {
   "codemirror_mode": {
    "name": "ipython",
    "version": 3
   },
   "file_extension": ".py",
   "mimetype": "text/x-python",
   "name": "python",
   "nbconvert_exporter": "python",
   "pygments_lexer": "ipython3",
   "version": "3.10.5"
  }
 },
 "nbformat": 4,
 "nbformat_minor": 5
}
