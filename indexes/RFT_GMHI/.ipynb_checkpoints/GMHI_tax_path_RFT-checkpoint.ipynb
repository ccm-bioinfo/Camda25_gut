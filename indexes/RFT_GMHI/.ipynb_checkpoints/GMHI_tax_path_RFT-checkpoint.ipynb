{
 "cells": [
  {
   "cell_type": "markdown",
   "id": "e1bb60bb-cad5-479e-a566-83b2dfac4391",
   "metadata": {},
   "source": [
    "<h1>Notebook para calcular el indice GMHI para tax, path y el Random Forest Tree </h1>"
   ]
  },
  {
   "cell_type": "code",
   "execution_count": 194,
   "id": "1c9c2c44-2ddd-4cf7-be78-1d653b0cd3da",
   "metadata": {
    "tags": []
   },
   "outputs": [],
   "source": [
    "#Librerias que se utilizarán\n",
    "import pandas as pd\n",
    "import numpy as np"
   ]
  },
  {
   "cell_type": "markdown",
   "id": "a67b0fc9-6149-4029-b766-7b0947174239",
   "metadata": {},
   "source": [
    "<h3>La siguiente función cálcula las proporción presencia de las especies $m$ en las muestras saludables y en las no saludables, denotadas por $p_{H,m}$ y $p_{N,m}$, respectivamente. Después, se cálculan las métricas $f_H=\\frac{p_{H,m}}{p_{N,m}}$, $f_N=\\frac{p_{N,m}}{p_{H,m}}$ ,$d_H=p_{H,m}-p_{N,m}$ y $d_N=p_{N,m}-p_{H,m}$ </h3>"
   ]
  },
  {
   "cell_type": "code",
   "execution_count": 195,
   "id": "933e3d23-736e-43d3-95ce-b52bfccc3bb8",
   "metadata": {
    "tags": []
   },
   "outputs": [],
   "source": [
    "def get_fH_fN_dH_dN(meta,tax):\n",
    "    ######### Recibe los data frames de los metadatos y la taxonomia.\n",
    "    \n",
    "    #Se obtienen los id's de las muestras saludables identificadas en los metadatos y después \n",
    "    #observamos la taxonomia de las muestras saludables\n",
    "    healthy_id = meta[meta['Diagnosis']=='Healthy']['SampleID']\n",
    "    tax_healthy = tax[healthy_id]\n",
    "    \n",
    "    #Se obtienen los id's de muestras no saludables y despues se observa la taxonmia de estas muestras\n",
    "    no_healthy_id = meta[meta['Diagnosis']!='Healthy']['SampleID']\n",
    "    tax_no_healthy = tax[no_healthy_id]\n",
    "    \n",
    "    #Se obtienen todas las especies de todas las muestras\n",
    "    species = tax.index\n",
    "    \n",
    "    #Definimos lower para establecer una cota y evitar divisiones entre 0\n",
    "    lower=1e-05\n",
    "    \n",
    "    #Se crea un Data Frame que tendrá las metricas como columnas y a las especies como index\n",
    "    metrics=pd.DataFrame(index=species,columns=['f_H','f_N','d_H','d_N'])\n",
    "    \n",
    "    #Este ciclo obtiene para cada especie m las prevalencias en las muestras saludables p_H y no saludables P_N\n",
    "    #Posteriormente se  agregan f_H,f_N, d_H y d_N al data frame metric\n",
    "    for specie in species:\n",
    "        \n",
    "        #Se localiza la especie en todas las muestras healthy y se obtiene su presencia absoluta\n",
    "        specie_in_H=tax_healthy.loc[specie,:]\n",
    "        abs_pres_H=len(specie_in_H[specie_in_H!=0])\n",
    "        \n",
    "        #Se localiza la especie en todas las muestras no-healthy y se obtiene su presencia absoluta\n",
    "        specie_in_N=tax_no_healthy.loc[specie,:]\n",
    "        abs_pres_N=len(specie_in_N[specie_in_N!=0])\n",
    "        \n",
    "        #Se obtiene PH y PN de la especie, tomando en cuenta que si el resultado es 0, entonces se intercambia por la cota 1e-05\n",
    "        PH=np.divide(abs_pres_H,len(specie_in_H),out=np.asanyarray(lower),where=(abs_pres_H!=0))\n",
    "        PN=np.divide(abs_pres_N,len(specie_in_N),out=np.asanyarray(lower),where=(abs_pres_N!=0))\n",
    "        metrics.loc[specie,:]=[np.divide(PH,PN),np.divide(PN,PH),PH-PN,PN-PH]\n",
    "    return metrics\n",
    "\n",
    "######### Regresa un DataFrame en el que para cada especie se obtienen sus metricas f_H,f_N,d_H y d_N"
   ]
  },
  {
   "cell_type": "markdown",
   "id": "f1630472-db1c-47ed-83d4-da724c7ab565",
   "metadata": {},
   "source": [
    "<h3> En la siguiente función se calculan los conjuntos de especies $M_H$ de las especies con más presencia en las muestras saludables y $M_N$\n",
    "como las especies en las no saludables. Esto, usando los parámetros $\\theta_f$ y $\\theta_N$.</h3>"
   ]
  },
  {
   "cell_type": "code",
   "execution_count": 196,
   "id": "5e6fc0df-3941-4955-b710-e3d2610b50b5",
   "metadata": {
    "tags": []
   },
   "outputs": [],
   "source": [
    "def get_MH_MN(metrics,theta_f,theta_d):\n",
    "    ######### Recibe el conjunto de metricas para cada especie y los parámetros de comparación\n",
    "    \n",
    "    \n",
    "    #Se obtienen las especies beneficiosas que son mayores a los parametros theta_f y theta_d\n",
    "    health_species_pass_theta_f=set(metrics[metrics['f_H']>=theta_f].index)\n",
    "    health_species_pass_theta_d=set(metrics[metrics['d_H']>=theta_d].index)\n",
    "    \n",
    "    #Se obtienen las especies dañinas que son mayores a los parametros theta_f y theta_d\n",
    "    no_health_species_pass_theta_f=set(metrics[metrics['f_N']>=theta_f].index)\n",
    "    no_health_species_pass_theta_d=set(metrics[metrics['d_N']>=theta_d].index)\n",
    "    \n",
    "    #Se definen los conjuntos de las especies beneficiosas y dañinas que superan ambos parámetros\n",
    "    MH=health_species_pass_theta_f & health_species_pass_theta_d\n",
    "    MN=no_health_species_pass_theta_f & no_health_species_pass_theta_d\n",
    "    \n",
    "    print('|MH|=', len(MH) )\n",
    "    print('|MN|=', len(MN))        \n",
    "    return MH,MN\n",
    "\n",
    "######### Regresa los conjuntos de especies identificadas beneficiosas MH y dañinas MN, de acuerdo a los parámetros"
   ]
  },
  {
   "cell_type": "markdown",
   "id": "ac4871b1-a829-483c-bc5f-f65e531a0c93",
   "metadata": {
    "jp-MarkdownHeadingCollapsed": true,
    "tags": []
   },
   "source": [
    "<h3>La función get_Psi cálcula $\\Psi_{{M_H},i}=\\frac{R_{{M_H},i}}{|M_H|} \\sum_{j\\in I_{M_H}}|n_{j,i}ln(n_{j,i})|$ o $\\Psi_{{M_N},i}$ para la muestra $i$.\n",
    "Aquí: \n",
    "<ul>\n",
    "  <li>$R_{{M_H},i}$ es la riqueza de las especies de $M_H$ en la muestra $i$. </li>\n",
    "  <li>$|M_H|$ es el tamaño de el conjunto $M_H$.</li>\n",
    "  <li>$I_{M_H}$ es el conjunto de indices de $M_H$.</li>\n",
    "  <li>$n_{j,i}$ es la abundancia relativa de la especie $j$ en la muestra $i$.</li>\n",
    "</ul>\n",
    "    Análogamente se calcula $\\Psi_{{M_N},i}$ para la muestra i.\n",
    "</h3>"
   ]
  },
  {
   "cell_type": "code",
   "execution_count": 197,
   "id": "3d50f969-c974-4e07-b57c-8363aa3d3325",
   "metadata": {
    "tags": []
   },
   "outputs": [],
   "source": [
    "def get_Psi(set_M,sample):\n",
    "    ######### Recibe el conjunto M_H o M_N y la muestra con la presencia relativa de cada especie\n",
    "    \n",
    "    \n",
    "    #M_in_sample es el conjunto M_H o M_N intersección las especies presentes en la muestra i\n",
    "    M_in_sample=set(sample[sample!=0].index) & set_M\n",
    "    \n",
    "    #Se calcula la R_M\n",
    "    R_M_sample=np.divide(len(M_in_sample),len(set_M))\n",
    "    \n",
    "    #Se obtiene el array n, que contiene las abundanicas relativas de las especies presentes de M en la muestra i\n",
    "    #Posteriormente se calcula el logaritmo y la suma\n",
    "    n=sample[sample!=0][list(M_in_sample)]\n",
    "    log_n=np.log(n)\n",
    "    sum_nlnn=np.sum(n*log_n)\n",
    "    \n",
    "    #Finalmente se recupera Psi para la muestra i y el conjunto M\n",
    "    Psi=np.divide(R_M_sample,len(set_M))*np.absolute(sum_nlnn)\n",
    "    \n",
    "    #Se evita que el caso Psi sea igual a 0 para evitar división entre 0 en la siguiente función. \n",
    "    if Psi==0:\n",
    "        Psi=1e-05\n",
    "    return Psi\n",
    "\n",
    "######### Regresa el número Psi asociado a la muestra i y  al conjunto M_H o M_N.   "
   ]
  },
  {
   "cell_type": "markdown",
   "id": "cda4a760-2fff-49ec-bfe8-830fd6a23c0e",
   "metadata": {},
   "source": [
    "<h3>get_all_GMHI llama a todas las funciones anteriores para calcular todos los $\\text{GMHI}=log_{10}\\frac{\\Psi_{{M_H},i}}{\\Psi_{{M_N},i}}$ de cada muestra $i$.\n",
    "</h3>"
   ]
  },
  {
   "cell_type": "code",
   "execution_count": 198,
   "id": "382b4b2b-fb97-4d52-9dd3-b1c035f784a5",
   "metadata": {
    "tags": []
   },
   "outputs": [],
   "source": [
    "def get_all_GMHI(tax,MH,MN):\n",
    "    ######### Se ingresa la taxonomia, el conjunto de especies MH y MN.\n",
    "    \n",
    "\n",
    "    #Se crea la variable GMHI, una serie de pandas que tiene como indice el nombre de la muestra y como información su indice GMHI.\n",
    "    #Esta serie se llenará con un ciclo for, que recorre todas las especies\n",
    "    samples=tax.columns \n",
    "    GMHI=pd.Series(index=samples,name='GMHI',dtype='float64')\n",
    "    for sample in samples:\n",
    "        \n",
    "        #Se obtiene Psi_MH y Psi_MN con la función get_Psi\n",
    "        Psi_MH=get_Psi(MH,tax[sample])\n",
    "        Psi_MN=get_Psi(MN,tax[sample])\n",
    "        \n",
    "        #Se hace el cociente y se evalua en el logaritmo base 10. Posteriormente se agrega la información a la serie GMHI\n",
    "        GMHI_sample=np.log10(np.divide(Psi_MH,Psi_MN))\n",
    "        GMHI[sample]=GMHI_sample\n",
    "        \n",
    "    return GMHI \n",
    "\n",
    "######### Se regresa la serie con el índice GMHI de cada muestra"
   ]
  },
  {
   "cell_type": "code",
   "execution_count": 199,
   "id": "039eb17f-9b84-4133-bd57-e7a18a522242",
   "metadata": {
    "tags": []
   },
   "outputs": [],
   "source": [
    "def get_accuracy(GMHI,meta):\n",
    "    #Se recibe el GMHI obtenido y los metadatos para comparar la efectividad de la predicción\n",
    "    \n",
    "#     #En diagnosis se almacenan los diagnosticos de cada muestra\n",
    "#     diagnosis=meta['Diagnosis'].copy(deep=False)\n",
    "#     diagnosis.index=meta['SampleID']\n",
    "    \n",
    "#     #Se evaluan los verdaderos positivos y los verdaderos negativos. Posteriormente se obtiene el accuracy\n",
    "#     true_positive=GMHI[diagnosis=='Healthy'][GMHI>0].count()\n",
    "#     true_negative=GMHI[diagnosis!='Healthy'][GMHI<0].count()\n",
    "#     accuracy=np.divide(true_positive+true_negative,GMHI.count())\n",
    "    \n",
    "    \n",
    "    return balanced_accuracy_score(['Unhealthy' if x != 'Healthy' else 'Healthy' for x in meta['Diagnosis']], ['Unhealthy' if x < 0 else 'Healthy' for x in list(GMHI)])\n",
    "    return accuracy\n",
    "\n",
    "######### Se regresa el accuracy obtenido"
   ]
  },
  {
   "cell_type": "markdown",
   "id": "59faeac8-9d99-49ec-b1cd-e166375b1ec1",
   "metadata": {},
   "source": [
    "<h3> Se cargan los datos de CAMDA</h3>"
   ]
  },
  {
   "cell_type": "code",
   "execution_count": 200,
   "id": "6f40c361-ff6c-4142-a8c7-64e3fc279606",
   "metadata": {
    "tags": []
   },
   "outputs": [],
   "source": [
    "meta = pd.read_csv('../../DataSets/CAMDA/metadata.txt', sep=\"\\t\")\n",
    "tax=pd.read_csv('../../DataSets/CAMDA/taxonomy.txt',sep='\\t',index_col=0)\n",
    "metrics=get_fH_fN_dH_dN(meta,tax)"
   ]
  },
  {
   "cell_type": "markdown",
   "id": "ba7bf02e-8400-4a6b-a3b7-1ad04213c4e9",
   "metadata": {},
   "source": [
    "<h2>Se calculan los conjuntos de especies buenas y malas, sin despreciar las obtenidas en el articulo de GMHI, es decir, se agregan. Con estos conjuntos se calcularán posteriormente los indices GMHI de taxonomia para cualquier otro metagenoma.</h2>"
   ]
  },
  {
   "cell_type": "code",
   "execution_count": 201,
   "id": "99fef6d9-d9ab-43f7-85a5-16b15a06c1d3",
   "metadata": {
    "tags": []
   },
   "outputs": [
    {
     "name": "stdout",
     "output_type": "stream",
     "text": [
      "|MH|= 143\n",
      "|MN|= 19\n"
     ]
    }
   ],
   "source": [
    "theta_f=2.5\n",
    "theta_d=0.1\n",
    "MH,MN=get_MH_MN(metrics,theta_f,theta_d)"
   ]
  },
  {
   "cell_type": "markdown",
   "id": "4b351056-64d3-40d5-9849-47b63c218599",
   "metadata": {},
   "source": [
    "<h3>Se cargan las especies buenas y malas de artículo de GMHI y se depuran de acuerdo al formato </h3>"
   ]
  },
  {
   "cell_type": "code",
   "execution_count": 202,
   "id": "ea27179d-5e7e-40ac-b412-1769376841e2",
   "metadata": {
    "tags": []
   },
   "outputs": [],
   "source": [
    "MH_test=pd.read_csv('data/MH_species.txt', sep=\"\\t\", index_col=0)\n",
    "MN_test=pd.read_csv('data/MN_species.txt', sep='\\t',index_col=0)\n",
    "MH_estandar=set()\n",
    "for i in MH_test.index:\n",
    "    MH_estandar.add(i[3:])\n",
    "MN_estandar=set()    \n",
    "for i in MN_test.index:\n",
    "    MN_estandar.add(i[3:])"
   ]
  },
  {
   "cell_type": "code",
   "execution_count": 203,
   "id": "bf9f74ff-a1be-49ae-8aef-e3625dc7ac70",
   "metadata": {
    "tags": []
   },
   "outputs": [],
   "source": [
    "H=MH_estandar.union(MH)\n",
    "N=MN_estandar.union(MN)"
   ]
  },
  {
   "cell_type": "code",
   "execution_count": 204,
   "id": "6c5f33ce-f153-4d94-8259-4797f3a2cc89",
   "metadata": {
    "tags": []
   },
   "outputs": [
    {
     "name": "stdout",
     "output_type": "stream",
     "text": [
      "El accuracy obtenido es de 76.83972310969116 %\n"
     ]
    },
    {
     "data": {
      "text/plain": [
       "SRR5946989    3.040186\n",
       "SRR5983265    1.512590\n",
       "SRR5946777    3.030951\n",
       "SRR5946822   -2.020200\n",
       "SRR5946857    1.311124\n",
       "                ...   \n",
       "SRR5946648   -0.665628\n",
       "SRR5946925    1.504066\n",
       "ERR209694     0.916405\n",
       "SRR5946668   -3.895397\n",
       "ERR209312     2.355977\n",
       "Name: GMHI, Length: 613, dtype: float64"
      ]
     },
     "execution_count": 204,
     "metadata": {},
     "output_type": "execute_result"
    }
   ],
   "source": [
    "#Se calcula el GMHI de cada muestra y también se obtiene el data frame de los metadatos\n",
    "GMHI=get_all_GMHI(tax,H,N)\n",
    "    \n",
    "accuracy=get_accuracy(GMHI,meta)\n",
    "\n",
    "print('El accuracy obtenido es de', accuracy*100 ,'%')\n",
    "GMHI"
   ]
  },
  {
   "cell_type": "markdown",
   "id": "cc109ae5-95d5-4aaa-bd8a-1a04a52a17a2",
   "metadata": {},
   "source": [
    "<h3> Es importante aclarar que se eligieron los parámetros tales que maximizan el accuracy de acuerdo a los datos de CAMDA. Este índice puede mejorarse al elegir un conjunto de muestras mayor</h3>"
   ]
  },
  {
   "cell_type": "markdown",
   "id": "8cd569d3-dc9f-43b1-9fba-c25dde7effd0",
   "metadata": {},
   "source": [
    "<h1> Se experimentó usar el GMHI aplicado a pathways para ver si con esto es posible predecir los estados de la muestra</h1>"
   ]
  },
  {
   "cell_type": "code",
   "execution_count": 205,
   "id": "96bcef89-ebea-45a3-bee3-3438725bc2cc",
   "metadata": {
    "tags": []
   },
   "outputs": [
    {
     "data": {
      "text/html": [
       "<div>\n",
       "<style scoped>\n",
       "    .dataframe tbody tr th:only-of-type {\n",
       "        vertical-align: middle;\n",
       "    }\n",
       "\n",
       "    .dataframe tbody tr th {\n",
       "        vertical-align: top;\n",
       "    }\n",
       "\n",
       "    .dataframe thead th {\n",
       "        text-align: right;\n",
       "    }\n",
       "</style>\n",
       "<table border=\"1\" class=\"dataframe\">\n",
       "  <thead>\n",
       "    <tr style=\"text-align: right;\">\n",
       "      <th></th>\n",
       "      <th>SRR5946989</th>\n",
       "      <th>SRR5983265</th>\n",
       "      <th>SRR5946777</th>\n",
       "      <th>SRR5946822</th>\n",
       "      <th>SRR5946857</th>\n",
       "      <th>SRR5946780</th>\n",
       "      <th>ERR209782</th>\n",
       "      <th>SRR5936213</th>\n",
       "      <th>SRR5947045</th>\n",
       "      <th>SRR5947812</th>\n",
       "      <th>...</th>\n",
       "      <th>SRR5947830</th>\n",
       "      <th>ERR209403</th>\n",
       "      <th>SRR5947050</th>\n",
       "      <th>ERR209519</th>\n",
       "      <th>SRR5935745</th>\n",
       "      <th>SRR5946648</th>\n",
       "      <th>SRR5946925</th>\n",
       "      <th>ERR209694</th>\n",
       "      <th>SRR5946668</th>\n",
       "      <th>ERR209312</th>\n",
       "    </tr>\n",
       "    <tr>\n",
       "      <th># Pathway</th>\n",
       "      <th></th>\n",
       "      <th></th>\n",
       "      <th></th>\n",
       "      <th></th>\n",
       "      <th></th>\n",
       "      <th></th>\n",
       "      <th></th>\n",
       "      <th></th>\n",
       "      <th></th>\n",
       "      <th></th>\n",
       "      <th></th>\n",
       "      <th></th>\n",
       "      <th></th>\n",
       "      <th></th>\n",
       "      <th></th>\n",
       "      <th></th>\n",
       "      <th></th>\n",
       "      <th></th>\n",
       "      <th></th>\n",
       "      <th></th>\n",
       "      <th></th>\n",
       "    </tr>\n",
       "  </thead>\n",
       "  <tbody>\n",
       "    <tr>\n",
       "      <th>UNINTEGRATED|g__Absiella.s__Absiella_dolichum</th>\n",
       "      <td>0.0</td>\n",
       "      <td>0.0</td>\n",
       "      <td>0.0</td>\n",
       "      <td>0.00000</td>\n",
       "      <td>0.0</td>\n",
       "      <td>0.0</td>\n",
       "      <td>0.0</td>\n",
       "      <td>0.0</td>\n",
       "      <td>0.0</td>\n",
       "      <td>0.000000</td>\n",
       "      <td>...</td>\n",
       "      <td>0.0</td>\n",
       "      <td>0.000000</td>\n",
       "      <td>0.000000</td>\n",
       "      <td>0.0</td>\n",
       "      <td>0.0</td>\n",
       "      <td>0.0</td>\n",
       "      <td>0.0</td>\n",
       "      <td>0.0</td>\n",
       "      <td>0.000000</td>\n",
       "      <td>0.0</td>\n",
       "    </tr>\n",
       "    <tr>\n",
       "      <th>UNINTEGRATED|g__Acetobacter.s__Acetobacter_sp_CAG_267</th>\n",
       "      <td>0.0</td>\n",
       "      <td>0.0</td>\n",
       "      <td>0.0</td>\n",
       "      <td>0.00000</td>\n",
       "      <td>0.0</td>\n",
       "      <td>0.0</td>\n",
       "      <td>0.0</td>\n",
       "      <td>0.0</td>\n",
       "      <td>0.0</td>\n",
       "      <td>0.000000</td>\n",
       "      <td>...</td>\n",
       "      <td>0.0</td>\n",
       "      <td>0.000000</td>\n",
       "      <td>0.000000</td>\n",
       "      <td>0.0</td>\n",
       "      <td>0.0</td>\n",
       "      <td>0.0</td>\n",
       "      <td>0.0</td>\n",
       "      <td>0.0</td>\n",
       "      <td>0.000000</td>\n",
       "      <td>0.0</td>\n",
       "    </tr>\n",
       "    <tr>\n",
       "      <th>UNINTEGRATED|g__Acetobacter.s__Acetobacter_sp_CAG_977</th>\n",
       "      <td>0.0</td>\n",
       "      <td>0.0</td>\n",
       "      <td>0.0</td>\n",
       "      <td>0.00000</td>\n",
       "      <td>0.0</td>\n",
       "      <td>0.0</td>\n",
       "      <td>0.0</td>\n",
       "      <td>0.0</td>\n",
       "      <td>0.0</td>\n",
       "      <td>0.000000</td>\n",
       "      <td>...</td>\n",
       "      <td>0.0</td>\n",
       "      <td>0.000000</td>\n",
       "      <td>0.000000</td>\n",
       "      <td>0.0</td>\n",
       "      <td>0.0</td>\n",
       "      <td>0.0</td>\n",
       "      <td>0.0</td>\n",
       "      <td>0.0</td>\n",
       "      <td>0.000000</td>\n",
       "      <td>0.0</td>\n",
       "    </tr>\n",
       "    <tr>\n",
       "      <th>UNINTEGRATED|g__Acholeplasma.s__Acholeplasma_sp_CAG_878</th>\n",
       "      <td>0.0</td>\n",
       "      <td>0.0</td>\n",
       "      <td>0.0</td>\n",
       "      <td>0.00000</td>\n",
       "      <td>0.0</td>\n",
       "      <td>0.0</td>\n",
       "      <td>0.0</td>\n",
       "      <td>0.0</td>\n",
       "      <td>0.0</td>\n",
       "      <td>0.000000</td>\n",
       "      <td>...</td>\n",
       "      <td>0.0</td>\n",
       "      <td>0.009803</td>\n",
       "      <td>0.000000</td>\n",
       "      <td>0.0</td>\n",
       "      <td>0.0</td>\n",
       "      <td>0.0</td>\n",
       "      <td>0.0</td>\n",
       "      <td>0.0</td>\n",
       "      <td>0.000000</td>\n",
       "      <td>0.0</td>\n",
       "    </tr>\n",
       "    <tr>\n",
       "      <th>UNINTEGRATED|g__Acidaminococcus.s__Acidaminococcus_intestini</th>\n",
       "      <td>0.0</td>\n",
       "      <td>0.0</td>\n",
       "      <td>0.0</td>\n",
       "      <td>0.02683</td>\n",
       "      <td>0.0</td>\n",
       "      <td>0.0</td>\n",
       "      <td>0.0</td>\n",
       "      <td>0.0</td>\n",
       "      <td>0.0</td>\n",
       "      <td>0.000000</td>\n",
       "      <td>...</td>\n",
       "      <td>0.0</td>\n",
       "      <td>0.000000</td>\n",
       "      <td>0.000000</td>\n",
       "      <td>0.0</td>\n",
       "      <td>0.0</td>\n",
       "      <td>0.0</td>\n",
       "      <td>0.0</td>\n",
       "      <td>0.0</td>\n",
       "      <td>0.000000</td>\n",
       "      <td>0.0</td>\n",
       "    </tr>\n",
       "    <tr>\n",
       "      <th>...</th>\n",
       "      <td>...</td>\n",
       "      <td>...</td>\n",
       "      <td>...</td>\n",
       "      <td>...</td>\n",
       "      <td>...</td>\n",
       "      <td>...</td>\n",
       "      <td>...</td>\n",
       "      <td>...</td>\n",
       "      <td>...</td>\n",
       "      <td>...</td>\n",
       "      <td>...</td>\n",
       "      <td>...</td>\n",
       "      <td>...</td>\n",
       "      <td>...</td>\n",
       "      <td>...</td>\n",
       "      <td>...</td>\n",
       "      <td>...</td>\n",
       "      <td>...</td>\n",
       "      <td>...</td>\n",
       "      <td>...</td>\n",
       "      <td>...</td>\n",
       "    </tr>\n",
       "    <tr>\n",
       "      <th>VALSYN-PWY: L-valine biosynthesis|g__Veillonella.s__Veillonella_rogosae</th>\n",
       "      <td>0.0</td>\n",
       "      <td>0.0</td>\n",
       "      <td>0.0</td>\n",
       "      <td>0.00000</td>\n",
       "      <td>0.0</td>\n",
       "      <td>0.0</td>\n",
       "      <td>0.0</td>\n",
       "      <td>0.0</td>\n",
       "      <td>0.0</td>\n",
       "      <td>0.000004</td>\n",
       "      <td>...</td>\n",
       "      <td>0.0</td>\n",
       "      <td>0.000000</td>\n",
       "      <td>0.000002</td>\n",
       "      <td>0.0</td>\n",
       "      <td>0.0</td>\n",
       "      <td>0.0</td>\n",
       "      <td>0.0</td>\n",
       "      <td>0.0</td>\n",
       "      <td>0.000002</td>\n",
       "      <td>0.0</td>\n",
       "    </tr>\n",
       "    <tr>\n",
       "      <th>VALSYN-PWY: L-valine biosynthesis|g__Veillonella.s__Veillonella_seminalis</th>\n",
       "      <td>0.0</td>\n",
       "      <td>0.0</td>\n",
       "      <td>0.0</td>\n",
       "      <td>0.00000</td>\n",
       "      <td>0.0</td>\n",
       "      <td>0.0</td>\n",
       "      <td>0.0</td>\n",
       "      <td>0.0</td>\n",
       "      <td>0.0</td>\n",
       "      <td>0.000000</td>\n",
       "      <td>...</td>\n",
       "      <td>0.0</td>\n",
       "      <td>0.000000</td>\n",
       "      <td>0.000000</td>\n",
       "      <td>0.0</td>\n",
       "      <td>0.0</td>\n",
       "      <td>0.0</td>\n",
       "      <td>0.0</td>\n",
       "      <td>0.0</td>\n",
       "      <td>0.000000</td>\n",
       "      <td>0.0</td>\n",
       "    </tr>\n",
       "    <tr>\n",
       "      <th>VALSYN-PWY: L-valine biosynthesis|g__Veillonella.s__Veillonella_tobetsuensis</th>\n",
       "      <td>0.0</td>\n",
       "      <td>0.0</td>\n",
       "      <td>0.0</td>\n",
       "      <td>0.00000</td>\n",
       "      <td>0.0</td>\n",
       "      <td>0.0</td>\n",
       "      <td>0.0</td>\n",
       "      <td>0.0</td>\n",
       "      <td>0.0</td>\n",
       "      <td>0.000000</td>\n",
       "      <td>...</td>\n",
       "      <td>0.0</td>\n",
       "      <td>0.000000</td>\n",
       "      <td>0.000000</td>\n",
       "      <td>0.0</td>\n",
       "      <td>0.0</td>\n",
       "      <td>0.0</td>\n",
       "      <td>0.0</td>\n",
       "      <td>0.0</td>\n",
       "      <td>0.000000</td>\n",
       "      <td>0.0</td>\n",
       "    </tr>\n",
       "    <tr>\n",
       "      <th>VALSYN-PWY: L-valine biosynthesis|g__Victivallales_unclassified.s__Victivallales_bacterium_CCUG_44730</th>\n",
       "      <td>0.0</td>\n",
       "      <td>0.0</td>\n",
       "      <td>0.0</td>\n",
       "      <td>0.00000</td>\n",
       "      <td>0.0</td>\n",
       "      <td>0.0</td>\n",
       "      <td>0.0</td>\n",
       "      <td>0.0</td>\n",
       "      <td>0.0</td>\n",
       "      <td>0.000000</td>\n",
       "      <td>...</td>\n",
       "      <td>0.0</td>\n",
       "      <td>0.000000</td>\n",
       "      <td>0.000000</td>\n",
       "      <td>0.0</td>\n",
       "      <td>0.0</td>\n",
       "      <td>0.0</td>\n",
       "      <td>0.0</td>\n",
       "      <td>0.0</td>\n",
       "      <td>0.000000</td>\n",
       "      <td>0.0</td>\n",
       "    </tr>\n",
       "    <tr>\n",
       "      <th>VALSYN-PWY: L-valine biosynthesis|g__Victivallis.s__Victivallis_vadensis</th>\n",
       "      <td>0.0</td>\n",
       "      <td>0.0</td>\n",
       "      <td>0.0</td>\n",
       "      <td>0.00000</td>\n",
       "      <td>0.0</td>\n",
       "      <td>0.0</td>\n",
       "      <td>0.0</td>\n",
       "      <td>0.0</td>\n",
       "      <td>0.0</td>\n",
       "      <td>0.000000</td>\n",
       "      <td>...</td>\n",
       "      <td>0.0</td>\n",
       "      <td>0.000000</td>\n",
       "      <td>0.000000</td>\n",
       "      <td>0.0</td>\n",
       "      <td>0.0</td>\n",
       "      <td>0.0</td>\n",
       "      <td>0.0</td>\n",
       "      <td>0.0</td>\n",
       "      <td>0.000000</td>\n",
       "      <td>0.0</td>\n",
       "    </tr>\n",
       "  </tbody>\n",
       "</table>\n",
       "<p>25519 rows × 613 columns</p>\n",
       "</div>"
      ],
      "text/plain": [
       "                                                    SRR5946989  SRR5983265  \\\n",
       "# Pathway                                                                    \n",
       "UNINTEGRATED|g__Absiella.s__Absiella_dolichum              0.0         0.0   \n",
       "UNINTEGRATED|g__Acetobacter.s__Acetobacter_sp_C...         0.0         0.0   \n",
       "UNINTEGRATED|g__Acetobacter.s__Acetobacter_sp_C...         0.0         0.0   \n",
       "UNINTEGRATED|g__Acholeplasma.s__Acholeplasma_sp...         0.0         0.0   \n",
       "UNINTEGRATED|g__Acidaminococcus.s__Acidaminococ...         0.0         0.0   \n",
       "...                                                        ...         ...   \n",
       "VALSYN-PWY: L-valine biosynthesis|g__Veillonell...         0.0         0.0   \n",
       "VALSYN-PWY: L-valine biosynthesis|g__Veillonell...         0.0         0.0   \n",
       "VALSYN-PWY: L-valine biosynthesis|g__Veillonell...         0.0         0.0   \n",
       "VALSYN-PWY: L-valine biosynthesis|g__Victivalla...         0.0         0.0   \n",
       "VALSYN-PWY: L-valine biosynthesis|g__Victivalli...         0.0         0.0   \n",
       "\n",
       "                                                    SRR5946777  SRR5946822  \\\n",
       "# Pathway                                                                    \n",
       "UNINTEGRATED|g__Absiella.s__Absiella_dolichum              0.0     0.00000   \n",
       "UNINTEGRATED|g__Acetobacter.s__Acetobacter_sp_C...         0.0     0.00000   \n",
       "UNINTEGRATED|g__Acetobacter.s__Acetobacter_sp_C...         0.0     0.00000   \n",
       "UNINTEGRATED|g__Acholeplasma.s__Acholeplasma_sp...         0.0     0.00000   \n",
       "UNINTEGRATED|g__Acidaminococcus.s__Acidaminococ...         0.0     0.02683   \n",
       "...                                                        ...         ...   \n",
       "VALSYN-PWY: L-valine biosynthesis|g__Veillonell...         0.0     0.00000   \n",
       "VALSYN-PWY: L-valine biosynthesis|g__Veillonell...         0.0     0.00000   \n",
       "VALSYN-PWY: L-valine biosynthesis|g__Veillonell...         0.0     0.00000   \n",
       "VALSYN-PWY: L-valine biosynthesis|g__Victivalla...         0.0     0.00000   \n",
       "VALSYN-PWY: L-valine biosynthesis|g__Victivalli...         0.0     0.00000   \n",
       "\n",
       "                                                    SRR5946857  SRR5946780  \\\n",
       "# Pathway                                                                    \n",
       "UNINTEGRATED|g__Absiella.s__Absiella_dolichum              0.0         0.0   \n",
       "UNINTEGRATED|g__Acetobacter.s__Acetobacter_sp_C...         0.0         0.0   \n",
       "UNINTEGRATED|g__Acetobacter.s__Acetobacter_sp_C...         0.0         0.0   \n",
       "UNINTEGRATED|g__Acholeplasma.s__Acholeplasma_sp...         0.0         0.0   \n",
       "UNINTEGRATED|g__Acidaminococcus.s__Acidaminococ...         0.0         0.0   \n",
       "...                                                        ...         ...   \n",
       "VALSYN-PWY: L-valine biosynthesis|g__Veillonell...         0.0         0.0   \n",
       "VALSYN-PWY: L-valine biosynthesis|g__Veillonell...         0.0         0.0   \n",
       "VALSYN-PWY: L-valine biosynthesis|g__Veillonell...         0.0         0.0   \n",
       "VALSYN-PWY: L-valine biosynthesis|g__Victivalla...         0.0         0.0   \n",
       "VALSYN-PWY: L-valine biosynthesis|g__Victivalli...         0.0         0.0   \n",
       "\n",
       "                                                    ERR209782  SRR5936213  \\\n",
       "# Pathway                                                                   \n",
       "UNINTEGRATED|g__Absiella.s__Absiella_dolichum             0.0         0.0   \n",
       "UNINTEGRATED|g__Acetobacter.s__Acetobacter_sp_C...        0.0         0.0   \n",
       "UNINTEGRATED|g__Acetobacter.s__Acetobacter_sp_C...        0.0         0.0   \n",
       "UNINTEGRATED|g__Acholeplasma.s__Acholeplasma_sp...        0.0         0.0   \n",
       "UNINTEGRATED|g__Acidaminococcus.s__Acidaminococ...        0.0         0.0   \n",
       "...                                                       ...         ...   \n",
       "VALSYN-PWY: L-valine biosynthesis|g__Veillonell...        0.0         0.0   \n",
       "VALSYN-PWY: L-valine biosynthesis|g__Veillonell...        0.0         0.0   \n",
       "VALSYN-PWY: L-valine biosynthesis|g__Veillonell...        0.0         0.0   \n",
       "VALSYN-PWY: L-valine biosynthesis|g__Victivalla...        0.0         0.0   \n",
       "VALSYN-PWY: L-valine biosynthesis|g__Victivalli...        0.0         0.0   \n",
       "\n",
       "                                                    SRR5947045  SRR5947812  \\\n",
       "# Pathway                                                                    \n",
       "UNINTEGRATED|g__Absiella.s__Absiella_dolichum              0.0    0.000000   \n",
       "UNINTEGRATED|g__Acetobacter.s__Acetobacter_sp_C...         0.0    0.000000   \n",
       "UNINTEGRATED|g__Acetobacter.s__Acetobacter_sp_C...         0.0    0.000000   \n",
       "UNINTEGRATED|g__Acholeplasma.s__Acholeplasma_sp...         0.0    0.000000   \n",
       "UNINTEGRATED|g__Acidaminococcus.s__Acidaminococ...         0.0    0.000000   \n",
       "...                                                        ...         ...   \n",
       "VALSYN-PWY: L-valine biosynthesis|g__Veillonell...         0.0    0.000004   \n",
       "VALSYN-PWY: L-valine biosynthesis|g__Veillonell...         0.0    0.000000   \n",
       "VALSYN-PWY: L-valine biosynthesis|g__Veillonell...         0.0    0.000000   \n",
       "VALSYN-PWY: L-valine biosynthesis|g__Victivalla...         0.0    0.000000   \n",
       "VALSYN-PWY: L-valine biosynthesis|g__Victivalli...         0.0    0.000000   \n",
       "\n",
       "                                                    ...  SRR5947830  \\\n",
       "# Pathway                                           ...               \n",
       "UNINTEGRATED|g__Absiella.s__Absiella_dolichum       ...         0.0   \n",
       "UNINTEGRATED|g__Acetobacter.s__Acetobacter_sp_C...  ...         0.0   \n",
       "UNINTEGRATED|g__Acetobacter.s__Acetobacter_sp_C...  ...         0.0   \n",
       "UNINTEGRATED|g__Acholeplasma.s__Acholeplasma_sp...  ...         0.0   \n",
       "UNINTEGRATED|g__Acidaminococcus.s__Acidaminococ...  ...         0.0   \n",
       "...                                                 ...         ...   \n",
       "VALSYN-PWY: L-valine biosynthesis|g__Veillonell...  ...         0.0   \n",
       "VALSYN-PWY: L-valine biosynthesis|g__Veillonell...  ...         0.0   \n",
       "VALSYN-PWY: L-valine biosynthesis|g__Veillonell...  ...         0.0   \n",
       "VALSYN-PWY: L-valine biosynthesis|g__Victivalla...  ...         0.0   \n",
       "VALSYN-PWY: L-valine biosynthesis|g__Victivalli...  ...         0.0   \n",
       "\n",
       "                                                    ERR209403  SRR5947050  \\\n",
       "# Pathway                                                                   \n",
       "UNINTEGRATED|g__Absiella.s__Absiella_dolichum        0.000000    0.000000   \n",
       "UNINTEGRATED|g__Acetobacter.s__Acetobacter_sp_C...   0.000000    0.000000   \n",
       "UNINTEGRATED|g__Acetobacter.s__Acetobacter_sp_C...   0.000000    0.000000   \n",
       "UNINTEGRATED|g__Acholeplasma.s__Acholeplasma_sp...   0.009803    0.000000   \n",
       "UNINTEGRATED|g__Acidaminococcus.s__Acidaminococ...   0.000000    0.000000   \n",
       "...                                                       ...         ...   \n",
       "VALSYN-PWY: L-valine biosynthesis|g__Veillonell...   0.000000    0.000002   \n",
       "VALSYN-PWY: L-valine biosynthesis|g__Veillonell...   0.000000    0.000000   \n",
       "VALSYN-PWY: L-valine biosynthesis|g__Veillonell...   0.000000    0.000000   \n",
       "VALSYN-PWY: L-valine biosynthesis|g__Victivalla...   0.000000    0.000000   \n",
       "VALSYN-PWY: L-valine biosynthesis|g__Victivalli...   0.000000    0.000000   \n",
       "\n",
       "                                                    ERR209519  SRR5935745  \\\n",
       "# Pathway                                                                   \n",
       "UNINTEGRATED|g__Absiella.s__Absiella_dolichum             0.0         0.0   \n",
       "UNINTEGRATED|g__Acetobacter.s__Acetobacter_sp_C...        0.0         0.0   \n",
       "UNINTEGRATED|g__Acetobacter.s__Acetobacter_sp_C...        0.0         0.0   \n",
       "UNINTEGRATED|g__Acholeplasma.s__Acholeplasma_sp...        0.0         0.0   \n",
       "UNINTEGRATED|g__Acidaminococcus.s__Acidaminococ...        0.0         0.0   \n",
       "...                                                       ...         ...   \n",
       "VALSYN-PWY: L-valine biosynthesis|g__Veillonell...        0.0         0.0   \n",
       "VALSYN-PWY: L-valine biosynthesis|g__Veillonell...        0.0         0.0   \n",
       "VALSYN-PWY: L-valine biosynthesis|g__Veillonell...        0.0         0.0   \n",
       "VALSYN-PWY: L-valine biosynthesis|g__Victivalla...        0.0         0.0   \n",
       "VALSYN-PWY: L-valine biosynthesis|g__Victivalli...        0.0         0.0   \n",
       "\n",
       "                                                    SRR5946648  SRR5946925  \\\n",
       "# Pathway                                                                    \n",
       "UNINTEGRATED|g__Absiella.s__Absiella_dolichum              0.0         0.0   \n",
       "UNINTEGRATED|g__Acetobacter.s__Acetobacter_sp_C...         0.0         0.0   \n",
       "UNINTEGRATED|g__Acetobacter.s__Acetobacter_sp_C...         0.0         0.0   \n",
       "UNINTEGRATED|g__Acholeplasma.s__Acholeplasma_sp...         0.0         0.0   \n",
       "UNINTEGRATED|g__Acidaminococcus.s__Acidaminococ...         0.0         0.0   \n",
       "...                                                        ...         ...   \n",
       "VALSYN-PWY: L-valine biosynthesis|g__Veillonell...         0.0         0.0   \n",
       "VALSYN-PWY: L-valine biosynthesis|g__Veillonell...         0.0         0.0   \n",
       "VALSYN-PWY: L-valine biosynthesis|g__Veillonell...         0.0         0.0   \n",
       "VALSYN-PWY: L-valine biosynthesis|g__Victivalla...         0.0         0.0   \n",
       "VALSYN-PWY: L-valine biosynthesis|g__Victivalli...         0.0         0.0   \n",
       "\n",
       "                                                    ERR209694  SRR5946668  \\\n",
       "# Pathway                                                                   \n",
       "UNINTEGRATED|g__Absiella.s__Absiella_dolichum             0.0    0.000000   \n",
       "UNINTEGRATED|g__Acetobacter.s__Acetobacter_sp_C...        0.0    0.000000   \n",
       "UNINTEGRATED|g__Acetobacter.s__Acetobacter_sp_C...        0.0    0.000000   \n",
       "UNINTEGRATED|g__Acholeplasma.s__Acholeplasma_sp...        0.0    0.000000   \n",
       "UNINTEGRATED|g__Acidaminococcus.s__Acidaminococ...        0.0    0.000000   \n",
       "...                                                       ...         ...   \n",
       "VALSYN-PWY: L-valine biosynthesis|g__Veillonell...        0.0    0.000002   \n",
       "VALSYN-PWY: L-valine biosynthesis|g__Veillonell...        0.0    0.000000   \n",
       "VALSYN-PWY: L-valine biosynthesis|g__Veillonell...        0.0    0.000000   \n",
       "VALSYN-PWY: L-valine biosynthesis|g__Victivalla...        0.0    0.000000   \n",
       "VALSYN-PWY: L-valine biosynthesis|g__Victivalli...        0.0    0.000000   \n",
       "\n",
       "                                                    ERR209312  \n",
       "# Pathway                                                      \n",
       "UNINTEGRATED|g__Absiella.s__Absiella_dolichum             0.0  \n",
       "UNINTEGRATED|g__Acetobacter.s__Acetobacter_sp_C...        0.0  \n",
       "UNINTEGRATED|g__Acetobacter.s__Acetobacter_sp_C...        0.0  \n",
       "UNINTEGRATED|g__Acholeplasma.s__Acholeplasma_sp...        0.0  \n",
       "UNINTEGRATED|g__Acidaminococcus.s__Acidaminococ...        0.0  \n",
       "...                                                       ...  \n",
       "VALSYN-PWY: L-valine biosynthesis|g__Veillonell...        0.0  \n",
       "VALSYN-PWY: L-valine biosynthesis|g__Veillonell...        0.0  \n",
       "VALSYN-PWY: L-valine biosynthesis|g__Veillonell...        0.0  \n",
       "VALSYN-PWY: L-valine biosynthesis|g__Victivalla...        0.0  \n",
       "VALSYN-PWY: L-valine biosynthesis|g__Victivalli...        0.0  \n",
       "\n",
       "[25519 rows x 613 columns]"
      ]
     },
     "execution_count": 205,
     "metadata": {},
     "output_type": "execute_result"
    }
   ],
   "source": [
    "#Se cargan los datos dr pathways\n",
    "pathways=pd.read_csv('../../DataSets/pathways.txt', sep=\"\\t\", index_col=0)\n",
    "pathways"
   ]
  },
  {
   "cell_type": "markdown",
   "id": "d1edee39-be92-4e81-b97a-e63cb335059e",
   "metadata": {},
   "source": [
    "<h3>Se normaliza Pathways</h3>"
   ]
  },
  {
   "cell_type": "code",
   "execution_count": 206,
   "id": "a6194e09-6f91-4092-affb-34218903ef48",
   "metadata": {
    "tags": []
   },
   "outputs": [],
   "source": [
    "pathways=pathways*100"
   ]
  },
  {
   "cell_type": "markdown",
   "id": "b6000c94-b49a-43d9-9fb7-fd978eb90774",
   "metadata": {},
   "source": [
    "<h3> Se calcula el GMHI para pathways, primero se obtienen las métricas pues es tardado obtenerlas. Luego se calcula el índice con diferentes parámetros para elegir el de mayor accuracy </h3> \n"
   ]
  },
  {
   "cell_type": "code",
   "execution_count": 207,
   "id": "d0a85915-2a76-4f11-832c-36275ee0ef3d",
   "metadata": {
    "tags": []
   },
   "outputs": [],
   "source": [
    "meta = pd.read_csv('../../DataSets/metadata.txt', sep=\"\\t\")\n",
    "metrics_pathways=get_fH_fN_dH_dN(meta,pathways)"
   ]
  },
  {
   "cell_type": "code",
   "execution_count": 208,
   "id": "0d9246f2-beba-4a73-8ad3-990a0cde9c93",
   "metadata": {
    "tags": []
   },
   "outputs": [
    {
     "name": "stdout",
     "output_type": "stream",
     "text": [
      "|MH|= 879\n",
      "|MN|= 1053\n"
     ]
    }
   ],
   "source": [
    "theta_f=2.4\n",
    "theta_d=0.1\n",
    "MH_pathways,MN_pathways=get_MH_MN(metrics_pathways,theta_f,theta_d)"
   ]
  },
  {
   "cell_type": "code",
   "execution_count": 209,
   "id": "ba5eb308-b36f-4625-82cc-e32cc7dd6116",
   "metadata": {
    "tags": []
   },
   "outputs": [
    {
     "name": "stdout",
     "output_type": "stream",
     "text": [
      "El accuracy obtenido es de 73.81895633652822 %\n"
     ]
    },
    {
     "data": {
      "text/plain": [
       "SRR5946989    2.256705\n",
       "SRR5983265    2.755124\n",
       "SRR5946777    2.450560\n",
       "SRR5946822   -2.440611\n",
       "SRR5946857    3.603390\n",
       "                ...   \n",
       "SRR5946648   -1.687041\n",
       "SRR5946925    1.936091\n",
       "ERR209694     1.778456\n",
       "SRR5946668   -2.180028\n",
       "ERR209312     0.132102\n",
       "Name: GMHI, Length: 613, dtype: float64"
      ]
     },
     "execution_count": 209,
     "metadata": {},
     "output_type": "execute_result"
    }
   ],
   "source": [
    "GMHI_path=get_all_GMHI(pathways,MH_pathways,MN_pathways)\n",
    "accuracy=get_accuracy(GMHI_path,meta)\n",
    "print('El accuracy obtenido es de', accuracy*100 ,'%')\n",
    "GMHI_path"
   ]
  },
  {
   "cell_type": "markdown",
   "id": "d525e7a0-8d24-47bb-802c-7889512a0d58",
   "metadata": {},
   "source": [
    "<h1>Ya que fue exitoso el experimento, se calculan los GMHI para integrated y unintegrated pathways. </h1>"
   ]
  },
  {
   "cell_type": "code",
   "execution_count": 210,
   "id": "326e8c05-42bc-440c-b269-26cfeb979b14",
   "metadata": {
    "tags": []
   },
   "outputs": [
    {
     "data": {
      "text/html": [
       "<div>\n",
       "<style scoped>\n",
       "    .dataframe tbody tr th:only-of-type {\n",
       "        vertical-align: middle;\n",
       "    }\n",
       "\n",
       "    .dataframe tbody tr th {\n",
       "        vertical-align: top;\n",
       "    }\n",
       "\n",
       "    .dataframe thead th {\n",
       "        text-align: right;\n",
       "    }\n",
       "</style>\n",
       "<table border=\"1\" class=\"dataframe\">\n",
       "  <thead>\n",
       "    <tr style=\"text-align: right;\">\n",
       "      <th></th>\n",
       "      <th>SRR5946989</th>\n",
       "      <th>SRR5983265</th>\n",
       "      <th>SRR5946777</th>\n",
       "      <th>SRR5946822</th>\n",
       "      <th>SRR5946857</th>\n",
       "      <th>SRR5946780</th>\n",
       "      <th>ERR209782</th>\n",
       "      <th>SRR5936213</th>\n",
       "      <th>SRR5947045</th>\n",
       "      <th>SRR5947812</th>\n",
       "      <th>...</th>\n",
       "      <th>SRR5947830</th>\n",
       "      <th>ERR209403</th>\n",
       "      <th>SRR5947050</th>\n",
       "      <th>ERR209519</th>\n",
       "      <th>SRR5935745</th>\n",
       "      <th>SRR5946648</th>\n",
       "      <th>SRR5946925</th>\n",
       "      <th>ERR209694</th>\n",
       "      <th>SRR5946668</th>\n",
       "      <th>ERR209312</th>\n",
       "    </tr>\n",
       "    <tr>\n",
       "      <th># Pathway</th>\n",
       "      <th></th>\n",
       "      <th></th>\n",
       "      <th></th>\n",
       "      <th></th>\n",
       "      <th></th>\n",
       "      <th></th>\n",
       "      <th></th>\n",
       "      <th></th>\n",
       "      <th></th>\n",
       "      <th></th>\n",
       "      <th></th>\n",
       "      <th></th>\n",
       "      <th></th>\n",
       "      <th></th>\n",
       "      <th></th>\n",
       "      <th></th>\n",
       "      <th></th>\n",
       "      <th></th>\n",
       "      <th></th>\n",
       "      <th></th>\n",
       "      <th></th>\n",
       "    </tr>\n",
       "  </thead>\n",
       "  <tbody>\n",
       "    <tr>\n",
       "      <th>UNINTEGRATED|g__Absiella.s__Absiella_dolichum</th>\n",
       "      <td>0.0</td>\n",
       "      <td>0.0</td>\n",
       "      <td>0.0</td>\n",
       "      <td>0.00000</td>\n",
       "      <td>0.0</td>\n",
       "      <td>0.0</td>\n",
       "      <td>0.0</td>\n",
       "      <td>0.0</td>\n",
       "      <td>0.0</td>\n",
       "      <td>0.000000</td>\n",
       "      <td>...</td>\n",
       "      <td>0.0</td>\n",
       "      <td>0.000000</td>\n",
       "      <td>0.000000</td>\n",
       "      <td>0.0</td>\n",
       "      <td>0.0</td>\n",
       "      <td>0.0</td>\n",
       "      <td>0.0</td>\n",
       "      <td>0.0</td>\n",
       "      <td>0.000000</td>\n",
       "      <td>0.0</td>\n",
       "    </tr>\n",
       "    <tr>\n",
       "      <th>UNINTEGRATED|g__Acetobacter.s__Acetobacter_sp_CAG_267</th>\n",
       "      <td>0.0</td>\n",
       "      <td>0.0</td>\n",
       "      <td>0.0</td>\n",
       "      <td>0.00000</td>\n",
       "      <td>0.0</td>\n",
       "      <td>0.0</td>\n",
       "      <td>0.0</td>\n",
       "      <td>0.0</td>\n",
       "      <td>0.0</td>\n",
       "      <td>0.000000</td>\n",
       "      <td>...</td>\n",
       "      <td>0.0</td>\n",
       "      <td>0.000000</td>\n",
       "      <td>0.000000</td>\n",
       "      <td>0.0</td>\n",
       "      <td>0.0</td>\n",
       "      <td>0.0</td>\n",
       "      <td>0.0</td>\n",
       "      <td>0.0</td>\n",
       "      <td>0.000000</td>\n",
       "      <td>0.0</td>\n",
       "    </tr>\n",
       "    <tr>\n",
       "      <th>UNINTEGRATED|g__Acetobacter.s__Acetobacter_sp_CAG_977</th>\n",
       "      <td>0.0</td>\n",
       "      <td>0.0</td>\n",
       "      <td>0.0</td>\n",
       "      <td>0.00000</td>\n",
       "      <td>0.0</td>\n",
       "      <td>0.0</td>\n",
       "      <td>0.0</td>\n",
       "      <td>0.0</td>\n",
       "      <td>0.0</td>\n",
       "      <td>0.000000</td>\n",
       "      <td>...</td>\n",
       "      <td>0.0</td>\n",
       "      <td>0.000000</td>\n",
       "      <td>0.000000</td>\n",
       "      <td>0.0</td>\n",
       "      <td>0.0</td>\n",
       "      <td>0.0</td>\n",
       "      <td>0.0</td>\n",
       "      <td>0.0</td>\n",
       "      <td>0.000000</td>\n",
       "      <td>0.0</td>\n",
       "    </tr>\n",
       "    <tr>\n",
       "      <th>UNINTEGRATED|g__Acholeplasma.s__Acholeplasma_sp_CAG_878</th>\n",
       "      <td>0.0</td>\n",
       "      <td>0.0</td>\n",
       "      <td>0.0</td>\n",
       "      <td>0.00000</td>\n",
       "      <td>0.0</td>\n",
       "      <td>0.0</td>\n",
       "      <td>0.0</td>\n",
       "      <td>0.0</td>\n",
       "      <td>0.0</td>\n",
       "      <td>0.000000</td>\n",
       "      <td>...</td>\n",
       "      <td>0.0</td>\n",
       "      <td>0.980345</td>\n",
       "      <td>0.000000</td>\n",
       "      <td>0.0</td>\n",
       "      <td>0.0</td>\n",
       "      <td>0.0</td>\n",
       "      <td>0.0</td>\n",
       "      <td>0.0</td>\n",
       "      <td>0.000000</td>\n",
       "      <td>0.0</td>\n",
       "    </tr>\n",
       "    <tr>\n",
       "      <th>UNINTEGRATED|g__Acidaminococcus.s__Acidaminococcus_intestini</th>\n",
       "      <td>0.0</td>\n",
       "      <td>0.0</td>\n",
       "      <td>0.0</td>\n",
       "      <td>2.68297</td>\n",
       "      <td>0.0</td>\n",
       "      <td>0.0</td>\n",
       "      <td>0.0</td>\n",
       "      <td>0.0</td>\n",
       "      <td>0.0</td>\n",
       "      <td>0.000000</td>\n",
       "      <td>...</td>\n",
       "      <td>0.0</td>\n",
       "      <td>0.000000</td>\n",
       "      <td>0.000000</td>\n",
       "      <td>0.0</td>\n",
       "      <td>0.0</td>\n",
       "      <td>0.0</td>\n",
       "      <td>0.0</td>\n",
       "      <td>0.0</td>\n",
       "      <td>0.000000</td>\n",
       "      <td>0.0</td>\n",
       "    </tr>\n",
       "    <tr>\n",
       "      <th>...</th>\n",
       "      <td>...</td>\n",
       "      <td>...</td>\n",
       "      <td>...</td>\n",
       "      <td>...</td>\n",
       "      <td>...</td>\n",
       "      <td>...</td>\n",
       "      <td>...</td>\n",
       "      <td>...</td>\n",
       "      <td>...</td>\n",
       "      <td>...</td>\n",
       "      <td>...</td>\n",
       "      <td>...</td>\n",
       "      <td>...</td>\n",
       "      <td>...</td>\n",
       "      <td>...</td>\n",
       "      <td>...</td>\n",
       "      <td>...</td>\n",
       "      <td>...</td>\n",
       "      <td>...</td>\n",
       "      <td>...</td>\n",
       "      <td>...</td>\n",
       "    </tr>\n",
       "    <tr>\n",
       "      <th>VALSYN-PWY: L-valine biosynthesis|g__Veillonella.s__Veillonella_rogosae</th>\n",
       "      <td>0.0</td>\n",
       "      <td>0.0</td>\n",
       "      <td>0.0</td>\n",
       "      <td>0.00000</td>\n",
       "      <td>0.0</td>\n",
       "      <td>0.0</td>\n",
       "      <td>0.0</td>\n",
       "      <td>0.0</td>\n",
       "      <td>0.0</td>\n",
       "      <td>0.000435</td>\n",
       "      <td>...</td>\n",
       "      <td>0.0</td>\n",
       "      <td>0.000000</td>\n",
       "      <td>0.000199</td>\n",
       "      <td>0.0</td>\n",
       "      <td>0.0</td>\n",
       "      <td>0.0</td>\n",
       "      <td>0.0</td>\n",
       "      <td>0.0</td>\n",
       "      <td>0.000246</td>\n",
       "      <td>0.0</td>\n",
       "    </tr>\n",
       "    <tr>\n",
       "      <th>VALSYN-PWY: L-valine biosynthesis|g__Veillonella.s__Veillonella_seminalis</th>\n",
       "      <td>0.0</td>\n",
       "      <td>0.0</td>\n",
       "      <td>0.0</td>\n",
       "      <td>0.00000</td>\n",
       "      <td>0.0</td>\n",
       "      <td>0.0</td>\n",
       "      <td>0.0</td>\n",
       "      <td>0.0</td>\n",
       "      <td>0.0</td>\n",
       "      <td>0.000000</td>\n",
       "      <td>...</td>\n",
       "      <td>0.0</td>\n",
       "      <td>0.000000</td>\n",
       "      <td>0.000000</td>\n",
       "      <td>0.0</td>\n",
       "      <td>0.0</td>\n",
       "      <td>0.0</td>\n",
       "      <td>0.0</td>\n",
       "      <td>0.0</td>\n",
       "      <td>0.000000</td>\n",
       "      <td>0.0</td>\n",
       "    </tr>\n",
       "    <tr>\n",
       "      <th>VALSYN-PWY: L-valine biosynthesis|g__Veillonella.s__Veillonella_tobetsuensis</th>\n",
       "      <td>0.0</td>\n",
       "      <td>0.0</td>\n",
       "      <td>0.0</td>\n",
       "      <td>0.00000</td>\n",
       "      <td>0.0</td>\n",
       "      <td>0.0</td>\n",
       "      <td>0.0</td>\n",
       "      <td>0.0</td>\n",
       "      <td>0.0</td>\n",
       "      <td>0.000000</td>\n",
       "      <td>...</td>\n",
       "      <td>0.0</td>\n",
       "      <td>0.000000</td>\n",
       "      <td>0.000000</td>\n",
       "      <td>0.0</td>\n",
       "      <td>0.0</td>\n",
       "      <td>0.0</td>\n",
       "      <td>0.0</td>\n",
       "      <td>0.0</td>\n",
       "      <td>0.000000</td>\n",
       "      <td>0.0</td>\n",
       "    </tr>\n",
       "    <tr>\n",
       "      <th>VALSYN-PWY: L-valine biosynthesis|g__Victivallales_unclassified.s__Victivallales_bacterium_CCUG_44730</th>\n",
       "      <td>0.0</td>\n",
       "      <td>0.0</td>\n",
       "      <td>0.0</td>\n",
       "      <td>0.00000</td>\n",
       "      <td>0.0</td>\n",
       "      <td>0.0</td>\n",
       "      <td>0.0</td>\n",
       "      <td>0.0</td>\n",
       "      <td>0.0</td>\n",
       "      <td>0.000000</td>\n",
       "      <td>...</td>\n",
       "      <td>0.0</td>\n",
       "      <td>0.000000</td>\n",
       "      <td>0.000000</td>\n",
       "      <td>0.0</td>\n",
       "      <td>0.0</td>\n",
       "      <td>0.0</td>\n",
       "      <td>0.0</td>\n",
       "      <td>0.0</td>\n",
       "      <td>0.000000</td>\n",
       "      <td>0.0</td>\n",
       "    </tr>\n",
       "    <tr>\n",
       "      <th>VALSYN-PWY: L-valine biosynthesis|g__Victivallis.s__Victivallis_vadensis</th>\n",
       "      <td>0.0</td>\n",
       "      <td>0.0</td>\n",
       "      <td>0.0</td>\n",
       "      <td>0.00000</td>\n",
       "      <td>0.0</td>\n",
       "      <td>0.0</td>\n",
       "      <td>0.0</td>\n",
       "      <td>0.0</td>\n",
       "      <td>0.0</td>\n",
       "      <td>0.000000</td>\n",
       "      <td>...</td>\n",
       "      <td>0.0</td>\n",
       "      <td>0.000000</td>\n",
       "      <td>0.000000</td>\n",
       "      <td>0.0</td>\n",
       "      <td>0.0</td>\n",
       "      <td>0.0</td>\n",
       "      <td>0.0</td>\n",
       "      <td>0.0</td>\n",
       "      <td>0.000000</td>\n",
       "      <td>0.0</td>\n",
       "    </tr>\n",
       "  </tbody>\n",
       "</table>\n",
       "<p>25519 rows × 613 columns</p>\n",
       "</div>"
      ],
      "text/plain": [
       "                                                    SRR5946989  SRR5983265  \\\n",
       "# Pathway                                                                    \n",
       "UNINTEGRATED|g__Absiella.s__Absiella_dolichum              0.0         0.0   \n",
       "UNINTEGRATED|g__Acetobacter.s__Acetobacter_sp_C...         0.0         0.0   \n",
       "UNINTEGRATED|g__Acetobacter.s__Acetobacter_sp_C...         0.0         0.0   \n",
       "UNINTEGRATED|g__Acholeplasma.s__Acholeplasma_sp...         0.0         0.0   \n",
       "UNINTEGRATED|g__Acidaminococcus.s__Acidaminococ...         0.0         0.0   \n",
       "...                                                        ...         ...   \n",
       "VALSYN-PWY: L-valine biosynthesis|g__Veillonell...         0.0         0.0   \n",
       "VALSYN-PWY: L-valine biosynthesis|g__Veillonell...         0.0         0.0   \n",
       "VALSYN-PWY: L-valine biosynthesis|g__Veillonell...         0.0         0.0   \n",
       "VALSYN-PWY: L-valine biosynthesis|g__Victivalla...         0.0         0.0   \n",
       "VALSYN-PWY: L-valine biosynthesis|g__Victivalli...         0.0         0.0   \n",
       "\n",
       "                                                    SRR5946777  SRR5946822  \\\n",
       "# Pathway                                                                    \n",
       "UNINTEGRATED|g__Absiella.s__Absiella_dolichum              0.0     0.00000   \n",
       "UNINTEGRATED|g__Acetobacter.s__Acetobacter_sp_C...         0.0     0.00000   \n",
       "UNINTEGRATED|g__Acetobacter.s__Acetobacter_sp_C...         0.0     0.00000   \n",
       "UNINTEGRATED|g__Acholeplasma.s__Acholeplasma_sp...         0.0     0.00000   \n",
       "UNINTEGRATED|g__Acidaminococcus.s__Acidaminococ...         0.0     2.68297   \n",
       "...                                                        ...         ...   \n",
       "VALSYN-PWY: L-valine biosynthesis|g__Veillonell...         0.0     0.00000   \n",
       "VALSYN-PWY: L-valine biosynthesis|g__Veillonell...         0.0     0.00000   \n",
       "VALSYN-PWY: L-valine biosynthesis|g__Veillonell...         0.0     0.00000   \n",
       "VALSYN-PWY: L-valine biosynthesis|g__Victivalla...         0.0     0.00000   \n",
       "VALSYN-PWY: L-valine biosynthesis|g__Victivalli...         0.0     0.00000   \n",
       "\n",
       "                                                    SRR5946857  SRR5946780  \\\n",
       "# Pathway                                                                    \n",
       "UNINTEGRATED|g__Absiella.s__Absiella_dolichum              0.0         0.0   \n",
       "UNINTEGRATED|g__Acetobacter.s__Acetobacter_sp_C...         0.0         0.0   \n",
       "UNINTEGRATED|g__Acetobacter.s__Acetobacter_sp_C...         0.0         0.0   \n",
       "UNINTEGRATED|g__Acholeplasma.s__Acholeplasma_sp...         0.0         0.0   \n",
       "UNINTEGRATED|g__Acidaminococcus.s__Acidaminococ...         0.0         0.0   \n",
       "...                                                        ...         ...   \n",
       "VALSYN-PWY: L-valine biosynthesis|g__Veillonell...         0.0         0.0   \n",
       "VALSYN-PWY: L-valine biosynthesis|g__Veillonell...         0.0         0.0   \n",
       "VALSYN-PWY: L-valine biosynthesis|g__Veillonell...         0.0         0.0   \n",
       "VALSYN-PWY: L-valine biosynthesis|g__Victivalla...         0.0         0.0   \n",
       "VALSYN-PWY: L-valine biosynthesis|g__Victivalli...         0.0         0.0   \n",
       "\n",
       "                                                    ERR209782  SRR5936213  \\\n",
       "# Pathway                                                                   \n",
       "UNINTEGRATED|g__Absiella.s__Absiella_dolichum             0.0         0.0   \n",
       "UNINTEGRATED|g__Acetobacter.s__Acetobacter_sp_C...        0.0         0.0   \n",
       "UNINTEGRATED|g__Acetobacter.s__Acetobacter_sp_C...        0.0         0.0   \n",
       "UNINTEGRATED|g__Acholeplasma.s__Acholeplasma_sp...        0.0         0.0   \n",
       "UNINTEGRATED|g__Acidaminococcus.s__Acidaminococ...        0.0         0.0   \n",
       "...                                                       ...         ...   \n",
       "VALSYN-PWY: L-valine biosynthesis|g__Veillonell...        0.0         0.0   \n",
       "VALSYN-PWY: L-valine biosynthesis|g__Veillonell...        0.0         0.0   \n",
       "VALSYN-PWY: L-valine biosynthesis|g__Veillonell...        0.0         0.0   \n",
       "VALSYN-PWY: L-valine biosynthesis|g__Victivalla...        0.0         0.0   \n",
       "VALSYN-PWY: L-valine biosynthesis|g__Victivalli...        0.0         0.0   \n",
       "\n",
       "                                                    SRR5947045  SRR5947812  \\\n",
       "# Pathway                                                                    \n",
       "UNINTEGRATED|g__Absiella.s__Absiella_dolichum              0.0    0.000000   \n",
       "UNINTEGRATED|g__Acetobacter.s__Acetobacter_sp_C...         0.0    0.000000   \n",
       "UNINTEGRATED|g__Acetobacter.s__Acetobacter_sp_C...         0.0    0.000000   \n",
       "UNINTEGRATED|g__Acholeplasma.s__Acholeplasma_sp...         0.0    0.000000   \n",
       "UNINTEGRATED|g__Acidaminococcus.s__Acidaminococ...         0.0    0.000000   \n",
       "...                                                        ...         ...   \n",
       "VALSYN-PWY: L-valine biosynthesis|g__Veillonell...         0.0    0.000435   \n",
       "VALSYN-PWY: L-valine biosynthesis|g__Veillonell...         0.0    0.000000   \n",
       "VALSYN-PWY: L-valine biosynthesis|g__Veillonell...         0.0    0.000000   \n",
       "VALSYN-PWY: L-valine biosynthesis|g__Victivalla...         0.0    0.000000   \n",
       "VALSYN-PWY: L-valine biosynthesis|g__Victivalli...         0.0    0.000000   \n",
       "\n",
       "                                                    ...  SRR5947830  \\\n",
       "# Pathway                                           ...               \n",
       "UNINTEGRATED|g__Absiella.s__Absiella_dolichum       ...         0.0   \n",
       "UNINTEGRATED|g__Acetobacter.s__Acetobacter_sp_C...  ...         0.0   \n",
       "UNINTEGRATED|g__Acetobacter.s__Acetobacter_sp_C...  ...         0.0   \n",
       "UNINTEGRATED|g__Acholeplasma.s__Acholeplasma_sp...  ...         0.0   \n",
       "UNINTEGRATED|g__Acidaminococcus.s__Acidaminococ...  ...         0.0   \n",
       "...                                                 ...         ...   \n",
       "VALSYN-PWY: L-valine biosynthesis|g__Veillonell...  ...         0.0   \n",
       "VALSYN-PWY: L-valine biosynthesis|g__Veillonell...  ...         0.0   \n",
       "VALSYN-PWY: L-valine biosynthesis|g__Veillonell...  ...         0.0   \n",
       "VALSYN-PWY: L-valine biosynthesis|g__Victivalla...  ...         0.0   \n",
       "VALSYN-PWY: L-valine biosynthesis|g__Victivalli...  ...         0.0   \n",
       "\n",
       "                                                    ERR209403  SRR5947050  \\\n",
       "# Pathway                                                                   \n",
       "UNINTEGRATED|g__Absiella.s__Absiella_dolichum        0.000000    0.000000   \n",
       "UNINTEGRATED|g__Acetobacter.s__Acetobacter_sp_C...   0.000000    0.000000   \n",
       "UNINTEGRATED|g__Acetobacter.s__Acetobacter_sp_C...   0.000000    0.000000   \n",
       "UNINTEGRATED|g__Acholeplasma.s__Acholeplasma_sp...   0.980345    0.000000   \n",
       "UNINTEGRATED|g__Acidaminococcus.s__Acidaminococ...   0.000000    0.000000   \n",
       "...                                                       ...         ...   \n",
       "VALSYN-PWY: L-valine biosynthesis|g__Veillonell...   0.000000    0.000199   \n",
       "VALSYN-PWY: L-valine biosynthesis|g__Veillonell...   0.000000    0.000000   \n",
       "VALSYN-PWY: L-valine biosynthesis|g__Veillonell...   0.000000    0.000000   \n",
       "VALSYN-PWY: L-valine biosynthesis|g__Victivalla...   0.000000    0.000000   \n",
       "VALSYN-PWY: L-valine biosynthesis|g__Victivalli...   0.000000    0.000000   \n",
       "\n",
       "                                                    ERR209519  SRR5935745  \\\n",
       "# Pathway                                                                   \n",
       "UNINTEGRATED|g__Absiella.s__Absiella_dolichum             0.0         0.0   \n",
       "UNINTEGRATED|g__Acetobacter.s__Acetobacter_sp_C...        0.0         0.0   \n",
       "UNINTEGRATED|g__Acetobacter.s__Acetobacter_sp_C...        0.0         0.0   \n",
       "UNINTEGRATED|g__Acholeplasma.s__Acholeplasma_sp...        0.0         0.0   \n",
       "UNINTEGRATED|g__Acidaminococcus.s__Acidaminococ...        0.0         0.0   \n",
       "...                                                       ...         ...   \n",
       "VALSYN-PWY: L-valine biosynthesis|g__Veillonell...        0.0         0.0   \n",
       "VALSYN-PWY: L-valine biosynthesis|g__Veillonell...        0.0         0.0   \n",
       "VALSYN-PWY: L-valine biosynthesis|g__Veillonell...        0.0         0.0   \n",
       "VALSYN-PWY: L-valine biosynthesis|g__Victivalla...        0.0         0.0   \n",
       "VALSYN-PWY: L-valine biosynthesis|g__Victivalli...        0.0         0.0   \n",
       "\n",
       "                                                    SRR5946648  SRR5946925  \\\n",
       "# Pathway                                                                    \n",
       "UNINTEGRATED|g__Absiella.s__Absiella_dolichum              0.0         0.0   \n",
       "UNINTEGRATED|g__Acetobacter.s__Acetobacter_sp_C...         0.0         0.0   \n",
       "UNINTEGRATED|g__Acetobacter.s__Acetobacter_sp_C...         0.0         0.0   \n",
       "UNINTEGRATED|g__Acholeplasma.s__Acholeplasma_sp...         0.0         0.0   \n",
       "UNINTEGRATED|g__Acidaminococcus.s__Acidaminococ...         0.0         0.0   \n",
       "...                                                        ...         ...   \n",
       "VALSYN-PWY: L-valine biosynthesis|g__Veillonell...         0.0         0.0   \n",
       "VALSYN-PWY: L-valine biosynthesis|g__Veillonell...         0.0         0.0   \n",
       "VALSYN-PWY: L-valine biosynthesis|g__Veillonell...         0.0         0.0   \n",
       "VALSYN-PWY: L-valine biosynthesis|g__Victivalla...         0.0         0.0   \n",
       "VALSYN-PWY: L-valine biosynthesis|g__Victivalli...         0.0         0.0   \n",
       "\n",
       "                                                    ERR209694  SRR5946668  \\\n",
       "# Pathway                                                                   \n",
       "UNINTEGRATED|g__Absiella.s__Absiella_dolichum             0.0    0.000000   \n",
       "UNINTEGRATED|g__Acetobacter.s__Acetobacter_sp_C...        0.0    0.000000   \n",
       "UNINTEGRATED|g__Acetobacter.s__Acetobacter_sp_C...        0.0    0.000000   \n",
       "UNINTEGRATED|g__Acholeplasma.s__Acholeplasma_sp...        0.0    0.000000   \n",
       "UNINTEGRATED|g__Acidaminococcus.s__Acidaminococ...        0.0    0.000000   \n",
       "...                                                       ...         ...   \n",
       "VALSYN-PWY: L-valine biosynthesis|g__Veillonell...        0.0    0.000246   \n",
       "VALSYN-PWY: L-valine biosynthesis|g__Veillonell...        0.0    0.000000   \n",
       "VALSYN-PWY: L-valine biosynthesis|g__Veillonell...        0.0    0.000000   \n",
       "VALSYN-PWY: L-valine biosynthesis|g__Victivalla...        0.0    0.000000   \n",
       "VALSYN-PWY: L-valine biosynthesis|g__Victivalli...        0.0    0.000000   \n",
       "\n",
       "                                                    ERR209312  \n",
       "# Pathway                                                      \n",
       "UNINTEGRATED|g__Absiella.s__Absiella_dolichum             0.0  \n",
       "UNINTEGRATED|g__Acetobacter.s__Acetobacter_sp_C...        0.0  \n",
       "UNINTEGRATED|g__Acetobacter.s__Acetobacter_sp_C...        0.0  \n",
       "UNINTEGRATED|g__Acholeplasma.s__Acholeplasma_sp...        0.0  \n",
       "UNINTEGRATED|g__Acidaminococcus.s__Acidaminococ...        0.0  \n",
       "...                                                       ...  \n",
       "VALSYN-PWY: L-valine biosynthesis|g__Veillonell...        0.0  \n",
       "VALSYN-PWY: L-valine biosynthesis|g__Veillonell...        0.0  \n",
       "VALSYN-PWY: L-valine biosynthesis|g__Veillonell...        0.0  \n",
       "VALSYN-PWY: L-valine biosynthesis|g__Victivalla...        0.0  \n",
       "VALSYN-PWY: L-valine biosynthesis|g__Victivalli...        0.0  \n",
       "\n",
       "[25519 rows x 613 columns]"
      ]
     },
     "execution_count": 210,
     "metadata": {},
     "output_type": "execute_result"
    }
   ],
   "source": [
    "pathways=pd.read_csv('../../DataSets/pathways.txt', sep=\"\\t\", index_col=0)\n",
    "pathways=pathways*100\n",
    "pathways"
   ]
  },
  {
   "cell_type": "markdown",
   "id": "63017134-9966-4603-b344-a8027cd4fbb0",
   "metadata": {},
   "source": [
    "<h3>La siguiente función separa a integrated y unintegrated.</h3>"
   ]
  },
  {
   "cell_type": "code",
   "execution_count": 211,
   "id": "33555d66-ddae-4590-a060-7ff5d108ccf0",
   "metadata": {
    "tags": []
   },
   "outputs": [],
   "source": [
    "def get_integrated_unintegrated(pathways):\n",
    "    index_pathways=pd.Series(pathways.index)\n",
    "    condition=index_pathways.apply(lambda x: 'UNINTEGRATED' in x)\n",
    "    index_unintegrated=index_pathways[condition]\n",
    "    index_integrated=index_pathways[condition==False]\n",
    "    return pathways.loc[index_integrated,:], pathways.loc[index_unintegrated,:]"
   ]
  },
  {
   "cell_type": "code",
   "execution_count": 212,
   "id": "726f50eb-cdda-4fe3-905a-5cd9fd2b288b",
   "metadata": {
    "tags": []
   },
   "outputs": [],
   "source": [
    "integrated_pathways,unintegrated_pathways=get_integrated_unintegrated(pathways)"
   ]
  },
  {
   "cell_type": "markdown",
   "id": "80907be1-0ef0-4951-8c7a-ecadd5691ccf",
   "metadata": {
    "tags": []
   },
   "source": [
    "<h3> Se normalizan ambas tablas de pathways</h3>"
   ]
  },
  {
   "cell_type": "code",
   "execution_count": 213,
   "id": "17831505-2254-4762-96cc-e7af69e8d8c9",
   "metadata": {
    "tags": []
   },
   "outputs": [],
   "source": [
    "def normalize_tax(tax):\n",
    "    return (tax/tax.sum())*100"
   ]
  },
  {
   "cell_type": "code",
   "execution_count": 214,
   "id": "87d2d1e5-dbb8-456b-8bcc-b7ea5d73af98",
   "metadata": {
    "tags": []
   },
   "outputs": [],
   "source": [
    "integrated_pathways=normalize_tax(integrated_pathways)\n",
    "unintegrated_pathways=normalize_tax(unintegrated_pathways)"
   ]
  },
  {
   "cell_type": "code",
   "execution_count": 215,
   "id": "7ac2a6e6-4456-4e22-9f9b-7b665357392c",
   "metadata": {
    "tags": []
   },
   "outputs": [],
   "source": [
    "meta = pd.read_csv('../../DataSets/metadata.txt', sep=\"\\t\")\n",
    "metrics_integrated=get_fH_fN_dH_dN(meta,integrated_pathways)\n",
    "metrics_unintegrated=get_fH_fN_dH_dN(meta,unintegrated_pathways)"
   ]
  },
  {
   "cell_type": "markdown",
   "id": "9bb2639a-63d7-41d5-bae4-e03b38bac023",
   "metadata": {},
   "source": [
    "<h2> Se calculan los conjuntos para GMHI_integrated y GMHI_unintegrated. Se eligen los parámetros como antes.</h2>"
   ]
  },
  {
   "cell_type": "code",
   "execution_count": 216,
   "id": "aab198b8-f92d-4ccd-a812-b5075fb2b04a",
   "metadata": {
    "tags": []
   },
   "outputs": [
    {
     "name": "stdout",
     "output_type": "stream",
     "text": [
      "|MH|= 782\n",
      "|MN|= 1035\n"
     ]
    }
   ],
   "source": [
    "theta_f=2.5\n",
    "theta_d=0.1\n",
    "MH_integrated,MN_integrated=get_MH_MN(metrics_integrated,theta_f,theta_d)"
   ]
  },
  {
   "cell_type": "code",
   "execution_count": 217,
   "id": "60fa3cf6-60ac-4a47-b58a-de909502b566",
   "metadata": {
    "tags": []
   },
   "outputs": [
    {
     "name": "stdout",
     "output_type": "stream",
     "text": [
      "|MH|= 33\n",
      "|MN|= 16\n"
     ]
    }
   ],
   "source": [
    "theta_f=2.7\n",
    "theta_d=0.1\n",
    "MH_unintegrated,MN_unintegrated=get_MH_MN(metrics_unintegrated,theta_f,theta_d)"
   ]
  },
  {
   "cell_type": "code",
   "execution_count": 218,
   "id": "58d7a53e-c4f5-4b8a-b6ad-c9ab7f0e2153",
   "metadata": {
    "tags": []
   },
   "outputs": [
    {
     "name": "stdout",
     "output_type": "stream",
     "text": [
      "El accuracy obtenido es de 74.11767838125665 %\n"
     ]
    },
    {
     "data": {
      "text/plain": [
       "SRR5946989    3.381677\n",
       "SRR5983265    3.854968\n",
       "SRR5946777    3.538114\n",
       "SRR5946822   -2.863915\n",
       "SRR5946857    3.627159\n",
       "                ...   \n",
       "SRR5946648   -2.216292\n",
       "SRR5946925    2.869937\n",
       "ERR209694     1.836416\n",
       "SRR5946668   -1.568218\n",
       "ERR209312     1.009101\n",
       "Name: GMHI, Length: 613, dtype: float64"
      ]
     },
     "execution_count": 218,
     "metadata": {},
     "output_type": "execute_result"
    }
   ],
   "source": [
    "GMHI_integrated=get_all_GMHI(integrated_pathways,MH_integrated,MN_integrated)\n",
    "accuracy=get_accuracy(GMHI_integrated,meta)\n",
    "print('El accuracy obtenido es de', accuracy*100 ,'%')\n",
    "GMHI_integrated"
   ]
  },
  {
   "cell_type": "code",
   "execution_count": 219,
   "id": "b413eec4-2e62-48eb-927f-107d4b3d16ad",
   "metadata": {
    "tags": []
   },
   "outputs": [
    {
     "name": "stdout",
     "output_type": "stream",
     "text": [
      "El accuracy obtenido es de 76.49946751863685 %\n"
     ]
    },
    {
     "data": {
      "text/plain": [
       "SRR5946989    3.935093\n",
       "SRR5983265    1.433686\n",
       "SRR5946777    4.053824\n",
       "SRR5946822   -4.529595\n",
       "SRR5946857    3.719953\n",
       "                ...   \n",
       "SRR5946648    0.000000\n",
       "SRR5946925    2.742435\n",
       "ERR209694     1.499931\n",
       "SRR5946668   -2.495995\n",
       "ERR209312     3.675529\n",
       "Name: GMHI, Length: 613, dtype: float64"
      ]
     },
     "execution_count": 219,
     "metadata": {},
     "output_type": "execute_result"
    }
   ],
   "source": [
    "GMHI_unintegrated=get_all_GMHI(unintegrated_pathways,MH_unintegrated,MN_unintegrated)\n",
    "accuracy=get_accuracy(GMHI_unintegrated,meta)\n",
    "print('El accuracy obtenido es de', accuracy*100 ,'%')\n",
    "GMHI_unintegrated"
   ]
  },
  {
   "cell_type": "markdown",
   "id": "cd03b341-c263-47bf-b1a7-390db78e0c43",
   "metadata": {},
   "source": [
    "<h1> Una vez calculados los GMHI, se elabora un Random Forest Tree. </h1>"
   ]
  },
  {
   "cell_type": "code",
   "execution_count": 220,
   "id": "6a12b1fb-11f5-46f3-8b24-2e85a1f44c78",
   "metadata": {
    "tags": []
   },
   "outputs": [],
   "source": [
    "from sklearn.ensemble import RandomForestClassifier\n",
    "from sklearn.model_selection import cross_val_score\n",
    "from sklearn.metrics import accuracy_score\n",
    "from sklearn.metrics import balanced_accuracy_score\n",
    "from sklearn.metrics import classification_report"
   ]
  },
  {
   "cell_type": "markdown",
   "id": "b7c5e665-f5c5-4eba-9294-795a5d961c88",
   "metadata": {},
   "source": [
    "<h3>Se ingresan los GMHI a un data frame</h3>"
   ]
  },
  {
   "cell_type": "code",
   "execution_count": 221,
   "id": "35bcde19-cda3-45ee-a3f3-a75ca3fae957",
   "metadata": {
    "tags": []
   },
   "outputs": [],
   "source": [
    "Indices=pd.DataFrame(index=GMHI.index)\n",
    "Indices['GMHI_tax']=GMHI\n",
    "Indices['GMHI_integrated_pathways']=GMHI_integrated\n",
    "Indices['GMHI_unintegrated_pathways']=GMHI_unintegrated"
   ]
  },
  {
   "cell_type": "code",
   "execution_count": 222,
   "id": "8212ed51-e7fe-49a7-ada6-c5c58a24ab12",
   "metadata": {
    "tags": []
   },
   "outputs": [],
   "source": [
    "meta = pd.read_csv('../../DataSets/metadata.txt', sep=\"\\t\")\n",
    "classificator=meta['Diagnosis'].copy(deep=True)"
   ]
  },
  {
   "cell_type": "code",
   "execution_count": 223,
   "id": "b72a3a53-e3f6-4d65-a08c-ff67c6fab129",
   "metadata": {
    "tags": []
   },
   "outputs": [
    {
     "data": {
      "text/html": [
       "<div>\n",
       "<style scoped>\n",
       "    .dataframe tbody tr th:only-of-type {\n",
       "        vertical-align: middle;\n",
       "    }\n",
       "\n",
       "    .dataframe tbody tr th {\n",
       "        vertical-align: top;\n",
       "    }\n",
       "\n",
       "    .dataframe thead th {\n",
       "        text-align: right;\n",
       "    }\n",
       "</style>\n",
       "<table border=\"1\" class=\"dataframe\">\n",
       "  <thead>\n",
       "    <tr style=\"text-align: right;\">\n",
       "      <th></th>\n",
       "      <th>GMHI_tax</th>\n",
       "      <th>GMHI_integrated_pathways</th>\n",
       "      <th>GMHI_unintegrated_pathways</th>\n",
       "    </tr>\n",
       "  </thead>\n",
       "  <tbody>\n",
       "    <tr>\n",
       "      <th>SRR5946989</th>\n",
       "      <td>3.040186</td>\n",
       "      <td>3.381677</td>\n",
       "      <td>3.935093</td>\n",
       "    </tr>\n",
       "    <tr>\n",
       "      <th>SRR5983265</th>\n",
       "      <td>1.512590</td>\n",
       "      <td>3.854968</td>\n",
       "      <td>1.433686</td>\n",
       "    </tr>\n",
       "    <tr>\n",
       "      <th>SRR5946777</th>\n",
       "      <td>3.030951</td>\n",
       "      <td>3.538114</td>\n",
       "      <td>4.053824</td>\n",
       "    </tr>\n",
       "    <tr>\n",
       "      <th>SRR5946822</th>\n",
       "      <td>-2.020200</td>\n",
       "      <td>-2.863915</td>\n",
       "      <td>-4.529595</td>\n",
       "    </tr>\n",
       "    <tr>\n",
       "      <th>SRR5946857</th>\n",
       "      <td>1.311124</td>\n",
       "      <td>3.627159</td>\n",
       "      <td>3.719953</td>\n",
       "    </tr>\n",
       "    <tr>\n",
       "      <th>...</th>\n",
       "      <td>...</td>\n",
       "      <td>...</td>\n",
       "      <td>...</td>\n",
       "    </tr>\n",
       "    <tr>\n",
       "      <th>SRR5946648</th>\n",
       "      <td>-0.665628</td>\n",
       "      <td>-2.216292</td>\n",
       "      <td>0.000000</td>\n",
       "    </tr>\n",
       "    <tr>\n",
       "      <th>SRR5946925</th>\n",
       "      <td>1.504066</td>\n",
       "      <td>2.869937</td>\n",
       "      <td>2.742435</td>\n",
       "    </tr>\n",
       "    <tr>\n",
       "      <th>ERR209694</th>\n",
       "      <td>0.916405</td>\n",
       "      <td>1.836416</td>\n",
       "      <td>1.499931</td>\n",
       "    </tr>\n",
       "    <tr>\n",
       "      <th>SRR5946668</th>\n",
       "      <td>-3.895397</td>\n",
       "      <td>-1.568218</td>\n",
       "      <td>-2.495995</td>\n",
       "    </tr>\n",
       "    <tr>\n",
       "      <th>ERR209312</th>\n",
       "      <td>2.355977</td>\n",
       "      <td>1.009101</td>\n",
       "      <td>3.675529</td>\n",
       "    </tr>\n",
       "  </tbody>\n",
       "</table>\n",
       "<p>613 rows × 3 columns</p>\n",
       "</div>"
      ],
      "text/plain": [
       "            GMHI_tax  GMHI_integrated_pathways  GMHI_unintegrated_pathways\n",
       "SRR5946989  3.040186                  3.381677                    3.935093\n",
       "SRR5983265  1.512590                  3.854968                    1.433686\n",
       "SRR5946777  3.030951                  3.538114                    4.053824\n",
       "SRR5946822 -2.020200                 -2.863915                   -4.529595\n",
       "SRR5946857  1.311124                  3.627159                    3.719953\n",
       "...              ...                       ...                         ...\n",
       "SRR5946648 -0.665628                 -2.216292                    0.000000\n",
       "SRR5946925  1.504066                  2.869937                    2.742435\n",
       "ERR209694   0.916405                  1.836416                    1.499931\n",
       "SRR5946668 -3.895397                 -1.568218                   -2.495995\n",
       "ERR209312   2.355977                  1.009101                    3.675529\n",
       "\n",
       "[613 rows x 3 columns]"
      ]
     },
     "execution_count": 223,
     "metadata": {},
     "output_type": "execute_result"
    }
   ],
   "source": [
    "Indices"
   ]
  },
  {
   "cell_type": "markdown",
   "id": "cb9d7689-eaab-424d-95b5-92a314b9a8e5",
   "metadata": {},
   "source": [
    "<h2>Se etiquetan a los Healthy como 1 y a los Unhealthy como 0 </h2>"
   ]
  },
  {
   "cell_type": "code",
   "execution_count": 224,
   "id": "f1f39be8-19c9-4987-985c-aa4c3cebabd0",
   "metadata": {
    "tags": []
   },
   "outputs": [],
   "source": [
    "\n",
    "classificator[classificator!='Healthy']=0\n",
    "classificator[classificator=='Healthy']=1"
   ]
  },
  {
   "cell_type": "code",
   "execution_count": 225,
   "id": "b2a39dcb-a9b1-423c-80ac-a06927354614",
   "metadata": {
    "tags": []
   },
   "outputs": [
    {
     "data": {
      "text/plain": [
       "array([[ 3.0401862 ,  3.38167654,  3.93509272],\n",
       "       [ 1.5125896 ,  3.85496809,  1.43368607],\n",
       "       [ 3.03095138,  3.5381142 ,  4.05382424],\n",
       "       ...,\n",
       "       [ 0.91640477,  1.83641561,  1.49993088],\n",
       "       [-3.89539714, -1.56821752, -2.4959953 ],\n",
       "       [ 2.35597678,  1.00910076,  3.67552851]])"
      ]
     },
     "execution_count": 225,
     "metadata": {},
     "output_type": "execute_result"
    }
   ],
   "source": [
    "X=Indices.values\n",
    "Y=classificator.values.astype(int)\n",
    "X"
   ]
  },
  {
   "cell_type": "markdown",
   "id": "93e6cdbe-84a8-4fd8-bf3b-3c459b4c63ef",
   "metadata": {},
   "source": [
    "<h2>Se contruye el Random Forest Tree</h2>"
   ]
  },
  {
   "cell_type": "code",
   "execution_count": 226,
   "id": "9dbf65fe-57a6-439a-9d72-f160c02cdbf8",
   "metadata": {
    "tags": []
   },
   "outputs": [
    {
     "data": {
      "text/plain": [
       "0.8157936825269891"
      ]
     },
     "execution_count": 226,
     "metadata": {},
     "output_type": "execute_result"
    }
   ],
   "source": [
    "clf = RandomForestClassifier(n_estimators=500, max_depth=6,min_samples_split=3, random_state=0)\n",
    "clf = clf.fit(X, Y)\n",
    "scores = cross_val_score(clf, X, Y, cv=5)\n",
    "scores.mean()\n"
   ]
  },
  {
   "cell_type": "markdown",
   "id": "b5136aa0-e859-4d4f-a365-6de117316d9a",
   "metadata": {},
   "source": [
    "<h3>Observemos que al dividir los datos, se tiene una aceptable accuracy para los 5 sets de datos</h3>"
   ]
  },
  {
   "cell_type": "code",
   "execution_count": 227,
   "id": "6241bfbf-f84d-480d-937d-9d7a9d8758c0",
   "metadata": {
    "tags": []
   },
   "outputs": [],
   "source": [
    "Y_pred = clf.predict(X)\n"
   ]
  },
  {
   "cell_type": "code",
   "execution_count": 228,
   "id": "18234bf3-e02f-475f-a6ed-d6a53094d5d1",
   "metadata": {
    "tags": []
   },
   "outputs": [
    {
     "data": {
      "text/plain": [
       "0.8939641109298532"
      ]
     },
     "execution_count": 228,
     "metadata": {},
     "output_type": "execute_result"
    }
   ],
   "source": [
    "accuracy_score(Y,Y_pred)"
   ]
  },
  {
   "cell_type": "code",
   "execution_count": 229,
   "id": "c26d6dfe-ea6e-4c34-aae5-02451a304365",
   "metadata": {
    "tags": []
   },
   "outputs": [
    {
     "data": {
      "text/plain": [
       "array([0.3455588 , 0.33010288, 0.32433832])"
      ]
     },
     "execution_count": 229,
     "metadata": {},
     "output_type": "execute_result"
    }
   ],
   "source": [
    "clf.feature_importances_"
   ]
  },
  {
   "cell_type": "code",
   "execution_count": 230,
   "id": "7dbba15c-f7b9-40cd-8dbb-3b59c7bd1116",
   "metadata": {
    "tags": []
   },
   "outputs": [
    {
     "name": "stdout",
     "output_type": "stream",
     "text": [
      "              precision    recall  f1-score   support\n",
      "\n",
      "           0       0.94      0.84      0.89       300\n",
      "           1       0.86      0.95      0.90       313\n",
      "\n",
      "    accuracy                           0.89       613\n",
      "   macro avg       0.90      0.89      0.89       613\n",
      "weighted avg       0.90      0.89      0.89       613\n",
      "\n"
     ]
    }
   ],
   "source": [
    "print(classification_report(Y, Y_pred))"
   ]
  },
  {
   "cell_type": "markdown",
   "id": "fd2e34f1-b190-42f7-a610-2e9d67a637a7",
   "metadata": {},
   "source": [
    "<h1> Se utilizan los datos de q2-dysbiosis para testear los datos</h1>"
   ]
  },
  {
   "cell_type": "markdown",
   "id": "f6fb5c0f-6ba5-4449-82a1-2d733f432c44",
   "metadata": {},
   "source": [
    "<h3> Se cargan los datos de q2-dysbiosis</h3>"
   ]
  },
  {
   "cell_type": "code",
   "execution_count": 231,
   "id": "d684e311-5c8c-43d1-990b-fd31ad1c94a8",
   "metadata": {
    "tags": []
   },
   "outputs": [],
   "source": [
    "meta_test = pd.read_csv('../../DataSets/q2-dysbiosis_test/metadata_test.txt', sep=\"\\t\",)\n",
    "species_test=pd.read_csv('../../DataSets/q2-dysbiosis_test/species.txt',sep=\"\\t\", index_col=0)\n",
    "pathways_test=pd.read_csv('../../DataSets/q2-dysbiosis_test/pathways_stratified.txt',sep=\"\\t\", index_col=0)\n",
    "pathways_unstratified_test=pd.read_csv('../../DataSets/q2-dysbiosis_test/pathways_unstratified.txt',sep=\"\\t\", index_col=0)"
   ]
  },
  {
   "cell_type": "markdown",
   "id": "7c1e85e4-ba2e-4f65-ae17-7522193ff57d",
   "metadata": {},
   "source": [
    "<h3>Cambiamos a los llamados control por Healthy de meta_test y se cambia el nombre de la columna id por SampleID</h3>"
   ]
  },
  {
   "cell_type": "code",
   "execution_count": 232,
   "id": "689d7287-38dd-4810-b3de-abe81067d801",
   "metadata": {
    "tags": []
   },
   "outputs": [],
   "source": [
    "for i in meta_test.index:\n",
    "    if meta_test.loc[i,'Diagnosis']=='control':\n",
    "        meta_test.loc[i,'Diagnosis']='Healthy'\n",
    "meta_test.rename(columns={'id':'SampleID'},inplace=True)"
   ]
  },
  {
   "cell_type": "code",
   "execution_count": 233,
   "id": "520faafa-075a-4ac3-8ae8-58ead3bc0e2a",
   "metadata": {
    "tags": []
   },
   "outputs": [],
   "source": [
    "pathways_test=pathways_test*100"
   ]
  },
  {
   "cell_type": "markdown",
   "id": "b3015e3b-c243-4d7c-af86-8c6e40dc9879",
   "metadata": {
    "tags": []
   },
   "source": [
    "<h3>Obtenemos integrated y unintegrated de pathways_test </h3>"
   ]
  },
  {
   "cell_type": "code",
   "execution_count": 234,
   "id": "4bddba39-224c-4e7a-add0-2a6cd7073302",
   "metadata": {
    "tags": []
   },
   "outputs": [],
   "source": [
    "integrated_pathways_test,unintegrated_pathways_test=get_integrated_unintegrated(pathways_test)"
   ]
  },
  {
   "cell_type": "markdown",
   "id": "a75085ac-48cf-4806-b901-81435bba035c",
   "metadata": {},
   "source": [
    "<h2>A las funciones de los conjuntos de funciones se les cambian los espacios por guiones bajos, pues usualmente se presentan así.</h2>"
   ]
  },
  {
   "cell_type": "code",
   "execution_count": 235,
   "id": "76b00457-e0f0-46a0-91d8-072174ee140e",
   "metadata": {
    "tags": []
   },
   "outputs": [],
   "source": [
    "MH_integrated_test=set()\n",
    "for i in MH_integrated:\n",
    "    MH_integrated_test.add(i.replace(' ','_'))"
   ]
  },
  {
   "cell_type": "code",
   "execution_count": 236,
   "id": "0905632b-2e6b-49a4-9631-8e75f9a361f7",
   "metadata": {
    "tags": []
   },
   "outputs": [],
   "source": [
    "MN_integrated_test=set()\n",
    "for i in MN_integrated:\n",
    "    MN_integrated_test.add(i.replace(' ','_'))"
   ]
  },
  {
   "cell_type": "code",
   "execution_count": 237,
   "id": "740cd121-afa7-4823-b968-e8aa3fa85f65",
   "metadata": {
    "tags": []
   },
   "outputs": [],
   "source": [
    "MH_unintegrated_test=set()\n",
    "for i in MH_unintegrated:\n",
    "    MH_unintegrated_test.add(i.replace(' ','_'))"
   ]
  },
  {
   "cell_type": "code",
   "execution_count": 238,
   "id": "05b9f37e-c25e-4201-8cc3-377be04c11fd",
   "metadata": {
    "tags": []
   },
   "outputs": [],
   "source": [
    "MN_unintegrated_test=set()\n",
    "for i in MN_unintegrated:\n",
    "    MN_unintegrated_test.add(i.replace(' ','_'))"
   ]
  },
  {
   "cell_type": "code",
   "execution_count": 239,
   "id": "9db7dab2-7c90-470f-af0c-a637be4e68a3",
   "metadata": {
    "tags": []
   },
   "outputs": [
    {
     "data": {
      "text/html": [
       "<div>\n",
       "<style scoped>\n",
       "    .dataframe tbody tr th:only-of-type {\n",
       "        vertical-align: middle;\n",
       "    }\n",
       "\n",
       "    .dataframe tbody tr th {\n",
       "        vertical-align: top;\n",
       "    }\n",
       "\n",
       "    .dataframe thead th {\n",
       "        text-align: right;\n",
       "    }\n",
       "</style>\n",
       "<table border=\"1\" class=\"dataframe\">\n",
       "  <thead>\n",
       "    <tr style=\"text-align: right;\">\n",
       "      <th></th>\n",
       "      <th>SampleID</th>\n",
       "      <th>Diagnosis</th>\n",
       "    </tr>\n",
       "  </thead>\n",
       "  <tbody>\n",
       "    <tr>\n",
       "      <th>0</th>\n",
       "      <td>Sample_1</td>\n",
       "      <td>Healthy</td>\n",
       "    </tr>\n",
       "    <tr>\n",
       "      <th>1</th>\n",
       "      <td>Sample_2</td>\n",
       "      <td>Healthy</td>\n",
       "    </tr>\n",
       "    <tr>\n",
       "      <th>2</th>\n",
       "      <td>Sample_3</td>\n",
       "      <td>acute_diarrhoea</td>\n",
       "    </tr>\n",
       "    <tr>\n",
       "      <th>3</th>\n",
       "      <td>Sample_4</td>\n",
       "      <td>acute_diarrhoea</td>\n",
       "    </tr>\n",
       "    <tr>\n",
       "      <th>4</th>\n",
       "      <td>Sample_5</td>\n",
       "      <td>acute_diarrhoea</td>\n",
       "    </tr>\n",
       "    <tr>\n",
       "      <th>5</th>\n",
       "      <td>Sample_6</td>\n",
       "      <td>acute_diarrhoea</td>\n",
       "    </tr>\n",
       "    <tr>\n",
       "      <th>6</th>\n",
       "      <td>Sample_7</td>\n",
       "      <td>Unknown</td>\n",
       "    </tr>\n",
       "    <tr>\n",
       "      <th>7</th>\n",
       "      <td>Sample_8</td>\n",
       "      <td>acute_diarrhoea</td>\n",
       "    </tr>\n",
       "    <tr>\n",
       "      <th>8</th>\n",
       "      <td>Sample_9</td>\n",
       "      <td>Healthy</td>\n",
       "    </tr>\n",
       "    <tr>\n",
       "      <th>9</th>\n",
       "      <td>Sample_10</td>\n",
       "      <td>acute_diarrhoea</td>\n",
       "    </tr>\n",
       "    <tr>\n",
       "      <th>10</th>\n",
       "      <td>Sample_11</td>\n",
       "      <td>acute_diarrhoea</td>\n",
       "    </tr>\n",
       "    <tr>\n",
       "      <th>11</th>\n",
       "      <td>Sample_12</td>\n",
       "      <td>acute_diarrhoea</td>\n",
       "    </tr>\n",
       "    <tr>\n",
       "      <th>12</th>\n",
       "      <td>Sample_13</td>\n",
       "      <td>acute_diarrhoea</td>\n",
       "    </tr>\n",
       "    <tr>\n",
       "      <th>13</th>\n",
       "      <td>Sample_14</td>\n",
       "      <td>Healthy</td>\n",
       "    </tr>\n",
       "    <tr>\n",
       "      <th>14</th>\n",
       "      <td>Sample_15</td>\n",
       "      <td>acute_diarrhoea</td>\n",
       "    </tr>\n",
       "    <tr>\n",
       "      <th>15</th>\n",
       "      <td>Sample_16</td>\n",
       "      <td>acute_diarrhoea</td>\n",
       "    </tr>\n",
       "    <tr>\n",
       "      <th>16</th>\n",
       "      <td>Sample_17</td>\n",
       "      <td>acute_diarrhoea</td>\n",
       "    </tr>\n",
       "    <tr>\n",
       "      <th>17</th>\n",
       "      <td>Sample_18</td>\n",
       "      <td>Healthy</td>\n",
       "    </tr>\n",
       "    <tr>\n",
       "      <th>18</th>\n",
       "      <td>Sample_19</td>\n",
       "      <td>Healthy</td>\n",
       "    </tr>\n",
       "    <tr>\n",
       "      <th>19</th>\n",
       "      <td>Sample_20</td>\n",
       "      <td>acute_diarrhoea</td>\n",
       "    </tr>\n",
       "    <tr>\n",
       "      <th>20</th>\n",
       "      <td>Sample_21</td>\n",
       "      <td>Unknown</td>\n",
       "    </tr>\n",
       "    <tr>\n",
       "      <th>21</th>\n",
       "      <td>Sample_22</td>\n",
       "      <td>acute_diarrhoea</td>\n",
       "    </tr>\n",
       "    <tr>\n",
       "      <th>22</th>\n",
       "      <td>Sample_23</td>\n",
       "      <td>acute_diarrhoea</td>\n",
       "    </tr>\n",
       "    <tr>\n",
       "      <th>23</th>\n",
       "      <td>Sample_24</td>\n",
       "      <td>acute_diarrhoea</td>\n",
       "    </tr>\n",
       "    <tr>\n",
       "      <th>24</th>\n",
       "      <td>Sample_25</td>\n",
       "      <td>Healthy</td>\n",
       "    </tr>\n",
       "    <tr>\n",
       "      <th>25</th>\n",
       "      <td>Sample_26</td>\n",
       "      <td>Healthy</td>\n",
       "    </tr>\n",
       "    <tr>\n",
       "      <th>26</th>\n",
       "      <td>Sample_27</td>\n",
       "      <td>Healthy</td>\n",
       "    </tr>\n",
       "    <tr>\n",
       "      <th>27</th>\n",
       "      <td>Sample_28</td>\n",
       "      <td>acute_diarrhoea</td>\n",
       "    </tr>\n",
       "    <tr>\n",
       "      <th>28</th>\n",
       "      <td>Sample_29</td>\n",
       "      <td>acute_diarrhoea</td>\n",
       "    </tr>\n",
       "    <tr>\n",
       "      <th>29</th>\n",
       "      <td>Sample_30</td>\n",
       "      <td>acute_diarrhoea</td>\n",
       "    </tr>\n",
       "    <tr>\n",
       "      <th>30</th>\n",
       "      <td>Sample_31</td>\n",
       "      <td>acute_diarrhoea</td>\n",
       "    </tr>\n",
       "    <tr>\n",
       "      <th>31</th>\n",
       "      <td>Sample_32</td>\n",
       "      <td>acute_diarrhoea</td>\n",
       "    </tr>\n",
       "    <tr>\n",
       "      <th>32</th>\n",
       "      <td>Sample_33</td>\n",
       "      <td>acute_diarrhoea</td>\n",
       "    </tr>\n",
       "    <tr>\n",
       "      <th>33</th>\n",
       "      <td>Sample_34</td>\n",
       "      <td>acute_diarrhoea</td>\n",
       "    </tr>\n",
       "    <tr>\n",
       "      <th>34</th>\n",
       "      <td>Sample_35</td>\n",
       "      <td>acute_diarrhoea</td>\n",
       "    </tr>\n",
       "    <tr>\n",
       "      <th>35</th>\n",
       "      <td>Sample_36</td>\n",
       "      <td>acute_diarrhoea</td>\n",
       "    </tr>\n",
       "    <tr>\n",
       "      <th>36</th>\n",
       "      <td>Sample_37</td>\n",
       "      <td>acute_diarrhoea</td>\n",
       "    </tr>\n",
       "    <tr>\n",
       "      <th>37</th>\n",
       "      <td>Sample_38</td>\n",
       "      <td>acute_diarrhoea</td>\n",
       "    </tr>\n",
       "    <tr>\n",
       "      <th>38</th>\n",
       "      <td>Sample_39</td>\n",
       "      <td>acute_diarrhoea</td>\n",
       "    </tr>\n",
       "    <tr>\n",
       "      <th>39</th>\n",
       "      <td>Sample_40</td>\n",
       "      <td>acute_diarrhoea</td>\n",
       "    </tr>\n",
       "    <tr>\n",
       "      <th>40</th>\n",
       "      <td>Sample_41</td>\n",
       "      <td>acute_diarrhoea</td>\n",
       "    </tr>\n",
       "    <tr>\n",
       "      <th>41</th>\n",
       "      <td>Sample_42</td>\n",
       "      <td>acute_diarrhoea</td>\n",
       "    </tr>\n",
       "    <tr>\n",
       "      <th>42</th>\n",
       "      <td>Sample_43</td>\n",
       "      <td>acute_diarrhoea</td>\n",
       "    </tr>\n",
       "    <tr>\n",
       "      <th>43</th>\n",
       "      <td>Sample_44</td>\n",
       "      <td>acute_diarrhoea</td>\n",
       "    </tr>\n",
       "    <tr>\n",
       "      <th>44</th>\n",
       "      <td>Sample_45</td>\n",
       "      <td>acute_diarrhoea</td>\n",
       "    </tr>\n",
       "    <tr>\n",
       "      <th>45</th>\n",
       "      <td>Sample_46</td>\n",
       "      <td>acute_diarrhoea</td>\n",
       "    </tr>\n",
       "    <tr>\n",
       "      <th>46</th>\n",
       "      <td>Sample_47</td>\n",
       "      <td>acute_diarrhoea</td>\n",
       "    </tr>\n",
       "    <tr>\n",
       "      <th>47</th>\n",
       "      <td>Sample_48</td>\n",
       "      <td>acute_diarrhoea</td>\n",
       "    </tr>\n",
       "    <tr>\n",
       "      <th>48</th>\n",
       "      <td>Sample_49</td>\n",
       "      <td>acute_diarrhoea</td>\n",
       "    </tr>\n",
       "  </tbody>\n",
       "</table>\n",
       "</div>"
      ],
      "text/plain": [
       "     SampleID        Diagnosis\n",
       "0    Sample_1          Healthy\n",
       "1    Sample_2          Healthy\n",
       "2    Sample_3  acute_diarrhoea\n",
       "3    Sample_4  acute_diarrhoea\n",
       "4    Sample_5  acute_diarrhoea\n",
       "5    Sample_6  acute_diarrhoea\n",
       "6    Sample_7          Unknown\n",
       "7    Sample_8  acute_diarrhoea\n",
       "8    Sample_9          Healthy\n",
       "9   Sample_10  acute_diarrhoea\n",
       "10  Sample_11  acute_diarrhoea\n",
       "11  Sample_12  acute_diarrhoea\n",
       "12  Sample_13  acute_diarrhoea\n",
       "13  Sample_14          Healthy\n",
       "14  Sample_15  acute_diarrhoea\n",
       "15  Sample_16  acute_diarrhoea\n",
       "16  Sample_17  acute_diarrhoea\n",
       "17  Sample_18          Healthy\n",
       "18  Sample_19          Healthy\n",
       "19  Sample_20  acute_diarrhoea\n",
       "20  Sample_21          Unknown\n",
       "21  Sample_22  acute_diarrhoea\n",
       "22  Sample_23  acute_diarrhoea\n",
       "23  Sample_24  acute_diarrhoea\n",
       "24  Sample_25          Healthy\n",
       "25  Sample_26          Healthy\n",
       "26  Sample_27          Healthy\n",
       "27  Sample_28  acute_diarrhoea\n",
       "28  Sample_29  acute_diarrhoea\n",
       "29  Sample_30  acute_diarrhoea\n",
       "30  Sample_31  acute_diarrhoea\n",
       "31  Sample_32  acute_diarrhoea\n",
       "32  Sample_33  acute_diarrhoea\n",
       "33  Sample_34  acute_diarrhoea\n",
       "34  Sample_35  acute_diarrhoea\n",
       "35  Sample_36  acute_diarrhoea\n",
       "36  Sample_37  acute_diarrhoea\n",
       "37  Sample_38  acute_diarrhoea\n",
       "38  Sample_39  acute_diarrhoea\n",
       "39  Sample_40  acute_diarrhoea\n",
       "40  Sample_41  acute_diarrhoea\n",
       "41  Sample_42  acute_diarrhoea\n",
       "42  Sample_43  acute_diarrhoea\n",
       "43  Sample_44  acute_diarrhoea\n",
       "44  Sample_45  acute_diarrhoea\n",
       "45  Sample_46  acute_diarrhoea\n",
       "46  Sample_47  acute_diarrhoea\n",
       "47  Sample_48  acute_diarrhoea\n",
       "48  Sample_49  acute_diarrhoea"
      ]
     },
     "execution_count": 239,
     "metadata": {},
     "output_type": "execute_result"
    }
   ],
   "source": [
    "meta_test"
   ]
  },
  {
   "cell_type": "markdown",
   "id": "d0b257c6-99a5-4c9b-b4fa-f025eac89a11",
   "metadata": {},
   "source": [
    "<h2> Calculamos los GMHI para los datos test</h2>"
   ]
  },
  {
   "cell_type": "code",
   "execution_count": 240,
   "id": "4eab5b14-559c-4f20-b0b2-ec046dabe781",
   "metadata": {
    "tags": []
   },
   "outputs": [
    {
     "name": "stdout",
     "output_type": "stream",
     "text": [
      "El accuracy obtenido es de 61.52777777777778 %\n"
     ]
    }
   ],
   "source": [
    "GMHI_tax_test=get_all_GMHI(species_test,H,N)\n",
    "accuracy=get_accuracy(GMHI_tax_test,meta_test)\n",
    "print('El accuracy obtenido es de', accuracy*100 ,'%')"
   ]
  },
  {
   "cell_type": "code",
   "execution_count": 241,
   "id": "b9435db1-bf86-4f84-a969-da3f38c6e497",
   "metadata": {
    "tags": []
   },
   "outputs": [
    {
     "name": "stdout",
     "output_type": "stream",
     "text": [
      "El accuracy obtenido es de 43.75 %\n"
     ]
    }
   ],
   "source": [
    "GMHI_integrated_test=get_all_GMHI(integrated_pathways_test,MH_integrated_test,MN_integrated_test)\n",
    "accuracy=get_accuracy(GMHI_integrated_test,meta_test)\n",
    "print('El accuracy obtenido es de', accuracy*100 ,'%')"
   ]
  },
  {
   "cell_type": "code",
   "execution_count": 242,
   "id": "883122c9-32aa-46f7-b6a3-f3653519868d",
   "metadata": {
    "tags": []
   },
   "outputs": [
    {
     "name": "stdout",
     "output_type": "stream",
     "text": [
      "El accuracy obtenido es de 49.30555555555556 %\n"
     ]
    }
   ],
   "source": [
    "GMHI_unintegrated_test=get_all_GMHI(unintegrated_pathways_test,MH_unintegrated,MN_unintegrated)\n",
    "accuracy=get_accuracy(GMHI_unintegrated_test,meta_test)\n",
    "print('El accuracy obtenido es de', accuracy*100 ,'%')"
   ]
  },
  {
   "cell_type": "code",
   "execution_count": 243,
   "id": "7bf72733-7699-4dde-9a8b-7ee4fac0f600",
   "metadata": {
    "tags": []
   },
   "outputs": [
    {
     "data": {
      "text/html": [
       "<div>\n",
       "<style scoped>\n",
       "    .dataframe tbody tr th:only-of-type {\n",
       "        vertical-align: middle;\n",
       "    }\n",
       "\n",
       "    .dataframe tbody tr th {\n",
       "        vertical-align: top;\n",
       "    }\n",
       "\n",
       "    .dataframe thead th {\n",
       "        text-align: right;\n",
       "    }\n",
       "</style>\n",
       "<table border=\"1\" class=\"dataframe\">\n",
       "  <thead>\n",
       "    <tr style=\"text-align: right;\">\n",
       "      <th></th>\n",
       "      <th>GMHI_tax</th>\n",
       "      <th>GMHI_integrated_pathways</th>\n",
       "      <th>GMHI_unintegrated_pathways</th>\n",
       "    </tr>\n",
       "  </thead>\n",
       "  <tbody>\n",
       "    <tr>\n",
       "      <th>Sample_1</th>\n",
       "      <td>-2.442982</td>\n",
       "      <td>-2.336180</td>\n",
       "      <td>-2.590721</td>\n",
       "    </tr>\n",
       "    <tr>\n",
       "      <th>Sample_2</th>\n",
       "      <td>-2.043637</td>\n",
       "      <td>-4.186310</td>\n",
       "      <td>-4.774837</td>\n",
       "    </tr>\n",
       "    <tr>\n",
       "      <th>Sample_3</th>\n",
       "      <td>-0.479259</td>\n",
       "      <td>-2.183386</td>\n",
       "      <td>-0.941527</td>\n",
       "    </tr>\n",
       "    <tr>\n",
       "      <th>Sample_4</th>\n",
       "      <td>-3.550129</td>\n",
       "      <td>-1.256917</td>\n",
       "      <td>-1.223359</td>\n",
       "    </tr>\n",
       "    <tr>\n",
       "      <th>Sample_5</th>\n",
       "      <td>-1.606603</td>\n",
       "      <td>-1.912754</td>\n",
       "      <td>-4.785419</td>\n",
       "    </tr>\n",
       "    <tr>\n",
       "      <th>Sample_6</th>\n",
       "      <td>0.394098</td>\n",
       "      <td>-2.470133</td>\n",
       "      <td>-1.746595</td>\n",
       "    </tr>\n",
       "    <tr>\n",
       "      <th>Sample_7</th>\n",
       "      <td>0.000000</td>\n",
       "      <td>0.000000</td>\n",
       "      <td>0.000000</td>\n",
       "    </tr>\n",
       "    <tr>\n",
       "      <th>Sample_8</th>\n",
       "      <td>-3.353404</td>\n",
       "      <td>-2.511720</td>\n",
       "      <td>-5.191000</td>\n",
       "    </tr>\n",
       "    <tr>\n",
       "      <th>Sample_9</th>\n",
       "      <td>-0.704878</td>\n",
       "      <td>-2.916807</td>\n",
       "      <td>-3.874628</td>\n",
       "    </tr>\n",
       "    <tr>\n",
       "      <th>Sample_10</th>\n",
       "      <td>-1.203072</td>\n",
       "      <td>-2.273615</td>\n",
       "      <td>-2.872454</td>\n",
       "    </tr>\n",
       "    <tr>\n",
       "      <th>Sample_11</th>\n",
       "      <td>0.105869</td>\n",
       "      <td>-2.473660</td>\n",
       "      <td>0.000000</td>\n",
       "    </tr>\n",
       "    <tr>\n",
       "      <th>Sample_12</th>\n",
       "      <td>-2.212182</td>\n",
       "      <td>-2.065323</td>\n",
       "      <td>-5.077669</td>\n",
       "    </tr>\n",
       "    <tr>\n",
       "      <th>Sample_13</th>\n",
       "      <td>-1.923987</td>\n",
       "      <td>-2.529674</td>\n",
       "      <td>-5.500627</td>\n",
       "    </tr>\n",
       "    <tr>\n",
       "      <th>Sample_14</th>\n",
       "      <td>-0.207493</td>\n",
       "      <td>-2.708351</td>\n",
       "      <td>-3.016267</td>\n",
       "    </tr>\n",
       "    <tr>\n",
       "      <th>Sample_15</th>\n",
       "      <td>-1.292843</td>\n",
       "      <td>-2.029749</td>\n",
       "      <td>-1.041777</td>\n",
       "    </tr>\n",
       "    <tr>\n",
       "      <th>Sample_16</th>\n",
       "      <td>-0.768844</td>\n",
       "      <td>-2.718868</td>\n",
       "      <td>-3.297362</td>\n",
       "    </tr>\n",
       "    <tr>\n",
       "      <th>Sample_17</th>\n",
       "      <td>-0.851822</td>\n",
       "      <td>-2.399377</td>\n",
       "      <td>-3.486052</td>\n",
       "    </tr>\n",
       "    <tr>\n",
       "      <th>Sample_18</th>\n",
       "      <td>1.649307</td>\n",
       "      <td>-1.900202</td>\n",
       "      <td>-1.745873</td>\n",
       "    </tr>\n",
       "    <tr>\n",
       "      <th>Sample_19</th>\n",
       "      <td>1.646985</td>\n",
       "      <td>-0.624404</td>\n",
       "      <td>1.114645</td>\n",
       "    </tr>\n",
       "    <tr>\n",
       "      <th>Sample_20</th>\n",
       "      <td>1.798991</td>\n",
       "      <td>-1.218467</td>\n",
       "      <td>-1.875745</td>\n",
       "    </tr>\n",
       "    <tr>\n",
       "      <th>Sample_21</th>\n",
       "      <td>0.000000</td>\n",
       "      <td>0.000000</td>\n",
       "      <td>0.000000</td>\n",
       "    </tr>\n",
       "    <tr>\n",
       "      <th>Sample_22</th>\n",
       "      <td>-1.582601</td>\n",
       "      <td>-4.041755</td>\n",
       "      <td>-4.561084</td>\n",
       "    </tr>\n",
       "    <tr>\n",
       "      <th>Sample_23</th>\n",
       "      <td>0.000000</td>\n",
       "      <td>0.000000</td>\n",
       "      <td>0.000000</td>\n",
       "    </tr>\n",
       "    <tr>\n",
       "      <th>Sample_24</th>\n",
       "      <td>-3.140480</td>\n",
       "      <td>-1.338269</td>\n",
       "      <td>-4.497374</td>\n",
       "    </tr>\n",
       "    <tr>\n",
       "      <th>Sample_25</th>\n",
       "      <td>2.193566</td>\n",
       "      <td>-1.189976</td>\n",
       "      <td>-1.276023</td>\n",
       "    </tr>\n",
       "    <tr>\n",
       "      <th>Sample_26</th>\n",
       "      <td>0.204582</td>\n",
       "      <td>-1.275290</td>\n",
       "      <td>-1.961319</td>\n",
       "    </tr>\n",
       "    <tr>\n",
       "      <th>Sample_27</th>\n",
       "      <td>1.404352</td>\n",
       "      <td>-0.420418</td>\n",
       "      <td>-1.057752</td>\n",
       "    </tr>\n",
       "    <tr>\n",
       "      <th>Sample_28</th>\n",
       "      <td>0.000000</td>\n",
       "      <td>-2.333636</td>\n",
       "      <td>-4.957381</td>\n",
       "    </tr>\n",
       "    <tr>\n",
       "      <th>Sample_29</th>\n",
       "      <td>0.000000</td>\n",
       "      <td>-0.318263</td>\n",
       "      <td>-2.657994</td>\n",
       "    </tr>\n",
       "    <tr>\n",
       "      <th>Sample_30</th>\n",
       "      <td>-1.792723</td>\n",
       "      <td>-1.868343</td>\n",
       "      <td>-4.561483</td>\n",
       "    </tr>\n",
       "    <tr>\n",
       "      <th>Sample_31</th>\n",
       "      <td>-0.043892</td>\n",
       "      <td>-2.451079</td>\n",
       "      <td>-5.229932</td>\n",
       "    </tr>\n",
       "    <tr>\n",
       "      <th>Sample_32</th>\n",
       "      <td>-1.394280</td>\n",
       "      <td>-2.233251</td>\n",
       "      <td>-4.897928</td>\n",
       "    </tr>\n",
       "    <tr>\n",
       "      <th>Sample_33</th>\n",
       "      <td>0.000000</td>\n",
       "      <td>2.431859</td>\n",
       "      <td>-2.020094</td>\n",
       "    </tr>\n",
       "    <tr>\n",
       "      <th>Sample_34</th>\n",
       "      <td>-1.010549</td>\n",
       "      <td>-1.665432</td>\n",
       "      <td>-4.110166</td>\n",
       "    </tr>\n",
       "    <tr>\n",
       "      <th>Sample_35</th>\n",
       "      <td>0.000000</td>\n",
       "      <td>0.000000</td>\n",
       "      <td>0.000000</td>\n",
       "    </tr>\n",
       "    <tr>\n",
       "      <th>Sample_36</th>\n",
       "      <td>0.604519</td>\n",
       "      <td>-1.691067</td>\n",
       "      <td>-2.056841</td>\n",
       "    </tr>\n",
       "    <tr>\n",
       "      <th>Sample_37</th>\n",
       "      <td>-0.682895</td>\n",
       "      <td>-3.717154</td>\n",
       "      <td>-5.062599</td>\n",
       "    </tr>\n",
       "    <tr>\n",
       "      <th>Sample_38</th>\n",
       "      <td>-1.373932</td>\n",
       "      <td>-3.658856</td>\n",
       "      <td>-4.647491</td>\n",
       "    </tr>\n",
       "    <tr>\n",
       "      <th>Sample_39</th>\n",
       "      <td>-1.976859</td>\n",
       "      <td>-2.433196</td>\n",
       "      <td>-1.547845</td>\n",
       "    </tr>\n",
       "    <tr>\n",
       "      <th>Sample_40</th>\n",
       "      <td>-2.086153</td>\n",
       "      <td>-2.279022</td>\n",
       "      <td>-4.901430</td>\n",
       "    </tr>\n",
       "    <tr>\n",
       "      <th>Sample_41</th>\n",
       "      <td>-2.873176</td>\n",
       "      <td>-5.480637</td>\n",
       "      <td>-3.745451</td>\n",
       "    </tr>\n",
       "    <tr>\n",
       "      <th>Sample_42</th>\n",
       "      <td>-2.491443</td>\n",
       "      <td>-2.050839</td>\n",
       "      <td>-4.682352</td>\n",
       "    </tr>\n",
       "    <tr>\n",
       "      <th>Sample_43</th>\n",
       "      <td>-2.265815</td>\n",
       "      <td>-2.631668</td>\n",
       "      <td>-5.520210</td>\n",
       "    </tr>\n",
       "    <tr>\n",
       "      <th>Sample_44</th>\n",
       "      <td>2.581420</td>\n",
       "      <td>-1.993203</td>\n",
       "      <td>-2.402671</td>\n",
       "    </tr>\n",
       "    <tr>\n",
       "      <th>Sample_45</th>\n",
       "      <td>-0.593361</td>\n",
       "      <td>-1.663547</td>\n",
       "      <td>-0.485201</td>\n",
       "    </tr>\n",
       "    <tr>\n",
       "      <th>Sample_46</th>\n",
       "      <td>0.000000</td>\n",
       "      <td>-4.788859</td>\n",
       "      <td>-4.373220</td>\n",
       "    </tr>\n",
       "    <tr>\n",
       "      <th>Sample_47</th>\n",
       "      <td>-0.895148</td>\n",
       "      <td>-2.207569</td>\n",
       "      <td>-2.522763</td>\n",
       "    </tr>\n",
       "    <tr>\n",
       "      <th>Sample_48</th>\n",
       "      <td>-0.757290</td>\n",
       "      <td>-2.388571</td>\n",
       "      <td>-4.812014</td>\n",
       "    </tr>\n",
       "    <tr>\n",
       "      <th>Sample_49</th>\n",
       "      <td>-2.007232</td>\n",
       "      <td>-2.476225</td>\n",
       "      <td>-5.742331</td>\n",
       "    </tr>\n",
       "  </tbody>\n",
       "</table>\n",
       "</div>"
      ],
      "text/plain": [
       "           GMHI_tax  GMHI_integrated_pathways  GMHI_unintegrated_pathways\n",
       "Sample_1  -2.442982                 -2.336180                   -2.590721\n",
       "Sample_2  -2.043637                 -4.186310                   -4.774837\n",
       "Sample_3  -0.479259                 -2.183386                   -0.941527\n",
       "Sample_4  -3.550129                 -1.256917                   -1.223359\n",
       "Sample_5  -1.606603                 -1.912754                   -4.785419\n",
       "Sample_6   0.394098                 -2.470133                   -1.746595\n",
       "Sample_7   0.000000                  0.000000                    0.000000\n",
       "Sample_8  -3.353404                 -2.511720                   -5.191000\n",
       "Sample_9  -0.704878                 -2.916807                   -3.874628\n",
       "Sample_10 -1.203072                 -2.273615                   -2.872454\n",
       "Sample_11  0.105869                 -2.473660                    0.000000\n",
       "Sample_12 -2.212182                 -2.065323                   -5.077669\n",
       "Sample_13 -1.923987                 -2.529674                   -5.500627\n",
       "Sample_14 -0.207493                 -2.708351                   -3.016267\n",
       "Sample_15 -1.292843                 -2.029749                   -1.041777\n",
       "Sample_16 -0.768844                 -2.718868                   -3.297362\n",
       "Sample_17 -0.851822                 -2.399377                   -3.486052\n",
       "Sample_18  1.649307                 -1.900202                   -1.745873\n",
       "Sample_19  1.646985                 -0.624404                    1.114645\n",
       "Sample_20  1.798991                 -1.218467                   -1.875745\n",
       "Sample_21  0.000000                  0.000000                    0.000000\n",
       "Sample_22 -1.582601                 -4.041755                   -4.561084\n",
       "Sample_23  0.000000                  0.000000                    0.000000\n",
       "Sample_24 -3.140480                 -1.338269                   -4.497374\n",
       "Sample_25  2.193566                 -1.189976                   -1.276023\n",
       "Sample_26  0.204582                 -1.275290                   -1.961319\n",
       "Sample_27  1.404352                 -0.420418                   -1.057752\n",
       "Sample_28  0.000000                 -2.333636                   -4.957381\n",
       "Sample_29  0.000000                 -0.318263                   -2.657994\n",
       "Sample_30 -1.792723                 -1.868343                   -4.561483\n",
       "Sample_31 -0.043892                 -2.451079                   -5.229932\n",
       "Sample_32 -1.394280                 -2.233251                   -4.897928\n",
       "Sample_33  0.000000                  2.431859                   -2.020094\n",
       "Sample_34 -1.010549                 -1.665432                   -4.110166\n",
       "Sample_35  0.000000                  0.000000                    0.000000\n",
       "Sample_36  0.604519                 -1.691067                   -2.056841\n",
       "Sample_37 -0.682895                 -3.717154                   -5.062599\n",
       "Sample_38 -1.373932                 -3.658856                   -4.647491\n",
       "Sample_39 -1.976859                 -2.433196                   -1.547845\n",
       "Sample_40 -2.086153                 -2.279022                   -4.901430\n",
       "Sample_41 -2.873176                 -5.480637                   -3.745451\n",
       "Sample_42 -2.491443                 -2.050839                   -4.682352\n",
       "Sample_43 -2.265815                 -2.631668                   -5.520210\n",
       "Sample_44  2.581420                 -1.993203                   -2.402671\n",
       "Sample_45 -0.593361                 -1.663547                   -0.485201\n",
       "Sample_46  0.000000                 -4.788859                   -4.373220\n",
       "Sample_47 -0.895148                 -2.207569                   -2.522763\n",
       "Sample_48 -0.757290                 -2.388571                   -4.812014\n",
       "Sample_49 -2.007232                 -2.476225                   -5.742331"
      ]
     },
     "execution_count": 243,
     "metadata": {},
     "output_type": "execute_result"
    }
   ],
   "source": [
    "Indices_test=pd.DataFrame(index=GMHI_tax_test.index)\n",
    "Indices_test['GMHI_tax']=GMHI_tax_test\n",
    "Indices_test['GMHI_integrated_pathways']=GMHI_integrated_test\n",
    "Indices_test['GMHI_unintegrated_pathways']=GMHI_unintegrated_test\n",
    "Indices_test"
   ]
  },
  {
   "cell_type": "code",
   "execution_count": 244,
   "id": "412d6a66-d930-43f6-a696-992533a7b094",
   "metadata": {
    "tags": []
   },
   "outputs": [],
   "source": [
    "classificator_test=meta_test['Diagnosis'].copy(deep=True)"
   ]
  },
  {
   "cell_type": "markdown",
   "id": "0152cd04-a371-4f52-b3c8-60b53dc8928f",
   "metadata": {},
   "source": [
    "<h3>Cambiamos a los healthy como 1 y a los unhealthy como 0</h3>"
   ]
  },
  {
   "cell_type": "code",
   "execution_count": 245,
   "id": "13e8ff6d-2420-43f0-9085-fd4774536d2a",
   "metadata": {
    "tags": []
   },
   "outputs": [],
   "source": [
    "classificator_test[classificator_test!='Healthy']=0\n",
    "classificator_test[classificator_test=='Healthy']=1"
   ]
  },
  {
   "cell_type": "code",
   "execution_count": 246,
   "id": "792e56b9-36a4-4a51-b242-91a3fe213584",
   "metadata": {
    "tags": []
   },
   "outputs": [],
   "source": [
    "X_test=Indices_test.values\n",
    "Y_test=classificator_test.values.astype(int)\n"
   ]
  },
  {
   "cell_type": "markdown",
   "id": "e76322c8-c3c7-4fd3-b22c-e7bb488b0d88",
   "metadata": {},
   "source": [
    "<h3>Predicción y accuracy para los datos de q2-dyobisis:</h3>"
   ]
  },
  {
   "cell_type": "code",
   "execution_count": 247,
   "id": "9deef8b7-38c9-4b30-8f74-cb6d98c7cd87",
   "metadata": {
    "tags": []
   },
   "outputs": [
    {
     "data": {
      "text/plain": [
       "array([0, 0, 0, 0, 0, 0, 0, 0, 0, 0, 0, 0, 0, 0, 0, 0, 0, 0, 1, 0, 0, 0,\n",
       "       0, 0, 0, 0, 0, 0, 0, 0, 0, 0, 0, 0, 0, 0, 0, 0, 0, 0, 0, 0, 0, 0,\n",
       "       0, 0, 0, 0, 0])"
      ]
     },
     "execution_count": 247,
     "metadata": {},
     "output_type": "execute_result"
    }
   ],
   "source": [
    "Y_pred_test = clf.predict(X_test)\n",
    "Y_pred_test"
   ]
  },
  {
   "cell_type": "code",
   "execution_count": 248,
   "id": "5deeb84d-a68c-43ba-9b0f-97721aca496a",
   "metadata": {
    "tags": []
   },
   "outputs": [
    {
     "data": {
      "text/plain": [
       "0.8367346938775511"
      ]
     },
     "execution_count": 248,
     "metadata": {},
     "output_type": "execute_result"
    }
   ],
   "source": [
    "accuracy_score(Y_test,Y_pred_test)"
   ]
  },
  {
   "cell_type": "markdown",
   "id": "d25bee0c-53a3-4ec0-9282-6fb40644ddd9",
   "metadata": {},
   "source": [
    "<h1>Prueba datos COVID</h1>"
   ]
  },
  {
   "cell_type": "markdown",
   "id": "0a2d1164-1655-4031-b5dc-4242347d2bea",
   "metadata": {},
   "source": [
    "<h3> Se cargan los datos de covid</h3>"
   ]
  },
  {
   "cell_type": "code",
   "execution_count": 249,
   "id": "23bef7f8-e88a-4da4-9121-2a73cf06493e",
   "metadata": {
    "tags": []
   },
   "outputs": [],
   "source": [
    "meta_covid=pd.read_csv('../../DataSets/COVID/CAMDA_metadata.txt', sep=\"\\t\",index_col=0)\n",
    "tax_covid=pd.read_csv('../../DataSets/COVID/CAMDA_taxa.txt', sep='\\t',index_col=0)\n",
    "pathways_covid=pd.read_csv('../../DataSets/COVID/CAMDA_pathways.txt', sep='\\t',index_col=0)"
   ]
  },
  {
   "cell_type": "code",
   "execution_count": 250,
   "id": "eaf7db63-1023-4979-8dca-ba387a0318d7",
   "metadata": {
    "tags": []
   },
   "outputs": [],
   "source": [
    "pathways_covid=pathways_covid*100"
   ]
  },
  {
   "cell_type": "markdown",
   "id": "61baa212-ac40-451b-94b6-91e58a3b1bca",
   "metadata": {
    "tags": []
   },
   "source": [
    "<h2> Se calculan los GMHI para tax y path</h2>"
   ]
  },
  {
   "cell_type": "code",
   "execution_count": 251,
   "id": "f34a9813-5df4-4b51-a54b-84c94fe57cb1",
   "metadata": {
    "tags": []
   },
   "outputs": [],
   "source": [
    "GMHI_tax_covid=get_all_GMHI(tax_covid,H,N)"
   ]
  },
  {
   "cell_type": "code",
   "execution_count": 252,
   "id": "e9e8cfd4-be47-45e4-8826-d23731336852",
   "metadata": {
    "tags": []
   },
   "outputs": [],
   "source": [
    "integrated_covid,unintegrated_covid=get_integrated_unintegrated(pathways_covid)"
   ]
  },
  {
   "cell_type": "code",
   "execution_count": 253,
   "id": "6dbce771-0c56-45e5-9863-7233b9f4c935",
   "metadata": {
    "tags": []
   },
   "outputs": [],
   "source": [
    "GMHI_integrated_covid=get_all_GMHI(integrated_covid,MH_integrated_test,MN_integrated_test)"
   ]
  },
  {
   "cell_type": "code",
   "execution_count": 254,
   "id": "e3245668-95c8-4995-a9d8-3bf99410942e",
   "metadata": {
    "tags": []
   },
   "outputs": [],
   "source": [
    "GMHI_unintegrated_covid=get_all_GMHI(unintegrated_covid,MH_unintegrated_test,MN_unintegrated_test)"
   ]
  },
  {
   "cell_type": "markdown",
   "id": "17df58f7-02ef-4dd6-9fc7-02d29c8782be",
   "metadata": {},
   "source": [
    "<h3>Se integran a un data frame </h3>"
   ]
  },
  {
   "cell_type": "code",
   "execution_count": 255,
   "id": "39b0ddae-f7f7-449f-8bb0-c3d1bdd476aa",
   "metadata": {
    "tags": []
   },
   "outputs": [
    {
     "data": {
      "text/html": [
       "<div>\n",
       "<style scoped>\n",
       "    .dataframe tbody tr th:only-of-type {\n",
       "        vertical-align: middle;\n",
       "    }\n",
       "\n",
       "    .dataframe tbody tr th {\n",
       "        vertical-align: top;\n",
       "    }\n",
       "\n",
       "    .dataframe thead th {\n",
       "        text-align: right;\n",
       "    }\n",
       "</style>\n",
       "<table border=\"1\" class=\"dataframe\">\n",
       "  <thead>\n",
       "    <tr style=\"text-align: right;\">\n",
       "      <th></th>\n",
       "      <th>GMHI_tax</th>\n",
       "      <th>GMHI_integrated_pathways</th>\n",
       "      <th>GMHI_unintegrated_pathways</th>\n",
       "    </tr>\n",
       "  </thead>\n",
       "  <tbody>\n",
       "    <tr>\n",
       "      <th>Sample1a</th>\n",
       "      <td>-2.097302</td>\n",
       "      <td>0.000000</td>\n",
       "      <td>0.000000</td>\n",
       "    </tr>\n",
       "    <tr>\n",
       "      <th>Sample1b</th>\n",
       "      <td>1.081889</td>\n",
       "      <td>-1.479035</td>\n",
       "      <td>2.718330</td>\n",
       "    </tr>\n",
       "    <tr>\n",
       "      <th>Sample5a</th>\n",
       "      <td>0.966709</td>\n",
       "      <td>0.030535</td>\n",
       "      <td>-2.887369</td>\n",
       "    </tr>\n",
       "    <tr>\n",
       "      <th>Sample5b</th>\n",
       "      <td>0.523606</td>\n",
       "      <td>0.377960</td>\n",
       "      <td>-1.455049</td>\n",
       "    </tr>\n",
       "    <tr>\n",
       "      <th>Sample6a</th>\n",
       "      <td>-1.812132</td>\n",
       "      <td>0.000000</td>\n",
       "      <td>0.000000</td>\n",
       "    </tr>\n",
       "    <tr>\n",
       "      <th>...</th>\n",
       "      <td>...</td>\n",
       "      <td>...</td>\n",
       "      <td>...</td>\n",
       "    </tr>\n",
       "    <tr>\n",
       "      <th>Sample95b</th>\n",
       "      <td>2.669489</td>\n",
       "      <td>0.000000</td>\n",
       "      <td>0.000000</td>\n",
       "    </tr>\n",
       "    <tr>\n",
       "      <th>Sample96b</th>\n",
       "      <td>3.205488</td>\n",
       "      <td>-0.442430</td>\n",
       "      <td>1.861777</td>\n",
       "    </tr>\n",
       "    <tr>\n",
       "      <th>Sample96a</th>\n",
       "      <td>2.648949</td>\n",
       "      <td>0.000000</td>\n",
       "      <td>0.000000</td>\n",
       "    </tr>\n",
       "    <tr>\n",
       "      <th>Sample98a</th>\n",
       "      <td>2.795116</td>\n",
       "      <td>0.000000</td>\n",
       "      <td>0.000000</td>\n",
       "    </tr>\n",
       "    <tr>\n",
       "      <th>Sample98b</th>\n",
       "      <td>1.122203</td>\n",
       "      <td>2.209968</td>\n",
       "      <td>-2.712942</td>\n",
       "    </tr>\n",
       "  </tbody>\n",
       "</table>\n",
       "<p>70 rows × 3 columns</p>\n",
       "</div>"
      ],
      "text/plain": [
       "           GMHI_tax  GMHI_integrated_pathways  GMHI_unintegrated_pathways\n",
       "Sample1a  -2.097302                  0.000000                    0.000000\n",
       "Sample1b   1.081889                 -1.479035                    2.718330\n",
       "Sample5a   0.966709                  0.030535                   -2.887369\n",
       "Sample5b   0.523606                  0.377960                   -1.455049\n",
       "Sample6a  -1.812132                  0.000000                    0.000000\n",
       "...             ...                       ...                         ...\n",
       "Sample95b  2.669489                  0.000000                    0.000000\n",
       "Sample96b  3.205488                 -0.442430                    1.861777\n",
       "Sample96a  2.648949                  0.000000                    0.000000\n",
       "Sample98a  2.795116                  0.000000                    0.000000\n",
       "Sample98b  1.122203                  2.209968                   -2.712942\n",
       "\n",
       "[70 rows x 3 columns]"
      ]
     },
     "execution_count": 255,
     "metadata": {},
     "output_type": "execute_result"
    }
   ],
   "source": [
    "predicts=pd.DataFrame(index=GMHI_tax_covid.index)\n",
    "predicts['GMHI_tax']=GMHI_tax_covid\n",
    "predicts['GMHI_integrated_pathways']=GMHI_integrated_covid\n",
    "predicts['GMHI_unintegrated_pathways']=GMHI_unintegrated_covid\n",
    "predicts"
   ]
  },
  {
   "cell_type": "markdown",
   "id": "133d13a2-4032-4a3d-9add-db5f2d617e63",
   "metadata": {},
   "source": [
    "<h2>Se realiza la predicción</h2>"
   ]
  },
  {
   "cell_type": "code",
   "execution_count": 256,
   "id": "b8084163-e597-41ec-9791-8f03d6a7bb27",
   "metadata": {
    "tags": []
   },
   "outputs": [
    {
     "data": {
      "text/plain": [
       "array([0, 1, 0, 0, 0, 0, 1, 1, 1, 0, 0, 0, 0, 0, 1, 1, 1, 0, 0, 0, 0, 0,\n",
       "       0, 0, 0, 0, 1, 1, 1, 0, 0, 0, 1, 0, 1, 1, 0, 0, 1, 1, 0, 0, 1, 1,\n",
       "       1, 0, 1, 1, 0, 0, 1, 0, 1, 1, 1, 0, 1, 1, 0, 0, 0, 1, 1, 1, 1, 1,\n",
       "       1, 1, 1, 0])"
      ]
     },
     "execution_count": 256,
     "metadata": {},
     "output_type": "execute_result"
    }
   ],
   "source": [
    "clf.predict(predicts.values)"
   ]
  },
  {
   "cell_type": "markdown",
   "id": "64283ee1-0382-422d-bea3-2159ea70f20c",
   "metadata": {},
   "source": [
    "<h3>Se calculan las probabilidades de ser sano, entre mas cercano a 1, es más sano </h3>"
   ]
  },
  {
   "cell_type": "code",
   "execution_count": 257,
   "id": "174c1262-247d-471c-bc73-4550052a5967",
   "metadata": {
    "tags": []
   },
   "outputs": [
    {
     "data": {
      "text/plain": [
       "array([0.04747589, 0.5103677 , 0.3373391 , 0.25538157, 0.05423131,\n",
       "       0.03347821, 0.64838127, 0.50493779, 0.60837086, 0.40965236,\n",
       "       0.25740304, 0.23101701, 0.04986341, 0.04986341, 0.60918061,\n",
       "       0.55318684, 0.56662027, 0.47273983, 0.04986341, 0.2666591 ,\n",
       "       0.21259796, 0.17864408, 0.25701175, 0.09474243, 0.29758461,\n",
       "       0.29758461, 0.57844814, 0.55589546, 0.56563366, 0.25901306,\n",
       "       0.31440778, 0.25118625, 0.53743662, 0.44861498, 0.51133895,\n",
       "       0.50020873, 0.43905926, 0.43743426, 0.5786954 , 0.571168  ,\n",
       "       0.29321722, 0.33795894, 0.53807675, 0.62971042, 0.5408631 ,\n",
       "       0.4514907 , 0.60974341, 0.56737885, 0.06104956, 0.04813634,\n",
       "       0.62635865, 0.29561085, 0.59961184, 0.585953  , 0.56246319,\n",
       "       0.38259407, 0.60837086, 0.5923332 , 0.10380057, 0.07837706,\n",
       "       0.46061558, 0.6077152 , 0.53623874, 0.66537089, 0.60636282,\n",
       "       0.59546283, 0.66920664, 0.5883332 , 0.6077152 , 0.29262193])"
      ]
     },
     "execution_count": 257,
     "metadata": {},
     "output_type": "execute_result"
    }
   ],
   "source": [
    "prob=clf.predict_proba(predicts.values)\n",
    "prob[:,1]"
   ]
  },
  {
   "cell_type": "code",
   "execution_count": 258,
   "id": "d271dacc-e1ea-415c-8d50-af8c63de3cbd",
   "metadata": {
    "tags": []
   },
   "outputs": [],
   "source": [
    "predicts['RFT']=clf.predict(predicts.values)\n",
    "predicts['Prob_RFT']=prob[:,1]"
   ]
  },
  {
   "cell_type": "code",
   "execution_count": 259,
   "id": "8c0cf832-05af-4395-ab4d-96cf5740ae4c",
   "metadata": {
    "tags": []
   },
   "outputs": [],
   "source": [
    "for i in predicts.index:\n",
    "    if predicts.loc[i,'RFT']==0:\n",
    "        predicts.loc[i,'RFT']='Unhealthy'\n",
    "    else:\n",
    "        predicts.loc[i,'RFT']='Healthy'\n"
   ]
  },
  {
   "cell_type": "code",
   "execution_count": 260,
   "id": "c1ae3195-5ec2-4753-84a0-2fb772bb9a84",
   "metadata": {
    "tags": []
   },
   "outputs": [
    {
     "data": {
      "text/html": [
       "<div>\n",
       "<style scoped>\n",
       "    .dataframe tbody tr th:only-of-type {\n",
       "        vertical-align: middle;\n",
       "    }\n",
       "\n",
       "    .dataframe tbody tr th {\n",
       "        vertical-align: top;\n",
       "    }\n",
       "\n",
       "    .dataframe thead th {\n",
       "        text-align: right;\n",
       "    }\n",
       "</style>\n",
       "<table border=\"1\" class=\"dataframe\">\n",
       "  <thead>\n",
       "    <tr style=\"text-align: right;\">\n",
       "      <th></th>\n",
       "      <th>GMHI_tax</th>\n",
       "      <th>GMHI_integrated_pathways</th>\n",
       "      <th>GMHI_unintegrated_pathways</th>\n",
       "      <th>RFT</th>\n",
       "      <th>Prob_RFT</th>\n",
       "    </tr>\n",
       "  </thead>\n",
       "  <tbody>\n",
       "    <tr>\n",
       "      <th>Sample1a</th>\n",
       "      <td>-2.097302</td>\n",
       "      <td>0.000000</td>\n",
       "      <td>0.000000</td>\n",
       "      <td>Unhealthy</td>\n",
       "      <td>0.047476</td>\n",
       "    </tr>\n",
       "    <tr>\n",
       "      <th>Sample1b</th>\n",
       "      <td>1.081889</td>\n",
       "      <td>-1.479035</td>\n",
       "      <td>2.718330</td>\n",
       "      <td>Healthy</td>\n",
       "      <td>0.510368</td>\n",
       "    </tr>\n",
       "    <tr>\n",
       "      <th>Sample5a</th>\n",
       "      <td>0.966709</td>\n",
       "      <td>0.030535</td>\n",
       "      <td>-2.887369</td>\n",
       "      <td>Unhealthy</td>\n",
       "      <td>0.337339</td>\n",
       "    </tr>\n",
       "    <tr>\n",
       "      <th>Sample5b</th>\n",
       "      <td>0.523606</td>\n",
       "      <td>0.377960</td>\n",
       "      <td>-1.455049</td>\n",
       "      <td>Unhealthy</td>\n",
       "      <td>0.255382</td>\n",
       "    </tr>\n",
       "    <tr>\n",
       "      <th>Sample6a</th>\n",
       "      <td>-1.812132</td>\n",
       "      <td>0.000000</td>\n",
       "      <td>0.000000</td>\n",
       "      <td>Unhealthy</td>\n",
       "      <td>0.054231</td>\n",
       "    </tr>\n",
       "    <tr>\n",
       "      <th>...</th>\n",
       "      <td>...</td>\n",
       "      <td>...</td>\n",
       "      <td>...</td>\n",
       "      <td>...</td>\n",
       "      <td>...</td>\n",
       "    </tr>\n",
       "    <tr>\n",
       "      <th>Sample95b</th>\n",
       "      <td>2.669489</td>\n",
       "      <td>0.000000</td>\n",
       "      <td>0.000000</td>\n",
       "      <td>Healthy</td>\n",
       "      <td>0.595463</td>\n",
       "    </tr>\n",
       "    <tr>\n",
       "      <th>Sample96b</th>\n",
       "      <td>3.205488</td>\n",
       "      <td>-0.442430</td>\n",
       "      <td>1.861777</td>\n",
       "      <td>Healthy</td>\n",
       "      <td>0.669207</td>\n",
       "    </tr>\n",
       "    <tr>\n",
       "      <th>Sample96a</th>\n",
       "      <td>2.648949</td>\n",
       "      <td>0.000000</td>\n",
       "      <td>0.000000</td>\n",
       "      <td>Healthy</td>\n",
       "      <td>0.588333</td>\n",
       "    </tr>\n",
       "    <tr>\n",
       "      <th>Sample98a</th>\n",
       "      <td>2.795116</td>\n",
       "      <td>0.000000</td>\n",
       "      <td>0.000000</td>\n",
       "      <td>Healthy</td>\n",
       "      <td>0.607715</td>\n",
       "    </tr>\n",
       "    <tr>\n",
       "      <th>Sample98b</th>\n",
       "      <td>1.122203</td>\n",
       "      <td>2.209968</td>\n",
       "      <td>-2.712942</td>\n",
       "      <td>Unhealthy</td>\n",
       "      <td>0.292622</td>\n",
       "    </tr>\n",
       "  </tbody>\n",
       "</table>\n",
       "<p>70 rows × 5 columns</p>\n",
       "</div>"
      ],
      "text/plain": [
       "           GMHI_tax  GMHI_integrated_pathways  GMHI_unintegrated_pathways  \\\n",
       "Sample1a  -2.097302                  0.000000                    0.000000   \n",
       "Sample1b   1.081889                 -1.479035                    2.718330   \n",
       "Sample5a   0.966709                  0.030535                   -2.887369   \n",
       "Sample5b   0.523606                  0.377960                   -1.455049   \n",
       "Sample6a  -1.812132                  0.000000                    0.000000   \n",
       "...             ...                       ...                         ...   \n",
       "Sample95b  2.669489                  0.000000                    0.000000   \n",
       "Sample96b  3.205488                 -0.442430                    1.861777   \n",
       "Sample96a  2.648949                  0.000000                    0.000000   \n",
       "Sample98a  2.795116                  0.000000                    0.000000   \n",
       "Sample98b  1.122203                  2.209968                   -2.712942   \n",
       "\n",
       "                 RFT  Prob_RFT  \n",
       "Sample1a   Unhealthy  0.047476  \n",
       "Sample1b     Healthy  0.510368  \n",
       "Sample5a   Unhealthy  0.337339  \n",
       "Sample5b   Unhealthy  0.255382  \n",
       "Sample6a   Unhealthy  0.054231  \n",
       "...              ...       ...  \n",
       "Sample95b    Healthy  0.595463  \n",
       "Sample96b    Healthy  0.669207  \n",
       "Sample96a    Healthy  0.588333  \n",
       "Sample98a    Healthy  0.607715  \n",
       "Sample98b  Unhealthy  0.292622  \n",
       "\n",
       "[70 rows x 5 columns]"
      ]
     },
     "execution_count": 260,
     "metadata": {},
     "output_type": "execute_result"
    }
   ],
   "source": [
    "predicts"
   ]
  },
  {
   "cell_type": "code",
   "execution_count": 261,
   "id": "87766e0e-e64f-41d3-a6d9-c85dbf9ba135",
   "metadata": {
    "tags": []
   },
   "outputs": [],
   "source": [
    "predicts.to_csv('pred_COVID_RFT_GMHI.csv', sep=',')\n"
   ]
  },
  {
   "cell_type": "markdown",
   "id": "fe761efd-07dc-4a42-9d3c-eee80992a330",
   "metadata": {},
   "source": [
    "<h1> Es posible mejorar este índice al obtener un mejor conjunto para los pathways. Cuando el GMHI de pathways es 0, se sospecha que no hay suficientes funciones buenas o malas registradas en nuestros conjuntos. </h1>"
   ]
  }
 ],
 "metadata": {
  "kernelspec": {
   "display_name": "Python 3 (ipykernel)",
   "language": "python",
   "name": "python3"
  },
  "language_info": {
   "codemirror_mode": {
    "name": "ipython",
    "version": 3
   },
   "file_extension": ".py",
   "mimetype": "text/x-python",
   "name": "python",
   "nbconvert_exporter": "python",
   "pygments_lexer": "ipython3",
   "version": "3.10.5"
  }
 },
 "nbformat": 4,
 "nbformat_minor": 5
}
