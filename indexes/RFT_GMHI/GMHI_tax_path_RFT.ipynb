{
 "cells": [
  {
   "cell_type": "markdown",
   "id": "e1bb60bb-cad5-479e-a566-83b2dfac4391",
   "metadata": {},
   "source": [
    "<h1>Notebook para calcular el indice GMHI para tax, path y el Random Forest Tree </h1>"
   ]
  },
  {
   "cell_type": "code",
   "execution_count": 300,
   "id": "1c9c2c44-2ddd-4cf7-be78-1d653b0cd3da",
   "metadata": {
    "tags": []
   },
   "outputs": [],
   "source": [
    "#Librerias que se utilizarán\n",
    "import pandas as pd\n",
    "import numpy as np"
   ]
  },
  {
   "cell_type": "markdown",
   "id": "a67b0fc9-6149-4029-b766-7b0947174239",
   "metadata": {},
   "source": [
    "<h3>La siguiente función cálcula las proporción presencia de las especies $m$ en las muestras saludables y en las no saludables, denotadas por $p_{H,m}$ y $p_{N,m}$, respectivamente. Después, se cálculan las métricas $f_H=\\frac{p_{H,m}}{p_{N,m}}$, $f_N=\\frac{p_{N,m}}{p_{H,m}}$ ,$d_H=p_{H,m}-p_{N,m}$ y $d_N=p_{N,m}-p_{H,m}$ </h3>"
   ]
  },
  {
   "cell_type": "code",
   "execution_count": 301,
   "id": "933e3d23-736e-43d3-95ce-b52bfccc3bb8",
   "metadata": {
    "tags": []
   },
   "outputs": [],
   "source": [
    "def get_fH_fN_dH_dN(meta,tax):\n",
    "    ######### Recibe los data frames de los metadatos y la taxonomia.\n",
    "    \n",
    "    #Se obtienen los id's de las muestras saludables identificadas en los metadatos y después \n",
    "    #observamos la taxonomia de las muestras saludables\n",
    "    healthy_id = meta[meta['Diagnosis']=='Healthy']['SampleID']\n",
    "    tax_healthy = tax[healthy_id]\n",
    "    \n",
    "    #Se obtienen los id's de muestras no saludables y despues se observa la taxonmia de estas muestras\n",
    "    no_healthy_id = meta[meta['Diagnosis']!='Healthy']['SampleID']\n",
    "    tax_no_healthy = tax[no_healthy_id]\n",
    "    \n",
    "    #Se obtienen todas las especies de todas las muestras\n",
    "    species = tax.index\n",
    "    \n",
    "    #Definimos lower para establecer una cota y evitar divisiones entre 0\n",
    "    lower=1e-05\n",
    "    \n",
    "    #Se crea un Data Frame que tendrá las metricas como columnas y a las especies como index\n",
    "    metrics=pd.DataFrame(index=species,columns=['f_H','f_N','d_H','d_N'])\n",
    "    \n",
    "    #Este ciclo obtiene para cada especie m las prevalencias en las muestras saludables p_H y no saludables P_N\n",
    "    #Posteriormente se  agregan f_H,f_N, d_H y d_N al data frame metric\n",
    "    for specie in species:\n",
    "        \n",
    "        #Se localiza la especie en todas las muestras healthy y se obtiene su presencia absoluta\n",
    "        specie_in_H=tax_healthy.loc[specie,:]\n",
    "        abs_pres_H=len(specie_in_H[specie_in_H!=0])\n",
    "        \n",
    "        #Se localiza la especie en todas las muestras no-healthy y se obtiene su presencia absoluta\n",
    "        specie_in_N=tax_no_healthy.loc[specie,:]\n",
    "        abs_pres_N=len(specie_in_N[specie_in_N!=0])\n",
    "        \n",
    "        #Se obtiene PH y PN de la especie, tomando en cuenta que si el resultado es 0, entonces se intercambia por la cota 1e-05\n",
    "        PH=np.divide(abs_pres_H,len(specie_in_H),out=np.asanyarray(lower),where=(abs_pres_H!=0))\n",
    "        PN=np.divide(abs_pres_N,len(specie_in_N),out=np.asanyarray(lower),where=(abs_pres_N!=0))\n",
    "        metrics.loc[specie,:]=[np.divide(PH,PN),np.divide(PN,PH),PH-PN,PN-PH]\n",
    "    return metrics\n",
    "\n",
    "######### Regresa un DataFrame en el que para cada especie se obtienen sus metricas f_H,f_N,d_H y d_N"
   ]
  },
  {
   "cell_type": "markdown",
   "id": "f1630472-db1c-47ed-83d4-da724c7ab565",
   "metadata": {},
   "source": [
    "<h3> En la siguiente función se calculan los conjuntos de especies $M_H$ de las especies con más presencia en las muestras saludables y $M_N$\n",
    "como las especies en las no saludables. Esto, usando los parámetros $\\theta_f$ y $\\theta_N$.</h3>"
   ]
  },
  {
   "cell_type": "code",
   "execution_count": 302,
   "id": "5e6fc0df-3941-4955-b710-e3d2610b50b5",
   "metadata": {
    "tags": []
   },
   "outputs": [],
   "source": [
    "def get_MH_MN(metrics,theta_f,theta_d):\n",
    "    ######### Recibe el conjunto de metricas para cada especie y los parámetros de comparación\n",
    "    \n",
    "    \n",
    "    #Se obtienen las especies beneficiosas que son mayores a los parametros theta_f y theta_d\n",
    "    health_species_pass_theta_f=set(metrics[metrics['f_H']>=theta_f].index)\n",
    "    health_species_pass_theta_d=set(metrics[metrics['d_H']>=theta_d].index)\n",
    "    \n",
    "    #Se obtienen las especies dañinas que son mayores a los parametros theta_f y theta_d\n",
    "    no_health_species_pass_theta_f=set(metrics[metrics['f_N']>=theta_f].index)\n",
    "    no_health_species_pass_theta_d=set(metrics[metrics['d_N']>=theta_d].index)\n",
    "    \n",
    "    #Se definen los conjuntos de las especies beneficiosas y dañinas que superan ambos parámetros\n",
    "    MH=health_species_pass_theta_f & health_species_pass_theta_d\n",
    "    MN=no_health_species_pass_theta_f & no_health_species_pass_theta_d\n",
    "    \n",
    "    print('|MH|=', len(MH) )\n",
    "    print('|MN|=', len(MN))        \n",
    "    return MH,MN\n",
    "\n",
    "######### Regresa los conjuntos de especies identificadas beneficiosas MH y dañinas MN, de acuerdo a los parámetros"
   ]
  },
  {
   "cell_type": "markdown",
   "id": "ac4871b1-a829-483c-bc5f-f65e531a0c93",
   "metadata": {
    "jp-MarkdownHeadingCollapsed": true,
    "tags": []
   },
   "source": [
    "<h3>La función get_Psi cálcula $\\Psi_{{M_H},i}=\\frac{R_{{M_H},i}}{|M_H|} \\sum_{j\\in I_{M_H}}|n_{j,i}ln(n_{j,i})|$ o $\\Psi_{{M_N},i}$ para la muestra $i$.\n",
    "Aquí: \n",
    "<ul>\n",
    "  <li>$R_{{M_H},i}$ es la riqueza de las especies de $M_H$ en la muestra $i$. </li>\n",
    "  <li>$|M_H|$ es el tamaño de el conjunto $M_H$.</li>\n",
    "  <li>$I_{M_H}$ es el conjunto de indices de $M_H$.</li>\n",
    "  <li>$n_{j,i}$ es la abundancia relativa de la especie $j$ en la muestra $i$.</li>\n",
    "</ul>\n",
    "    Análogamente se calcula $\\Psi_{{M_N},i}$ para la muestra i.\n",
    "</h3>"
   ]
  },
  {
   "cell_type": "code",
   "execution_count": 303,
   "id": "3d50f969-c974-4e07-b57c-8363aa3d3325",
   "metadata": {
    "tags": []
   },
   "outputs": [],
   "source": [
    "def get_Psi(set_M,sample):\n",
    "    ######### Recibe el conjunto M_H o M_N y la muestra con la presencia relativa de cada especie\n",
    "    \n",
    "    \n",
    "    #M_in_sample es el conjunto M_H o M_N intersección las especies presentes en la muestra i\n",
    "    M_in_sample=set(sample[sample!=0].index) & set_M\n",
    "    \n",
    "    #Se calcula la R_M\n",
    "    R_M_sample=np.divide(len(M_in_sample),len(set_M))\n",
    "    \n",
    "    #Se obtiene el array n, que contiene las abundanicas relativas de las especies presentes de M en la muestra i\n",
    "    #Posteriormente se calcula el logaritmo y la suma\n",
    "    n=sample[sample!=0][list(M_in_sample)]\n",
    "    log_n=np.log(n)\n",
    "    sum_nlnn=np.sum(n*log_n)\n",
    "    \n",
    "    #Finalmente se recupera Psi para la muestra i y el conjunto M\n",
    "    Psi=np.divide(R_M_sample,len(set_M))*np.absolute(sum_nlnn)\n",
    "    \n",
    "    #Se evita que el caso Psi sea igual a 0 para evitar división entre 0 en la siguiente función. \n",
    "    if Psi==0:\n",
    "        Psi=1e-05\n",
    "    return Psi\n",
    "\n",
    "######### Regresa el número Psi asociado a la muestra i y  al conjunto M_H o M_N.   "
   ]
  },
  {
   "cell_type": "markdown",
   "id": "cda4a760-2fff-49ec-bfe8-830fd6a23c0e",
   "metadata": {},
   "source": [
    "<h3>get_all_GMHI llama a todas las funciones anteriores para calcular todos los $\\text{GMHI}=log_{10}\\frac{\\Psi_{{M_H},i}}{\\Psi_{{M_N},i}}$ de cada muestra $i$.\n",
    "</h3>"
   ]
  },
  {
   "cell_type": "code",
   "execution_count": 304,
   "id": "382b4b2b-fb97-4d52-9dd3-b1c035f784a5",
   "metadata": {
    "tags": []
   },
   "outputs": [],
   "source": [
    "def get_all_GMHI(tax,MH,MN):\n",
    "    ######### Se ingresa la taxonomia, el conjunto de especies MH y MN.\n",
    "    \n",
    "\n",
    "    #Se crea la variable GMHI, una serie de pandas que tiene como indice el nombre de la muestra y como información su indice GMHI.\n",
    "    #Esta serie se llenará con un ciclo for, que recorre todas las especies\n",
    "    samples=tax.columns \n",
    "    GMHI=pd.Series(index=samples,name='GMHI',dtype='float64')\n",
    "    for sample in samples:\n",
    "        \n",
    "        #Se obtiene Psi_MH y Psi_MN con la función get_Psi\n",
    "        Psi_MH=get_Psi(MH,tax[sample])\n",
    "        Psi_MN=get_Psi(MN,tax[sample])\n",
    "        \n",
    "        #Se hace el cociente y se evalua en el logaritmo base 10. Posteriormente se agrega la información a la serie GMHI\n",
    "        GMHI_sample=np.log10(np.divide(Psi_MH,Psi_MN))\n",
    "        GMHI[sample]=GMHI_sample\n",
    "        \n",
    "    return GMHI \n",
    "\n",
    "######### Se regresa la serie con el índice GMHI de cada muestra"
   ]
  },
  {
   "cell_type": "code",
   "execution_count": 305,
   "id": "039eb17f-9b84-4133-bd57-e7a18a522242",
   "metadata": {
    "tags": []
   },
   "outputs": [],
   "source": [
    "def get_accuracy(GMHI,meta):\n",
    "    #Se recibe el GMHI obtenido y los metadatos para comparar la efectividad de la predicción\n",
    "    \n",
    "#     #En diagnosis se almacenan los diagnosticos de cada muestra\n",
    "#     diagnosis=meta['Diagnosis'].copy(deep=False)\n",
    "#     diagnosis.index=meta['SampleID']\n",
    "    \n",
    "#     #Se evaluan los verdaderos positivos y los verdaderos negativos. Posteriormente se obtiene el accuracy\n",
    "#     true_positive=GMHI[diagnosis=='Healthy'][GMHI>0].count()\n",
    "#     true_negative=GMHI[diagnosis!='Healthy'][GMHI<0].count()\n",
    "#     accuracy=np.divide(true_positive+true_negative,GMHI.count())\n",
    "    \n",
    "    \n",
    "    return balanced_accuracy_score(['Unhealthy' if x != 'Healthy' else 'Healthy' for x in meta['Diagnosis']], ['Unhealthy' if x < 0 else 'Healthy' for x in list(GMHI)])\n",
    "    return accuracy\n",
    "\n",
    "######### Se regresa el accuracy obtenido"
   ]
  },
  {
   "cell_type": "markdown",
   "id": "59faeac8-9d99-49ec-b1cd-e166375b1ec1",
   "metadata": {},
   "source": [
    "<h3> Se cargan los datos de CAMDA</h3>"
   ]
  },
  {
   "cell_type": "code",
   "execution_count": 306,
   "id": "6f40c361-ff6c-4142-a8c7-64e3fc279606",
   "metadata": {
    "tags": []
   },
   "outputs": [],
   "source": [
    "meta = pd.read_csv('../../DataSets/CAMDA/metadata.txt', sep=\"\\t\")\n",
    "tax=pd.read_csv('../../DataSets/CAMDA/taxonomy.txt',sep='\\t',index_col=0)\n",
    "metrics=get_fH_fN_dH_dN(meta,tax)"
   ]
  },
  {
   "cell_type": "markdown",
   "id": "ba7bf02e-8400-4a6b-a3b7-1ad04213c4e9",
   "metadata": {},
   "source": [
    "<h2>Se calculan los conjuntos de especies buenas y malas, sin despreciar las obtenidas en el articulo de GMHI, es decir, se agregan. Con estos conjuntos se calcularán posteriormente los indices GMHI de taxonomia para cualquier otro metagenoma.</h2>"
   ]
  },
  {
   "cell_type": "code",
   "execution_count": 307,
   "id": "99fef6d9-d9ab-43f7-85a5-16b15a06c1d3",
   "metadata": {
    "tags": []
   },
   "outputs": [
    {
     "name": "stdout",
     "output_type": "stream",
     "text": [
      "|MH|= 143\n",
      "|MN|= 19\n"
     ]
    }
   ],
   "source": [
    "theta_f=2.5\n",
    "theta_d=0.1\n",
    "MH,MN=get_MH_MN(metrics,theta_f,theta_d)"
   ]
  },
  {
   "cell_type": "markdown",
   "id": "4b351056-64d3-40d5-9849-47b63c218599",
   "metadata": {},
   "source": [
    "<h3>Se cargan las especies buenas y malas de artículo de GMHI y se depuran de acuerdo al formato </h3>"
   ]
  },
  {
   "cell_type": "code",
   "execution_count": 308,
   "id": "ea27179d-5e7e-40ac-b412-1769376841e2",
   "metadata": {
    "tags": []
   },
   "outputs": [],
   "source": [
    "MH_test=pd.read_csv('../../DataSets/INDEX/GMHI/MH_species.txt', sep=\"\\t\", index_col=0)\n",
    "MN_test=pd.read_csv('../../DataSets/INDEX/GMHI/MN_species.txt', sep='\\t',index_col=0)\n",
    "MH_estandar=set()\n",
    "for i in MH_test.index:\n",
    "    MH_estandar.add(i[3:])\n",
    "MN_estandar=set()    \n",
    "for i in MN_test.index:\n",
    "    MN_estandar.add(i[3:])"
   ]
  },
  {
   "cell_type": "code",
   "execution_count": 309,
   "id": "bf9f74ff-a1be-49ae-8aef-e3625dc7ac70",
   "metadata": {
    "tags": []
   },
   "outputs": [],
   "source": [
    "H=MH_estandar.union(MH)\n",
    "N=MN_estandar.union(MN)"
   ]
  },
  {
   "cell_type": "code",
   "execution_count": 310,
   "id": "6c5f33ce-f153-4d94-8259-4797f3a2cc89",
   "metadata": {
    "tags": []
   },
   "outputs": [
    {
     "name": "stdout",
     "output_type": "stream",
     "text": [
      "El accuracy obtenido es de 76.83972310969116 %\n"
     ]
    },
    {
     "data": {
      "text/plain": [
       "SRR5946989    3.040186\n",
       "SRR5983265    1.512590\n",
       "SRR5946777    3.030951\n",
       "SRR5946822   -2.020200\n",
       "SRR5946857    1.311124\n",
       "                ...   \n",
       "SRR5946648   -0.665628\n",
       "SRR5946925    1.504066\n",
       "ERR209694     0.916405\n",
       "SRR5946668   -3.895397\n",
       "ERR209312     2.355977\n",
       "Name: GMHI, Length: 613, dtype: float64"
      ]
     },
     "execution_count": 310,
     "metadata": {},
     "output_type": "execute_result"
    }
   ],
   "source": [
    "#Se calcula el GMHI de cada muestra y también se obtiene el data frame de los metadatos\n",
    "GMHI=get_all_GMHI(tax,H,N)\n",
    "    \n",
    "accuracy=get_accuracy(GMHI,meta)\n",
    "\n",
    "print('El accuracy obtenido es de', accuracy*100 ,'%')\n",
    "GMHI"
   ]
  },
  {
   "cell_type": "markdown",
   "id": "cc109ae5-95d5-4aaa-bd8a-1a04a52a17a2",
   "metadata": {},
   "source": [
    "<h3> Es importante aclarar que se eligieron los parámetros tales que maximizan el accuracy de acuerdo a los datos de CAMDA. Este índice puede mejorarse al elegir un conjunto de muestras mayor</h3>"
   ]
  },
  {
   "cell_type": "markdown",
   "id": "8cd569d3-dc9f-43b1-9fba-c25dde7effd0",
   "metadata": {},
   "source": [
    "<h1> Se experimentó usar el GMHI aplicado a pathways para ver si con esto es posible predecir los estados de la muestra</h1>"
   ]
  },
  {
   "cell_type": "code",
   "execution_count": 311,
   "id": "96bcef89-ebea-45a3-bee3-3438725bc2cc",
   "metadata": {
    "tags": []
   },
   "outputs": [
    {
     "data": {
      "text/html": [
       "<div>\n",
       "<style scoped>\n",
       "    .dataframe tbody tr th:only-of-type {\n",
       "        vertical-align: middle;\n",
       "    }\n",
       "\n",
       "    .dataframe tbody tr th {\n",
       "        vertical-align: top;\n",
       "    }\n",
       "\n",
       "    .dataframe thead th {\n",
       "        text-align: right;\n",
       "    }\n",
       "</style>\n",
       "<table border=\"1\" class=\"dataframe\">\n",
       "  <thead>\n",
       "    <tr style=\"text-align: right;\">\n",
       "      <th></th>\n",
       "      <th>SRR5946989</th>\n",
       "      <th>SRR5983265</th>\n",
       "      <th>SRR5946777</th>\n",
       "      <th>SRR5946822</th>\n",
       "      <th>SRR5946857</th>\n",
       "      <th>SRR5946780</th>\n",
       "      <th>ERR209782</th>\n",
       "      <th>SRR5936213</th>\n",
       "      <th>SRR5947045</th>\n",
       "      <th>SRR5947812</th>\n",
       "      <th>...</th>\n",
       "      <th>SRR5947830</th>\n",
       "      <th>ERR209403</th>\n",
       "      <th>SRR5947050</th>\n",
       "      <th>ERR209519</th>\n",
       "      <th>SRR5935745</th>\n",
       "      <th>SRR5946648</th>\n",
       "      <th>SRR5946925</th>\n",
       "      <th>ERR209694</th>\n",
       "      <th>SRR5946668</th>\n",
       "      <th>ERR209312</th>\n",
       "    </tr>\n",
       "    <tr>\n",
       "      <th># Pathway</th>\n",
       "      <th></th>\n",
       "      <th></th>\n",
       "      <th></th>\n",
       "      <th></th>\n",
       "      <th></th>\n",
       "      <th></th>\n",
       "      <th></th>\n",
       "      <th></th>\n",
       "      <th></th>\n",
       "      <th></th>\n",
       "      <th></th>\n",
       "      <th></th>\n",
       "      <th></th>\n",
       "      <th></th>\n",
       "      <th></th>\n",
       "      <th></th>\n",
       "      <th></th>\n",
       "      <th></th>\n",
       "      <th></th>\n",
       "      <th></th>\n",
       "      <th></th>\n",
       "    </tr>\n",
       "  </thead>\n",
       "  <tbody>\n",
       "    <tr>\n",
       "      <th>UNINTEGRATED|g__Absiella.s__Absiella_dolichum</th>\n",
       "      <td>0.0</td>\n",
       "      <td>0.0</td>\n",
       "      <td>0.0</td>\n",
       "      <td>0.00000</td>\n",
       "      <td>0.0</td>\n",
       "      <td>0.0</td>\n",
       "      <td>0.0</td>\n",
       "      <td>0.0</td>\n",
       "      <td>0.0</td>\n",
       "      <td>0.000000</td>\n",
       "      <td>...</td>\n",
       "      <td>0.0</td>\n",
       "      <td>0.000000</td>\n",
       "      <td>0.000000</td>\n",
       "      <td>0.0</td>\n",
       "      <td>0.0</td>\n",
       "      <td>0.0</td>\n",
       "      <td>0.0</td>\n",
       "      <td>0.0</td>\n",
       "      <td>0.000000</td>\n",
       "      <td>0.0</td>\n",
       "    </tr>\n",
       "    <tr>\n",
       "      <th>UNINTEGRATED|g__Acetobacter.s__Acetobacter_sp_CAG_267</th>\n",
       "      <td>0.0</td>\n",
       "      <td>0.0</td>\n",
       "      <td>0.0</td>\n",
       "      <td>0.00000</td>\n",
       "      <td>0.0</td>\n",
       "      <td>0.0</td>\n",
       "      <td>0.0</td>\n",
       "      <td>0.0</td>\n",
       "      <td>0.0</td>\n",
       "      <td>0.000000</td>\n",
       "      <td>...</td>\n",
       "      <td>0.0</td>\n",
       "      <td>0.000000</td>\n",
       "      <td>0.000000</td>\n",
       "      <td>0.0</td>\n",
       "      <td>0.0</td>\n",
       "      <td>0.0</td>\n",
       "      <td>0.0</td>\n",
       "      <td>0.0</td>\n",
       "      <td>0.000000</td>\n",
       "      <td>0.0</td>\n",
       "    </tr>\n",
       "    <tr>\n",
       "      <th>UNINTEGRATED|g__Acetobacter.s__Acetobacter_sp_CAG_977</th>\n",
       "      <td>0.0</td>\n",
       "      <td>0.0</td>\n",
       "      <td>0.0</td>\n",
       "      <td>0.00000</td>\n",
       "      <td>0.0</td>\n",
       "      <td>0.0</td>\n",
       "      <td>0.0</td>\n",
       "      <td>0.0</td>\n",
       "      <td>0.0</td>\n",
       "      <td>0.000000</td>\n",
       "      <td>...</td>\n",
       "      <td>0.0</td>\n",
       "      <td>0.000000</td>\n",
       "      <td>0.000000</td>\n",
       "      <td>0.0</td>\n",
       "      <td>0.0</td>\n",
       "      <td>0.0</td>\n",
       "      <td>0.0</td>\n",
       "      <td>0.0</td>\n",
       "      <td>0.000000</td>\n",
       "      <td>0.0</td>\n",
       "    </tr>\n",
       "    <tr>\n",
       "      <th>UNINTEGRATED|g__Acholeplasma.s__Acholeplasma_sp_CAG_878</th>\n",
       "      <td>0.0</td>\n",
       "      <td>0.0</td>\n",
       "      <td>0.0</td>\n",
       "      <td>0.00000</td>\n",
       "      <td>0.0</td>\n",
       "      <td>0.0</td>\n",
       "      <td>0.0</td>\n",
       "      <td>0.0</td>\n",
       "      <td>0.0</td>\n",
       "      <td>0.000000</td>\n",
       "      <td>...</td>\n",
       "      <td>0.0</td>\n",
       "      <td>0.009803</td>\n",
       "      <td>0.000000</td>\n",
       "      <td>0.0</td>\n",
       "      <td>0.0</td>\n",
       "      <td>0.0</td>\n",
       "      <td>0.0</td>\n",
       "      <td>0.0</td>\n",
       "      <td>0.000000</td>\n",
       "      <td>0.0</td>\n",
       "    </tr>\n",
       "    <tr>\n",
       "      <th>UNINTEGRATED|g__Acidaminococcus.s__Acidaminococcus_intestini</th>\n",
       "      <td>0.0</td>\n",
       "      <td>0.0</td>\n",
       "      <td>0.0</td>\n",
       "      <td>0.02683</td>\n",
       "      <td>0.0</td>\n",
       "      <td>0.0</td>\n",
       "      <td>0.0</td>\n",
       "      <td>0.0</td>\n",
       "      <td>0.0</td>\n",
       "      <td>0.000000</td>\n",
       "      <td>...</td>\n",
       "      <td>0.0</td>\n",
       "      <td>0.000000</td>\n",
       "      <td>0.000000</td>\n",
       "      <td>0.0</td>\n",
       "      <td>0.0</td>\n",
       "      <td>0.0</td>\n",
       "      <td>0.0</td>\n",
       "      <td>0.0</td>\n",
       "      <td>0.000000</td>\n",
       "      <td>0.0</td>\n",
       "    </tr>\n",
       "    <tr>\n",
       "      <th>...</th>\n",
       "      <td>...</td>\n",
       "      <td>...</td>\n",
       "      <td>...</td>\n",
       "      <td>...</td>\n",
       "      <td>...</td>\n",
       "      <td>...</td>\n",
       "      <td>...</td>\n",
       "      <td>...</td>\n",
       "      <td>...</td>\n",
       "      <td>...</td>\n",
       "      <td>...</td>\n",
       "      <td>...</td>\n",
       "      <td>...</td>\n",
       "      <td>...</td>\n",
       "      <td>...</td>\n",
       "      <td>...</td>\n",
       "      <td>...</td>\n",
       "      <td>...</td>\n",
       "      <td>...</td>\n",
       "      <td>...</td>\n",
       "      <td>...</td>\n",
       "    </tr>\n",
       "    <tr>\n",
       "      <th>VALSYN-PWY: L-valine biosynthesis|g__Veillonella.s__Veillonella_rogosae</th>\n",
       "      <td>0.0</td>\n",
       "      <td>0.0</td>\n",
       "      <td>0.0</td>\n",
       "      <td>0.00000</td>\n",
       "      <td>0.0</td>\n",
       "      <td>0.0</td>\n",
       "      <td>0.0</td>\n",
       "      <td>0.0</td>\n",
       "      <td>0.0</td>\n",
       "      <td>0.000004</td>\n",
       "      <td>...</td>\n",
       "      <td>0.0</td>\n",
       "      <td>0.000000</td>\n",
       "      <td>0.000002</td>\n",
       "      <td>0.0</td>\n",
       "      <td>0.0</td>\n",
       "      <td>0.0</td>\n",
       "      <td>0.0</td>\n",
       "      <td>0.0</td>\n",
       "      <td>0.000002</td>\n",
       "      <td>0.0</td>\n",
       "    </tr>\n",
       "    <tr>\n",
       "      <th>VALSYN-PWY: L-valine biosynthesis|g__Veillonella.s__Veillonella_seminalis</th>\n",
       "      <td>0.0</td>\n",
       "      <td>0.0</td>\n",
       "      <td>0.0</td>\n",
       "      <td>0.00000</td>\n",
       "      <td>0.0</td>\n",
       "      <td>0.0</td>\n",
       "      <td>0.0</td>\n",
       "      <td>0.0</td>\n",
       "      <td>0.0</td>\n",
       "      <td>0.000000</td>\n",
       "      <td>...</td>\n",
       "      <td>0.0</td>\n",
       "      <td>0.000000</td>\n",
       "      <td>0.000000</td>\n",
       "      <td>0.0</td>\n",
       "      <td>0.0</td>\n",
       "      <td>0.0</td>\n",
       "      <td>0.0</td>\n",
       "      <td>0.0</td>\n",
       "      <td>0.000000</td>\n",
       "      <td>0.0</td>\n",
       "    </tr>\n",
       "    <tr>\n",
       "      <th>VALSYN-PWY: L-valine biosynthesis|g__Veillonella.s__Veillonella_tobetsuensis</th>\n",
       "      <td>0.0</td>\n",
       "      <td>0.0</td>\n",
       "      <td>0.0</td>\n",
       "      <td>0.00000</td>\n",
       "      <td>0.0</td>\n",
       "      <td>0.0</td>\n",
       "      <td>0.0</td>\n",
       "      <td>0.0</td>\n",
       "      <td>0.0</td>\n",
       "      <td>0.000000</td>\n",
       "      <td>...</td>\n",
       "      <td>0.0</td>\n",
       "      <td>0.000000</td>\n",
       "      <td>0.000000</td>\n",
       "      <td>0.0</td>\n",
       "      <td>0.0</td>\n",
       "      <td>0.0</td>\n",
       "      <td>0.0</td>\n",
       "      <td>0.0</td>\n",
       "      <td>0.000000</td>\n",
       "      <td>0.0</td>\n",
       "    </tr>\n",
       "    <tr>\n",
       "      <th>VALSYN-PWY: L-valine biosynthesis|g__Victivallales_unclassified.s__Victivallales_bacterium_CCUG_44730</th>\n",
       "      <td>0.0</td>\n",
       "      <td>0.0</td>\n",
       "      <td>0.0</td>\n",
       "      <td>0.00000</td>\n",
       "      <td>0.0</td>\n",
       "      <td>0.0</td>\n",
       "      <td>0.0</td>\n",
       "      <td>0.0</td>\n",
       "      <td>0.0</td>\n",
       "      <td>0.000000</td>\n",
       "      <td>...</td>\n",
       "      <td>0.0</td>\n",
       "      <td>0.000000</td>\n",
       "      <td>0.000000</td>\n",
       "      <td>0.0</td>\n",
       "      <td>0.0</td>\n",
       "      <td>0.0</td>\n",
       "      <td>0.0</td>\n",
       "      <td>0.0</td>\n",
       "      <td>0.000000</td>\n",
       "      <td>0.0</td>\n",
       "    </tr>\n",
       "    <tr>\n",
       "      <th>VALSYN-PWY: L-valine biosynthesis|g__Victivallis.s__Victivallis_vadensis</th>\n",
       "      <td>0.0</td>\n",
       "      <td>0.0</td>\n",
       "      <td>0.0</td>\n",
       "      <td>0.00000</td>\n",
       "      <td>0.0</td>\n",
       "      <td>0.0</td>\n",
       "      <td>0.0</td>\n",
       "      <td>0.0</td>\n",
       "      <td>0.0</td>\n",
       "      <td>0.000000</td>\n",
       "      <td>...</td>\n",
       "      <td>0.0</td>\n",
       "      <td>0.000000</td>\n",
       "      <td>0.000000</td>\n",
       "      <td>0.0</td>\n",
       "      <td>0.0</td>\n",
       "      <td>0.0</td>\n",
       "      <td>0.0</td>\n",
       "      <td>0.0</td>\n",
       "      <td>0.000000</td>\n",
       "      <td>0.0</td>\n",
       "    </tr>\n",
       "  </tbody>\n",
       "</table>\n",
       "<p>25519 rows × 613 columns</p>\n",
       "</div>"
      ],
      "text/plain": [
       "                                                    SRR5946989  SRR5983265  \\\n",
       "# Pathway                                                                    \n",
       "UNINTEGRATED|g__Absiella.s__Absiella_dolichum              0.0         0.0   \n",
       "UNINTEGRATED|g__Acetobacter.s__Acetobacter_sp_C...         0.0         0.0   \n",
       "UNINTEGRATED|g__Acetobacter.s__Acetobacter_sp_C...         0.0         0.0   \n",
       "UNINTEGRATED|g__Acholeplasma.s__Acholeplasma_sp...         0.0         0.0   \n",
       "UNINTEGRATED|g__Acidaminococcus.s__Acidaminococ...         0.0         0.0   \n",
       "...                                                        ...         ...   \n",
       "VALSYN-PWY: L-valine biosynthesis|g__Veillonell...         0.0         0.0   \n",
       "VALSYN-PWY: L-valine biosynthesis|g__Veillonell...         0.0         0.0   \n",
       "VALSYN-PWY: L-valine biosynthesis|g__Veillonell...         0.0         0.0   \n",
       "VALSYN-PWY: L-valine biosynthesis|g__Victivalla...         0.0         0.0   \n",
       "VALSYN-PWY: L-valine biosynthesis|g__Victivalli...         0.0         0.0   \n",
       "\n",
       "                                                    SRR5946777  SRR5946822  \\\n",
       "# Pathway                                                                    \n",
       "UNINTEGRATED|g__Absiella.s__Absiella_dolichum              0.0     0.00000   \n",
       "UNINTEGRATED|g__Acetobacter.s__Acetobacter_sp_C...         0.0     0.00000   \n",
       "UNINTEGRATED|g__Acetobacter.s__Acetobacter_sp_C...         0.0     0.00000   \n",
       "UNINTEGRATED|g__Acholeplasma.s__Acholeplasma_sp...         0.0     0.00000   \n",
       "UNINTEGRATED|g__Acidaminococcus.s__Acidaminococ...         0.0     0.02683   \n",
       "...                                                        ...         ...   \n",
       "VALSYN-PWY: L-valine biosynthesis|g__Veillonell...         0.0     0.00000   \n",
       "VALSYN-PWY: L-valine biosynthesis|g__Veillonell...         0.0     0.00000   \n",
       "VALSYN-PWY: L-valine biosynthesis|g__Veillonell...         0.0     0.00000   \n",
       "VALSYN-PWY: L-valine biosynthesis|g__Victivalla...         0.0     0.00000   \n",
       "VALSYN-PWY: L-valine biosynthesis|g__Victivalli...         0.0     0.00000   \n",
       "\n",
       "                                                    SRR5946857  SRR5946780  \\\n",
       "# Pathway                                                                    \n",
       "UNINTEGRATED|g__Absiella.s__Absiella_dolichum              0.0         0.0   \n",
       "UNINTEGRATED|g__Acetobacter.s__Acetobacter_sp_C...         0.0         0.0   \n",
       "UNINTEGRATED|g__Acetobacter.s__Acetobacter_sp_C...         0.0         0.0   \n",
       "UNINTEGRATED|g__Acholeplasma.s__Acholeplasma_sp...         0.0         0.0   \n",
       "UNINTEGRATED|g__Acidaminococcus.s__Acidaminococ...         0.0         0.0   \n",
       "...                                                        ...         ...   \n",
       "VALSYN-PWY: L-valine biosynthesis|g__Veillonell...         0.0         0.0   \n",
       "VALSYN-PWY: L-valine biosynthesis|g__Veillonell...         0.0         0.0   \n",
       "VALSYN-PWY: L-valine biosynthesis|g__Veillonell...         0.0         0.0   \n",
       "VALSYN-PWY: L-valine biosynthesis|g__Victivalla...         0.0         0.0   \n",
       "VALSYN-PWY: L-valine biosynthesis|g__Victivalli...         0.0         0.0   \n",
       "\n",
       "                                                    ERR209782  SRR5936213  \\\n",
       "# Pathway                                                                   \n",
       "UNINTEGRATED|g__Absiella.s__Absiella_dolichum             0.0         0.0   \n",
       "UNINTEGRATED|g__Acetobacter.s__Acetobacter_sp_C...        0.0         0.0   \n",
       "UNINTEGRATED|g__Acetobacter.s__Acetobacter_sp_C...        0.0         0.0   \n",
       "UNINTEGRATED|g__Acholeplasma.s__Acholeplasma_sp...        0.0         0.0   \n",
       "UNINTEGRATED|g__Acidaminococcus.s__Acidaminococ...        0.0         0.0   \n",
       "...                                                       ...         ...   \n",
       "VALSYN-PWY: L-valine biosynthesis|g__Veillonell...        0.0         0.0   \n",
       "VALSYN-PWY: L-valine biosynthesis|g__Veillonell...        0.0         0.0   \n",
       "VALSYN-PWY: L-valine biosynthesis|g__Veillonell...        0.0         0.0   \n",
       "VALSYN-PWY: L-valine biosynthesis|g__Victivalla...        0.0         0.0   \n",
       "VALSYN-PWY: L-valine biosynthesis|g__Victivalli...        0.0         0.0   \n",
       "\n",
       "                                                    SRR5947045  SRR5947812  \\\n",
       "# Pathway                                                                    \n",
       "UNINTEGRATED|g__Absiella.s__Absiella_dolichum              0.0    0.000000   \n",
       "UNINTEGRATED|g__Acetobacter.s__Acetobacter_sp_C...         0.0    0.000000   \n",
       "UNINTEGRATED|g__Acetobacter.s__Acetobacter_sp_C...         0.0    0.000000   \n",
       "UNINTEGRATED|g__Acholeplasma.s__Acholeplasma_sp...         0.0    0.000000   \n",
       "UNINTEGRATED|g__Acidaminococcus.s__Acidaminococ...         0.0    0.000000   \n",
       "...                                                        ...         ...   \n",
       "VALSYN-PWY: L-valine biosynthesis|g__Veillonell...         0.0    0.000004   \n",
       "VALSYN-PWY: L-valine biosynthesis|g__Veillonell...         0.0    0.000000   \n",
       "VALSYN-PWY: L-valine biosynthesis|g__Veillonell...         0.0    0.000000   \n",
       "VALSYN-PWY: L-valine biosynthesis|g__Victivalla...         0.0    0.000000   \n",
       "VALSYN-PWY: L-valine biosynthesis|g__Victivalli...         0.0    0.000000   \n",
       "\n",
       "                                                    ...  SRR5947830  \\\n",
       "# Pathway                                           ...               \n",
       "UNINTEGRATED|g__Absiella.s__Absiella_dolichum       ...         0.0   \n",
       "UNINTEGRATED|g__Acetobacter.s__Acetobacter_sp_C...  ...         0.0   \n",
       "UNINTEGRATED|g__Acetobacter.s__Acetobacter_sp_C...  ...         0.0   \n",
       "UNINTEGRATED|g__Acholeplasma.s__Acholeplasma_sp...  ...         0.0   \n",
       "UNINTEGRATED|g__Acidaminococcus.s__Acidaminococ...  ...         0.0   \n",
       "...                                                 ...         ...   \n",
       "VALSYN-PWY: L-valine biosynthesis|g__Veillonell...  ...         0.0   \n",
       "VALSYN-PWY: L-valine biosynthesis|g__Veillonell...  ...         0.0   \n",
       "VALSYN-PWY: L-valine biosynthesis|g__Veillonell...  ...         0.0   \n",
       "VALSYN-PWY: L-valine biosynthesis|g__Victivalla...  ...         0.0   \n",
       "VALSYN-PWY: L-valine biosynthesis|g__Victivalli...  ...         0.0   \n",
       "\n",
       "                                                    ERR209403  SRR5947050  \\\n",
       "# Pathway                                                                   \n",
       "UNINTEGRATED|g__Absiella.s__Absiella_dolichum        0.000000    0.000000   \n",
       "UNINTEGRATED|g__Acetobacter.s__Acetobacter_sp_C...   0.000000    0.000000   \n",
       "UNINTEGRATED|g__Acetobacter.s__Acetobacter_sp_C...   0.000000    0.000000   \n",
       "UNINTEGRATED|g__Acholeplasma.s__Acholeplasma_sp...   0.009803    0.000000   \n",
       "UNINTEGRATED|g__Acidaminococcus.s__Acidaminococ...   0.000000    0.000000   \n",
       "...                                                       ...         ...   \n",
       "VALSYN-PWY: L-valine biosynthesis|g__Veillonell...   0.000000    0.000002   \n",
       "VALSYN-PWY: L-valine biosynthesis|g__Veillonell...   0.000000    0.000000   \n",
       "VALSYN-PWY: L-valine biosynthesis|g__Veillonell...   0.000000    0.000000   \n",
       "VALSYN-PWY: L-valine biosynthesis|g__Victivalla...   0.000000    0.000000   \n",
       "VALSYN-PWY: L-valine biosynthesis|g__Victivalli...   0.000000    0.000000   \n",
       "\n",
       "                                                    ERR209519  SRR5935745  \\\n",
       "# Pathway                                                                   \n",
       "UNINTEGRATED|g__Absiella.s__Absiella_dolichum             0.0         0.0   \n",
       "UNINTEGRATED|g__Acetobacter.s__Acetobacter_sp_C...        0.0         0.0   \n",
       "UNINTEGRATED|g__Acetobacter.s__Acetobacter_sp_C...        0.0         0.0   \n",
       "UNINTEGRATED|g__Acholeplasma.s__Acholeplasma_sp...        0.0         0.0   \n",
       "UNINTEGRATED|g__Acidaminococcus.s__Acidaminococ...        0.0         0.0   \n",
       "...                                                       ...         ...   \n",
       "VALSYN-PWY: L-valine biosynthesis|g__Veillonell...        0.0         0.0   \n",
       "VALSYN-PWY: L-valine biosynthesis|g__Veillonell...        0.0         0.0   \n",
       "VALSYN-PWY: L-valine biosynthesis|g__Veillonell...        0.0         0.0   \n",
       "VALSYN-PWY: L-valine biosynthesis|g__Victivalla...        0.0         0.0   \n",
       "VALSYN-PWY: L-valine biosynthesis|g__Victivalli...        0.0         0.0   \n",
       "\n",
       "                                                    SRR5946648  SRR5946925  \\\n",
       "# Pathway                                                                    \n",
       "UNINTEGRATED|g__Absiella.s__Absiella_dolichum              0.0         0.0   \n",
       "UNINTEGRATED|g__Acetobacter.s__Acetobacter_sp_C...         0.0         0.0   \n",
       "UNINTEGRATED|g__Acetobacter.s__Acetobacter_sp_C...         0.0         0.0   \n",
       "UNINTEGRATED|g__Acholeplasma.s__Acholeplasma_sp...         0.0         0.0   \n",
       "UNINTEGRATED|g__Acidaminococcus.s__Acidaminococ...         0.0         0.0   \n",
       "...                                                        ...         ...   \n",
       "VALSYN-PWY: L-valine biosynthesis|g__Veillonell...         0.0         0.0   \n",
       "VALSYN-PWY: L-valine biosynthesis|g__Veillonell...         0.0         0.0   \n",
       "VALSYN-PWY: L-valine biosynthesis|g__Veillonell...         0.0         0.0   \n",
       "VALSYN-PWY: L-valine biosynthesis|g__Victivalla...         0.0         0.0   \n",
       "VALSYN-PWY: L-valine biosynthesis|g__Victivalli...         0.0         0.0   \n",
       "\n",
       "                                                    ERR209694  SRR5946668  \\\n",
       "# Pathway                                                                   \n",
       "UNINTEGRATED|g__Absiella.s__Absiella_dolichum             0.0    0.000000   \n",
       "UNINTEGRATED|g__Acetobacter.s__Acetobacter_sp_C...        0.0    0.000000   \n",
       "UNINTEGRATED|g__Acetobacter.s__Acetobacter_sp_C...        0.0    0.000000   \n",
       "UNINTEGRATED|g__Acholeplasma.s__Acholeplasma_sp...        0.0    0.000000   \n",
       "UNINTEGRATED|g__Acidaminococcus.s__Acidaminococ...        0.0    0.000000   \n",
       "...                                                       ...         ...   \n",
       "VALSYN-PWY: L-valine biosynthesis|g__Veillonell...        0.0    0.000002   \n",
       "VALSYN-PWY: L-valine biosynthesis|g__Veillonell...        0.0    0.000000   \n",
       "VALSYN-PWY: L-valine biosynthesis|g__Veillonell...        0.0    0.000000   \n",
       "VALSYN-PWY: L-valine biosynthesis|g__Victivalla...        0.0    0.000000   \n",
       "VALSYN-PWY: L-valine biosynthesis|g__Victivalli...        0.0    0.000000   \n",
       "\n",
       "                                                    ERR209312  \n",
       "# Pathway                                                      \n",
       "UNINTEGRATED|g__Absiella.s__Absiella_dolichum             0.0  \n",
       "UNINTEGRATED|g__Acetobacter.s__Acetobacter_sp_C...        0.0  \n",
       "UNINTEGRATED|g__Acetobacter.s__Acetobacter_sp_C...        0.0  \n",
       "UNINTEGRATED|g__Acholeplasma.s__Acholeplasma_sp...        0.0  \n",
       "UNINTEGRATED|g__Acidaminococcus.s__Acidaminococ...        0.0  \n",
       "...                                                       ...  \n",
       "VALSYN-PWY: L-valine biosynthesis|g__Veillonell...        0.0  \n",
       "VALSYN-PWY: L-valine biosynthesis|g__Veillonell...        0.0  \n",
       "VALSYN-PWY: L-valine biosynthesis|g__Veillonell...        0.0  \n",
       "VALSYN-PWY: L-valine biosynthesis|g__Victivalla...        0.0  \n",
       "VALSYN-PWY: L-valine biosynthesis|g__Victivalli...        0.0  \n",
       "\n",
       "[25519 rows x 613 columns]"
      ]
     },
     "execution_count": 311,
     "metadata": {},
     "output_type": "execute_result"
    }
   ],
   "source": [
    "#Se cargan los datos dr pathways\n",
    "pathways=pd.read_csv('../../DataSets/CAMDA/pathways.txt', sep=\"\\t\", index_col=0)\n",
    "pathways"
   ]
  },
  {
   "cell_type": "markdown",
   "id": "d1edee39-be92-4e81-b97a-e63cb335059e",
   "metadata": {},
   "source": [
    "<h3>Se normaliza Pathways</h3>"
   ]
  },
  {
   "cell_type": "code",
   "execution_count": 312,
   "id": "a6194e09-6f91-4092-affb-34218903ef48",
   "metadata": {
    "tags": []
   },
   "outputs": [],
   "source": [
    "pathways=pathways*100"
   ]
  },
  {
   "cell_type": "markdown",
   "id": "b6000c94-b49a-43d9-9fb7-fd978eb90774",
   "metadata": {},
   "source": [
    "<h3> Se calcula el GMHI para pathways, primero se obtienen las métricas pues es tardado obtenerlas. Luego se calcula el índice con diferentes parámetros para elegir el de mayor accuracy </h3> \n"
   ]
  },
  {
   "cell_type": "code",
   "execution_count": 313,
   "id": "d0a85915-2a76-4f11-832c-36275ee0ef3d",
   "metadata": {
    "tags": []
   },
   "outputs": [],
   "source": [
    "meta = pd.read_csv('../../DataSets/CAMDA/metadata.txt', sep=\"\\t\")\n",
    "metrics_pathways=get_fH_fN_dH_dN(meta,pathways)"
   ]
  },
  {
   "cell_type": "code",
   "execution_count": 314,
   "id": "0d9246f2-beba-4a73-8ad3-990a0cde9c93",
   "metadata": {
    "tags": []
   },
   "outputs": [
    {
     "name": "stdout",
     "output_type": "stream",
     "text": [
      "|MH|= 879\n",
      "|MN|= 1053\n"
     ]
    }
   ],
   "source": [
    "theta_f=2.4\n",
    "theta_d=0.1\n",
    "MH_pathways,MN_pathways=get_MH_MN(metrics_pathways,theta_f,theta_d)"
   ]
  },
  {
   "cell_type": "code",
   "execution_count": 315,
   "id": "ba5eb308-b36f-4625-82cc-e32cc7dd6116",
   "metadata": {
    "tags": []
   },
   "outputs": [
    {
     "name": "stdout",
     "output_type": "stream",
     "text": [
      "El accuracy obtenido es de 73.81895633652822 %\n"
     ]
    },
    {
     "data": {
      "text/plain": [
       "SRR5946989    2.256705\n",
       "SRR5983265    2.755124\n",
       "SRR5946777    2.450560\n",
       "SRR5946822   -2.440611\n",
       "SRR5946857    3.603390\n",
       "                ...   \n",
       "SRR5946648   -1.687041\n",
       "SRR5946925    1.936091\n",
       "ERR209694     1.778456\n",
       "SRR5946668   -2.180028\n",
       "ERR209312     0.132102\n",
       "Name: GMHI, Length: 613, dtype: float64"
      ]
     },
     "execution_count": 315,
     "metadata": {},
     "output_type": "execute_result"
    }
   ],
   "source": [
    "GMHI_path=get_all_GMHI(pathways,MH_pathways,MN_pathways)\n",
    "accuracy=get_accuracy(GMHI_path,meta)\n",
    "print('El accuracy obtenido es de', accuracy*100 ,'%')\n",
    "GMHI_path"
   ]
  },
  {
   "cell_type": "markdown",
   "id": "d525e7a0-8d24-47bb-802c-7889512a0d58",
   "metadata": {},
   "source": [
    "<h1>Ya que fue exitoso el experimento, se calculan los GMHI para integrated y unintegrated pathways. </h1>"
   ]
  },
  {
   "cell_type": "code",
   "execution_count": 316,
   "id": "326e8c05-42bc-440c-b269-26cfeb979b14",
   "metadata": {
    "tags": []
   },
   "outputs": [
    {
     "ename": "FileNotFoundError",
     "evalue": "[Errno 2] No such file or directory: '../../DataSets/pathways.txt'",
     "output_type": "error",
     "traceback": [
      "\u001b[1;31m---------------------------------------------------------------------------\u001b[0m",
      "\u001b[1;31mFileNotFoundError\u001b[0m                         Traceback (most recent call last)",
      "Input \u001b[1;32mIn [316]\u001b[0m, in \u001b[0;36m<cell line: 1>\u001b[1;34m()\u001b[0m\n\u001b[1;32m----> 1\u001b[0m pathways\u001b[38;5;241m=\u001b[39m\u001b[43mpd\u001b[49m\u001b[38;5;241;43m.\u001b[39;49m\u001b[43mread_csv\u001b[49m\u001b[43m(\u001b[49m\u001b[38;5;124;43m'\u001b[39;49m\u001b[38;5;124;43m../../DataSets/pathways.txt\u001b[39;49m\u001b[38;5;124;43m'\u001b[39;49m\u001b[43m,\u001b[49m\u001b[43m \u001b[49m\u001b[43msep\u001b[49m\u001b[38;5;241;43m=\u001b[39;49m\u001b[38;5;124;43m\"\u001b[39;49m\u001b[38;5;130;43;01m\\t\u001b[39;49;00m\u001b[38;5;124;43m\"\u001b[39;49m\u001b[43m,\u001b[49m\u001b[43m \u001b[49m\u001b[43mindex_col\u001b[49m\u001b[38;5;241;43m=\u001b[39;49m\u001b[38;5;241;43m0\u001b[39;49m\u001b[43m)\u001b[49m\n\u001b[0;32m      2\u001b[0m pathways\u001b[38;5;241m=\u001b[39mpathways\u001b[38;5;241m*\u001b[39m\u001b[38;5;241m100\u001b[39m\n\u001b[0;32m      3\u001b[0m pathways\n",
      "File \u001b[1;32m~\\AppData\\Local\\Programs\\Python\\Python310\\lib\\site-packages\\pandas\\util\\_decorators.py:311\u001b[0m, in \u001b[0;36mdeprecate_nonkeyword_arguments.<locals>.decorate.<locals>.wrapper\u001b[1;34m(*args, **kwargs)\u001b[0m\n\u001b[0;32m    305\u001b[0m \u001b[38;5;28;01mif\u001b[39;00m \u001b[38;5;28mlen\u001b[39m(args) \u001b[38;5;241m>\u001b[39m num_allow_args:\n\u001b[0;32m    306\u001b[0m     warnings\u001b[38;5;241m.\u001b[39mwarn(\n\u001b[0;32m    307\u001b[0m         msg\u001b[38;5;241m.\u001b[39mformat(arguments\u001b[38;5;241m=\u001b[39marguments),\n\u001b[0;32m    308\u001b[0m         \u001b[38;5;167;01mFutureWarning\u001b[39;00m,\n\u001b[0;32m    309\u001b[0m         stacklevel\u001b[38;5;241m=\u001b[39mstacklevel,\n\u001b[0;32m    310\u001b[0m     )\n\u001b[1;32m--> 311\u001b[0m \u001b[38;5;28;01mreturn\u001b[39;00m func(\u001b[38;5;241m*\u001b[39margs, \u001b[38;5;241m*\u001b[39m\u001b[38;5;241m*\u001b[39mkwargs)\n",
      "File \u001b[1;32m~\\AppData\\Local\\Programs\\Python\\Python310\\lib\\site-packages\\pandas\\io\\parsers\\readers.py:680\u001b[0m, in \u001b[0;36mread_csv\u001b[1;34m(filepath_or_buffer, sep, delimiter, header, names, index_col, usecols, squeeze, prefix, mangle_dupe_cols, dtype, engine, converters, true_values, false_values, skipinitialspace, skiprows, skipfooter, nrows, na_values, keep_default_na, na_filter, verbose, skip_blank_lines, parse_dates, infer_datetime_format, keep_date_col, date_parser, dayfirst, cache_dates, iterator, chunksize, compression, thousands, decimal, lineterminator, quotechar, quoting, doublequote, escapechar, comment, encoding, encoding_errors, dialect, error_bad_lines, warn_bad_lines, on_bad_lines, delim_whitespace, low_memory, memory_map, float_precision, storage_options)\u001b[0m\n\u001b[0;32m    665\u001b[0m kwds_defaults \u001b[38;5;241m=\u001b[39m _refine_defaults_read(\n\u001b[0;32m    666\u001b[0m     dialect,\n\u001b[0;32m    667\u001b[0m     delimiter,\n\u001b[1;32m   (...)\u001b[0m\n\u001b[0;32m    676\u001b[0m     defaults\u001b[38;5;241m=\u001b[39m{\u001b[38;5;124m\"\u001b[39m\u001b[38;5;124mdelimiter\u001b[39m\u001b[38;5;124m\"\u001b[39m: \u001b[38;5;124m\"\u001b[39m\u001b[38;5;124m,\u001b[39m\u001b[38;5;124m\"\u001b[39m},\n\u001b[0;32m    677\u001b[0m )\n\u001b[0;32m    678\u001b[0m kwds\u001b[38;5;241m.\u001b[39mupdate(kwds_defaults)\n\u001b[1;32m--> 680\u001b[0m \u001b[38;5;28;01mreturn\u001b[39;00m \u001b[43m_read\u001b[49m\u001b[43m(\u001b[49m\u001b[43mfilepath_or_buffer\u001b[49m\u001b[43m,\u001b[49m\u001b[43m \u001b[49m\u001b[43mkwds\u001b[49m\u001b[43m)\u001b[49m\n",
      "File \u001b[1;32m~\\AppData\\Local\\Programs\\Python\\Python310\\lib\\site-packages\\pandas\\io\\parsers\\readers.py:575\u001b[0m, in \u001b[0;36m_read\u001b[1;34m(filepath_or_buffer, kwds)\u001b[0m\n\u001b[0;32m    572\u001b[0m _validate_names(kwds\u001b[38;5;241m.\u001b[39mget(\u001b[38;5;124m\"\u001b[39m\u001b[38;5;124mnames\u001b[39m\u001b[38;5;124m\"\u001b[39m, \u001b[38;5;28;01mNone\u001b[39;00m))\n\u001b[0;32m    574\u001b[0m \u001b[38;5;66;03m# Create the parser.\u001b[39;00m\n\u001b[1;32m--> 575\u001b[0m parser \u001b[38;5;241m=\u001b[39m TextFileReader(filepath_or_buffer, \u001b[38;5;241m*\u001b[39m\u001b[38;5;241m*\u001b[39mkwds)\n\u001b[0;32m    577\u001b[0m \u001b[38;5;28;01mif\u001b[39;00m chunksize \u001b[38;5;129;01mor\u001b[39;00m iterator:\n\u001b[0;32m    578\u001b[0m     \u001b[38;5;28;01mreturn\u001b[39;00m parser\n",
      "File \u001b[1;32m~\\AppData\\Local\\Programs\\Python\\Python310\\lib\\site-packages\\pandas\\io\\parsers\\readers.py:934\u001b[0m, in \u001b[0;36mTextFileReader.__init__\u001b[1;34m(self, f, engine, **kwds)\u001b[0m\n\u001b[0;32m    931\u001b[0m     \u001b[38;5;28mself\u001b[39m\u001b[38;5;241m.\u001b[39moptions[\u001b[38;5;124m\"\u001b[39m\u001b[38;5;124mhas_index_names\u001b[39m\u001b[38;5;124m\"\u001b[39m] \u001b[38;5;241m=\u001b[39m kwds[\u001b[38;5;124m\"\u001b[39m\u001b[38;5;124mhas_index_names\u001b[39m\u001b[38;5;124m\"\u001b[39m]\n\u001b[0;32m    933\u001b[0m \u001b[38;5;28mself\u001b[39m\u001b[38;5;241m.\u001b[39mhandles: IOHandles \u001b[38;5;241m|\u001b[39m \u001b[38;5;28;01mNone\u001b[39;00m \u001b[38;5;241m=\u001b[39m \u001b[38;5;28;01mNone\u001b[39;00m\n\u001b[1;32m--> 934\u001b[0m \u001b[38;5;28mself\u001b[39m\u001b[38;5;241m.\u001b[39m_engine \u001b[38;5;241m=\u001b[39m \u001b[38;5;28;43mself\u001b[39;49m\u001b[38;5;241;43m.\u001b[39;49m\u001b[43m_make_engine\u001b[49m\u001b[43m(\u001b[49m\u001b[43mf\u001b[49m\u001b[43m,\u001b[49m\u001b[43m \u001b[49m\u001b[38;5;28;43mself\u001b[39;49m\u001b[38;5;241;43m.\u001b[39;49m\u001b[43mengine\u001b[49m\u001b[43m)\u001b[49m\n",
      "File \u001b[1;32m~\\AppData\\Local\\Programs\\Python\\Python310\\lib\\site-packages\\pandas\\io\\parsers\\readers.py:1218\u001b[0m, in \u001b[0;36mTextFileReader._make_engine\u001b[1;34m(self, f, engine)\u001b[0m\n\u001b[0;32m   1214\u001b[0m     mode \u001b[38;5;241m=\u001b[39m \u001b[38;5;124m\"\u001b[39m\u001b[38;5;124mrb\u001b[39m\u001b[38;5;124m\"\u001b[39m\n\u001b[0;32m   1215\u001b[0m \u001b[38;5;66;03m# error: No overload variant of \"get_handle\" matches argument types\u001b[39;00m\n\u001b[0;32m   1216\u001b[0m \u001b[38;5;66;03m# \"Union[str, PathLike[str], ReadCsvBuffer[bytes], ReadCsvBuffer[str]]\"\u001b[39;00m\n\u001b[0;32m   1217\u001b[0m \u001b[38;5;66;03m# , \"str\", \"bool\", \"Any\", \"Any\", \"Any\", \"Any\", \"Any\"\u001b[39;00m\n\u001b[1;32m-> 1218\u001b[0m \u001b[38;5;28mself\u001b[39m\u001b[38;5;241m.\u001b[39mhandles \u001b[38;5;241m=\u001b[39m \u001b[43mget_handle\u001b[49m\u001b[43m(\u001b[49m\u001b[43m  \u001b[49m\u001b[38;5;66;43;03m# type: ignore[call-overload]\u001b[39;49;00m\n\u001b[0;32m   1219\u001b[0m \u001b[43m    \u001b[49m\u001b[43mf\u001b[49m\u001b[43m,\u001b[49m\n\u001b[0;32m   1220\u001b[0m \u001b[43m    \u001b[49m\u001b[43mmode\u001b[49m\u001b[43m,\u001b[49m\n\u001b[0;32m   1221\u001b[0m \u001b[43m    \u001b[49m\u001b[43mencoding\u001b[49m\u001b[38;5;241;43m=\u001b[39;49m\u001b[38;5;28;43mself\u001b[39;49m\u001b[38;5;241;43m.\u001b[39;49m\u001b[43moptions\u001b[49m\u001b[38;5;241;43m.\u001b[39;49m\u001b[43mget\u001b[49m\u001b[43m(\u001b[49m\u001b[38;5;124;43m\"\u001b[39;49m\u001b[38;5;124;43mencoding\u001b[39;49m\u001b[38;5;124;43m\"\u001b[39;49m\u001b[43m,\u001b[49m\u001b[43m \u001b[49m\u001b[38;5;28;43;01mNone\u001b[39;49;00m\u001b[43m)\u001b[49m\u001b[43m,\u001b[49m\n\u001b[0;32m   1222\u001b[0m \u001b[43m    \u001b[49m\u001b[43mcompression\u001b[49m\u001b[38;5;241;43m=\u001b[39;49m\u001b[38;5;28;43mself\u001b[39;49m\u001b[38;5;241;43m.\u001b[39;49m\u001b[43moptions\u001b[49m\u001b[38;5;241;43m.\u001b[39;49m\u001b[43mget\u001b[49m\u001b[43m(\u001b[49m\u001b[38;5;124;43m\"\u001b[39;49m\u001b[38;5;124;43mcompression\u001b[39;49m\u001b[38;5;124;43m\"\u001b[39;49m\u001b[43m,\u001b[49m\u001b[43m \u001b[49m\u001b[38;5;28;43;01mNone\u001b[39;49;00m\u001b[43m)\u001b[49m\u001b[43m,\u001b[49m\n\u001b[0;32m   1223\u001b[0m \u001b[43m    \u001b[49m\u001b[43mmemory_map\u001b[49m\u001b[38;5;241;43m=\u001b[39;49m\u001b[38;5;28;43mself\u001b[39;49m\u001b[38;5;241;43m.\u001b[39;49m\u001b[43moptions\u001b[49m\u001b[38;5;241;43m.\u001b[39;49m\u001b[43mget\u001b[49m\u001b[43m(\u001b[49m\u001b[38;5;124;43m\"\u001b[39;49m\u001b[38;5;124;43mmemory_map\u001b[39;49m\u001b[38;5;124;43m\"\u001b[39;49m\u001b[43m,\u001b[49m\u001b[43m \u001b[49m\u001b[38;5;28;43;01mFalse\u001b[39;49;00m\u001b[43m)\u001b[49m\u001b[43m,\u001b[49m\n\u001b[0;32m   1224\u001b[0m \u001b[43m    \u001b[49m\u001b[43mis_text\u001b[49m\u001b[38;5;241;43m=\u001b[39;49m\u001b[43mis_text\u001b[49m\u001b[43m,\u001b[49m\n\u001b[0;32m   1225\u001b[0m \u001b[43m    \u001b[49m\u001b[43merrors\u001b[49m\u001b[38;5;241;43m=\u001b[39;49m\u001b[38;5;28;43mself\u001b[39;49m\u001b[38;5;241;43m.\u001b[39;49m\u001b[43moptions\u001b[49m\u001b[38;5;241;43m.\u001b[39;49m\u001b[43mget\u001b[49m\u001b[43m(\u001b[49m\u001b[38;5;124;43m\"\u001b[39;49m\u001b[38;5;124;43mencoding_errors\u001b[39;49m\u001b[38;5;124;43m\"\u001b[39;49m\u001b[43m,\u001b[49m\u001b[43m \u001b[49m\u001b[38;5;124;43m\"\u001b[39;49m\u001b[38;5;124;43mstrict\u001b[39;49m\u001b[38;5;124;43m\"\u001b[39;49m\u001b[43m)\u001b[49m\u001b[43m,\u001b[49m\n\u001b[0;32m   1226\u001b[0m \u001b[43m    \u001b[49m\u001b[43mstorage_options\u001b[49m\u001b[38;5;241;43m=\u001b[39;49m\u001b[38;5;28;43mself\u001b[39;49m\u001b[38;5;241;43m.\u001b[39;49m\u001b[43moptions\u001b[49m\u001b[38;5;241;43m.\u001b[39;49m\u001b[43mget\u001b[49m\u001b[43m(\u001b[49m\u001b[38;5;124;43m\"\u001b[39;49m\u001b[38;5;124;43mstorage_options\u001b[39;49m\u001b[38;5;124;43m\"\u001b[39;49m\u001b[43m,\u001b[49m\u001b[43m \u001b[49m\u001b[38;5;28;43;01mNone\u001b[39;49;00m\u001b[43m)\u001b[49m\u001b[43m,\u001b[49m\n\u001b[0;32m   1227\u001b[0m \u001b[43m\u001b[49m\u001b[43m)\u001b[49m\n\u001b[0;32m   1228\u001b[0m \u001b[38;5;28;01massert\u001b[39;00m \u001b[38;5;28mself\u001b[39m\u001b[38;5;241m.\u001b[39mhandles \u001b[38;5;129;01mis\u001b[39;00m \u001b[38;5;129;01mnot\u001b[39;00m \u001b[38;5;28;01mNone\u001b[39;00m\n\u001b[0;32m   1229\u001b[0m f \u001b[38;5;241m=\u001b[39m \u001b[38;5;28mself\u001b[39m\u001b[38;5;241m.\u001b[39mhandles\u001b[38;5;241m.\u001b[39mhandle\n",
      "File \u001b[1;32m~\\AppData\\Local\\Programs\\Python\\Python310\\lib\\site-packages\\pandas\\io\\common.py:786\u001b[0m, in \u001b[0;36mget_handle\u001b[1;34m(path_or_buf, mode, encoding, compression, memory_map, is_text, errors, storage_options)\u001b[0m\n\u001b[0;32m    781\u001b[0m \u001b[38;5;28;01melif\u001b[39;00m \u001b[38;5;28misinstance\u001b[39m(handle, \u001b[38;5;28mstr\u001b[39m):\n\u001b[0;32m    782\u001b[0m     \u001b[38;5;66;03m# Check whether the filename is to be opened in binary mode.\u001b[39;00m\n\u001b[0;32m    783\u001b[0m     \u001b[38;5;66;03m# Binary mode does not support 'encoding' and 'newline'.\u001b[39;00m\n\u001b[0;32m    784\u001b[0m     \u001b[38;5;28;01mif\u001b[39;00m ioargs\u001b[38;5;241m.\u001b[39mencoding \u001b[38;5;129;01mand\u001b[39;00m \u001b[38;5;124m\"\u001b[39m\u001b[38;5;124mb\u001b[39m\u001b[38;5;124m\"\u001b[39m \u001b[38;5;129;01mnot\u001b[39;00m \u001b[38;5;129;01min\u001b[39;00m ioargs\u001b[38;5;241m.\u001b[39mmode:\n\u001b[0;32m    785\u001b[0m         \u001b[38;5;66;03m# Encoding\u001b[39;00m\n\u001b[1;32m--> 786\u001b[0m         handle \u001b[38;5;241m=\u001b[39m \u001b[38;5;28;43mopen\u001b[39;49m\u001b[43m(\u001b[49m\n\u001b[0;32m    787\u001b[0m \u001b[43m            \u001b[49m\u001b[43mhandle\u001b[49m\u001b[43m,\u001b[49m\n\u001b[0;32m    788\u001b[0m \u001b[43m            \u001b[49m\u001b[43mioargs\u001b[49m\u001b[38;5;241;43m.\u001b[39;49m\u001b[43mmode\u001b[49m\u001b[43m,\u001b[49m\n\u001b[0;32m    789\u001b[0m \u001b[43m            \u001b[49m\u001b[43mencoding\u001b[49m\u001b[38;5;241;43m=\u001b[39;49m\u001b[43mioargs\u001b[49m\u001b[38;5;241;43m.\u001b[39;49m\u001b[43mencoding\u001b[49m\u001b[43m,\u001b[49m\n\u001b[0;32m    790\u001b[0m \u001b[43m            \u001b[49m\u001b[43merrors\u001b[49m\u001b[38;5;241;43m=\u001b[39;49m\u001b[43merrors\u001b[49m\u001b[43m,\u001b[49m\n\u001b[0;32m    791\u001b[0m \u001b[43m            \u001b[49m\u001b[43mnewline\u001b[49m\u001b[38;5;241;43m=\u001b[39;49m\u001b[38;5;124;43m\"\u001b[39;49m\u001b[38;5;124;43m\"\u001b[39;49m\u001b[43m,\u001b[49m\n\u001b[0;32m    792\u001b[0m \u001b[43m        \u001b[49m\u001b[43m)\u001b[49m\n\u001b[0;32m    793\u001b[0m     \u001b[38;5;28;01melse\u001b[39;00m:\n\u001b[0;32m    794\u001b[0m         \u001b[38;5;66;03m# Binary mode\u001b[39;00m\n\u001b[0;32m    795\u001b[0m         handle \u001b[38;5;241m=\u001b[39m \u001b[38;5;28mopen\u001b[39m(handle, ioargs\u001b[38;5;241m.\u001b[39mmode)\n",
      "\u001b[1;31mFileNotFoundError\u001b[0m: [Errno 2] No such file or directory: '../../DataSets/pathways.txt'"
     ]
    }
   ],
   "source": [
    "pathways=pd.read_csv('../../DataSets/CAMDA/pathways.txt', sep=\"\\t\", index_col=0)\n",
    "pathways=pathways*100\n",
    "pathways"
   ]
  },
  {
   "cell_type": "markdown",
   "id": "63017134-9966-4603-b344-a8027cd4fbb0",
   "metadata": {},
   "source": [
    "<h3>La siguiente función separa a integrated y unintegrated.</h3>"
   ]
  },
  {
   "cell_type": "code",
   "execution_count": null,
   "id": "33555d66-ddae-4590-a060-7ff5d108ccf0",
   "metadata": {
    "tags": []
   },
   "outputs": [],
   "source": [
    "def get_integrated_unintegrated(pathways):\n",
    "    index_pathways=pd.Series(pathways.index)\n",
    "    condition=index_pathways.apply(lambda x: 'UNINTEGRATED' in x)\n",
    "    index_unintegrated=index_pathways[condition]\n",
    "    index_integrated=index_pathways[condition==False]\n",
    "    return pathways.loc[index_integrated,:], pathways.loc[index_unintegrated,:]"
   ]
  },
  {
   "cell_type": "code",
   "execution_count": null,
   "id": "726f50eb-cdda-4fe3-905a-5cd9fd2b288b",
   "metadata": {
    "tags": []
   },
   "outputs": [],
   "source": [
    "integrated_pathways,unintegrated_pathways=get_integrated_unintegrated(pathways)"
   ]
  },
  {
   "cell_type": "markdown",
   "id": "80907be1-0ef0-4951-8c7a-ecadd5691ccf",
   "metadata": {
    "tags": []
   },
   "source": [
    "<h3> Se normalizan ambas tablas de pathways</h3>"
   ]
  },
  {
   "cell_type": "code",
   "execution_count": null,
   "id": "17831505-2254-4762-96cc-e7af69e8d8c9",
   "metadata": {
    "tags": []
   },
   "outputs": [],
   "source": [
    "def normalize_tax(tax):\n",
    "    return (tax/tax.sum())*100"
   ]
  },
  {
   "cell_type": "code",
   "execution_count": null,
   "id": "87d2d1e5-dbb8-456b-8bcc-b7ea5d73af98",
   "metadata": {
    "tags": []
   },
   "outputs": [],
   "source": [
    "integrated_pathways=normalize_tax(integrated_pathways)\n",
    "unintegrated_pathways=normalize_tax(unintegrated_pathways)"
   ]
  },
  {
   "cell_type": "code",
   "execution_count": null,
   "id": "7ac2a6e6-4456-4e22-9f9b-7b665357392c",
   "metadata": {
    "tags": []
   },
   "outputs": [],
   "source": [
    "meta = pd.read_csv('../../DataSets/CAMDA/metadata.txt', sep=\"\\t\")\n",
    "metrics_integrated=get_fH_fN_dH_dN(meta,integrated_pathways)\n",
    "metrics_unintegrated=get_fH_fN_dH_dN(meta,unintegrated_pathways)"
   ]
  },
  {
   "cell_type": "markdown",
   "id": "9bb2639a-63d7-41d5-bae4-e03b38bac023",
   "metadata": {},
   "source": [
    "<h2> Se calculan los conjuntos para GMHI_integrated y GMHI_unintegrated. Se eligen los parámetros como antes.</h2>"
   ]
  },
  {
   "cell_type": "code",
   "execution_count": null,
   "id": "aab198b8-f92d-4ccd-a812-b5075fb2b04a",
   "metadata": {
    "tags": []
   },
   "outputs": [],
   "source": [
    "theta_f=2.5\n",
    "theta_d=0.1\n",
    "MH_integrated,MN_integrated=get_MH_MN(metrics_integrated,theta_f,theta_d)"
   ]
  },
  {
   "cell_type": "code",
   "execution_count": null,
   "id": "60fa3cf6-60ac-4a47-b58a-de909502b566",
   "metadata": {
    "tags": []
   },
   "outputs": [],
   "source": [
    "theta_f=2.7\n",
    "theta_d=0.1\n",
    "MH_unintegrated,MN_unintegrated=get_MH_MN(metrics_unintegrated,theta_f,theta_d)"
   ]
  },
  {
   "cell_type": "code",
   "execution_count": null,
   "id": "58d7a53e-c4f5-4b8a-b6ad-c9ab7f0e2153",
   "metadata": {
    "tags": []
   },
   "outputs": [],
   "source": [
    "GMHI_integrated=get_all_GMHI(integrated_pathways,MH_integrated,MN_integrated)\n",
    "accuracy=get_accuracy(GMHI_integrated,meta)\n",
    "print('El accuracy obtenido es de', accuracy*100 ,'%')\n",
    "GMHI_integrated"
   ]
  },
  {
   "cell_type": "code",
   "execution_count": null,
   "id": "b413eec4-2e62-48eb-927f-107d4b3d16ad",
   "metadata": {
    "tags": []
   },
   "outputs": [],
   "source": [
    "GMHI_unintegrated=get_all_GMHI(unintegrated_pathways,MH_unintegrated,MN_unintegrated)\n",
    "accuracy=get_accuracy(GMHI_unintegrated,meta)\n",
    "print('El accuracy obtenido es de', accuracy*100 ,'%')\n",
    "GMHI_unintegrated"
   ]
  },
  {
   "cell_type": "markdown",
   "id": "cd03b341-c263-47bf-b1a7-390db78e0c43",
   "metadata": {},
   "source": [
    "<h1> Una vez calculados los GMHI, se elabora un Random Forest Tree. </h1>"
   ]
  },
  {
   "cell_type": "code",
   "execution_count": null,
   "id": "6a12b1fb-11f5-46f3-8b24-2e85a1f44c78",
   "metadata": {
    "tags": []
   },
   "outputs": [],
   "source": [
    "from sklearn.ensemble import RandomForestClassifier\n",
    "from sklearn.model_selection import cross_val_score\n",
    "from sklearn.metrics import accuracy_score\n",
    "from sklearn.metrics import balanced_accuracy_score\n",
    "from sklearn.metrics import classification_report"
   ]
  },
  {
   "cell_type": "markdown",
   "id": "b7c5e665-f5c5-4eba-9294-795a5d961c88",
   "metadata": {},
   "source": [
    "<h3>Se ingresan los GMHI a un data frame</h3>"
   ]
  },
  {
   "cell_type": "code",
   "execution_count": null,
   "id": "35bcde19-cda3-45ee-a3f3-a75ca3fae957",
   "metadata": {
    "tags": []
   },
   "outputs": [],
   "source": [
    "Indices=pd.DataFrame(index=GMHI.index)\n",
    "Indices['GMHI_tax']=GMHI\n",
    "Indices['GMHI_integrated_pathways']=GMHI_integrated\n",
    "Indices['GMHI_unintegrated_pathways']=GMHI_unintegrated"
   ]
  },
  {
   "cell_type": "code",
   "execution_count": null,
   "id": "8212ed51-e7fe-49a7-ada6-c5c58a24ab12",
   "metadata": {
    "tags": []
   },
   "outputs": [],
   "source": [
    "meta = pd.read_csv('../../DataSets/CAMDA/metadata.txt', sep=\"\\t\")\n",
    "classificator=meta['Diagnosis'].copy(deep=True)"
   ]
  },
  {
   "cell_type": "code",
   "execution_count": null,
   "id": "b72a3a53-e3f6-4d65-a08c-ff67c6fab129",
   "metadata": {
    "tags": []
   },
   "outputs": [],
   "source": [
    "Indices"
   ]
  },
  {
   "cell_type": "markdown",
   "id": "cb9d7689-eaab-424d-95b5-92a314b9a8e5",
   "metadata": {},
   "source": [
    "<h2>Se etiquetan a los Healthy como 1 y a los Unhealthy como 0 </h2>"
   ]
  },
  {
   "cell_type": "code",
   "execution_count": null,
   "id": "f1f39be8-19c9-4987-985c-aa4c3cebabd0",
   "metadata": {
    "tags": []
   },
   "outputs": [],
   "source": [
    "\n",
    "classificator[classificator!='Healthy']=0\n",
    "classificator[classificator=='Healthy']=1"
   ]
  },
  {
   "cell_type": "code",
   "execution_count": null,
   "id": "b2a39dcb-a9b1-423c-80ac-a06927354614",
   "metadata": {
    "tags": []
   },
   "outputs": [],
   "source": [
    "X=Indices.values\n",
    "Y=classificator.values.astype(int)\n",
    "X"
   ]
  },
  {
   "cell_type": "markdown",
   "id": "93e6cdbe-84a8-4fd8-bf3b-3c459b4c63ef",
   "metadata": {},
   "source": [
    "<h2>Se contruye el Random Forest Tree</h2>"
   ]
  },
  {
   "cell_type": "code",
   "execution_count": null,
   "id": "9dbf65fe-57a6-439a-9d72-f160c02cdbf8",
   "metadata": {
    "tags": []
   },
   "outputs": [],
   "source": [
    "clf = RandomForestClassifier(n_estimators=500, max_depth=6,min_samples_split=3, random_state=0)\n",
    "clf = clf.fit(X, Y)\n",
    "scores = cross_val_score(clf, X, Y, cv=5)\n",
    "scores.mean()\n"
   ]
  },
  {
   "cell_type": "markdown",
   "id": "b5136aa0-e859-4d4f-a365-6de117316d9a",
   "metadata": {},
   "source": [
    "<h3>Observemos que al dividir los datos, se tiene una aceptable accuracy para los 5 sets de datos</h3>"
   ]
  },
  {
   "cell_type": "code",
   "execution_count": null,
   "id": "6241bfbf-f84d-480d-937d-9d7a9d8758c0",
   "metadata": {
    "tags": []
   },
   "outputs": [],
   "source": [
    "Y_pred = clf.predict(X)\n"
   ]
  },
  {
   "cell_type": "code",
   "execution_count": null,
   "id": "18234bf3-e02f-475f-a6ed-d6a53094d5d1",
   "metadata": {
    "tags": []
   },
   "outputs": [],
   "source": [
    "accuracy_score(Y,Y_pred)"
   ]
  },
  {
   "cell_type": "code",
   "execution_count": null,
   "id": "c26d6dfe-ea6e-4c34-aae5-02451a304365",
   "metadata": {
    "tags": []
   },
   "outputs": [],
   "source": [
    "clf.feature_importances_"
   ]
  },
  {
   "cell_type": "code",
   "execution_count": null,
   "id": "7dbba15c-f7b9-40cd-8dbb-3b59c7bd1116",
   "metadata": {
    "tags": []
   },
   "outputs": [],
   "source": [
    "print(classification_report(Y, Y_pred))"
   ]
  },
  {
   "cell_type": "markdown",
   "id": "fd2e34f1-b190-42f7-a610-2e9d67a637a7",
   "metadata": {},
   "source": [
    "<h1> Se utilizan los datos de q2-dysbiosis para testear los datos</h1>"
   ]
  },
  {
   "cell_type": "markdown",
   "id": "f6fb5c0f-6ba5-4449-82a1-2d733f432c44",
   "metadata": {},
   "source": [
    "<h3> Se cargan los datos de q2-dysbiosis</h3>"
   ]
  },
  {
   "cell_type": "code",
   "execution_count": null,
   "id": "d684e311-5c8c-43d1-990b-fd31ad1c94a8",
   "metadata": {
    "tags": []
   },
   "outputs": [],
   "source": [
    "meta_test = pd.read_csv('../../DataSets/q2-dysbiosis_test/metadata_test.txt', sep=\"\\t\",)\n",
    "species_test=pd.read_csv('../../DataSets/q2-dysbiosis_test/species.txt',sep=\"\\t\", index_col=0)\n",
    "pathways_test=pd.read_csv('../../DataSets/q2-dysbiosis_test/pathways_stratified.txt',sep=\"\\t\", index_col=0)\n",
    "pathways_unstratified_test=pd.read_csv('../../DataSets/q2-dysbiosis_test/pathways_unstratified.txt',sep=\"\\t\", index_col=0)"
   ]
  },
  {
   "cell_type": "markdown",
   "id": "7c1e85e4-ba2e-4f65-ae17-7522193ff57d",
   "metadata": {},
   "source": [
    "<h3>Cambiamos a los llamados control por Healthy de meta_test y se cambia el nombre de la columna id por SampleID</h3>"
   ]
  },
  {
   "cell_type": "code",
   "execution_count": null,
   "id": "689d7287-38dd-4810-b3de-abe81067d801",
   "metadata": {
    "tags": []
   },
   "outputs": [],
   "source": [
    "for i in meta_test.index:\n",
    "    if meta_test.loc[i,'Diagnosis']=='control':\n",
    "        meta_test.loc[i,'Diagnosis']='Healthy'\n",
    "meta_test.rename(columns={'id':'SampleID'},inplace=True)"
   ]
  },
  {
   "cell_type": "code",
   "execution_count": null,
   "id": "520faafa-075a-4ac3-8ae8-58ead3bc0e2a",
   "metadata": {
    "tags": []
   },
   "outputs": [],
   "source": [
    "pathways_test=pathways_test*100"
   ]
  },
  {
   "cell_type": "markdown",
   "id": "b3015e3b-c243-4d7c-af86-8c6e40dc9879",
   "metadata": {
    "tags": []
   },
   "source": [
    "<h3>Obtenemos integrated y unintegrated de pathways_test </h3>"
   ]
  },
  {
   "cell_type": "code",
   "execution_count": null,
   "id": "4bddba39-224c-4e7a-add0-2a6cd7073302",
   "metadata": {
    "tags": []
   },
   "outputs": [],
   "source": [
    "integrated_pathways_test,unintegrated_pathways_test=get_integrated_unintegrated(pathways_test)"
   ]
  },
  {
   "cell_type": "markdown",
   "id": "a75085ac-48cf-4806-b901-81435bba035c",
   "metadata": {},
   "source": [
    "<h2>A las funciones de los conjuntos de funciones se les cambian los espacios por guiones bajos, pues usualmente se presentan así.</h2>"
   ]
  },
  {
   "cell_type": "code",
   "execution_count": null,
   "id": "76b00457-e0f0-46a0-91d8-072174ee140e",
   "metadata": {
    "tags": []
   },
   "outputs": [],
   "source": [
    "MH_integrated_test=set()\n",
    "for i in MH_integrated:\n",
    "    MH_integrated_test.add(i.replace(' ','_'))"
   ]
  },
  {
   "cell_type": "code",
   "execution_count": null,
   "id": "0905632b-2e6b-49a4-9631-8e75f9a361f7",
   "metadata": {
    "tags": []
   },
   "outputs": [],
   "source": [
    "MN_integrated_test=set()\n",
    "for i in MN_integrated:\n",
    "    MN_integrated_test.add(i.replace(' ','_'))"
   ]
  },
  {
   "cell_type": "code",
   "execution_count": null,
   "id": "740cd121-afa7-4823-b968-e8aa3fa85f65",
   "metadata": {
    "tags": []
   },
   "outputs": [],
   "source": [
    "MH_unintegrated_test=set()\n",
    "for i in MH_unintegrated:\n",
    "    MH_unintegrated_test.add(i.replace(' ','_'))"
   ]
  },
  {
   "cell_type": "code",
   "execution_count": null,
   "id": "05b9f37e-c25e-4201-8cc3-377be04c11fd",
   "metadata": {
    "tags": []
   },
   "outputs": [],
   "source": [
    "MN_unintegrated_test=set()\n",
    "for i in MN_unintegrated:\n",
    "    MN_unintegrated_test.add(i.replace(' ','_'))"
   ]
  },
  {
   "cell_type": "code",
   "execution_count": null,
   "id": "9db7dab2-7c90-470f-af0c-a637be4e68a3",
   "metadata": {
    "tags": []
   },
   "outputs": [],
   "source": [
    "meta_test"
   ]
  },
  {
   "cell_type": "markdown",
   "id": "d0b257c6-99a5-4c9b-b4fa-f025eac89a11",
   "metadata": {},
   "source": [
    "<h2> Calculamos los GMHI para los datos test</h2>"
   ]
  },
  {
   "cell_type": "code",
   "execution_count": null,
   "id": "4eab5b14-559c-4f20-b0b2-ec046dabe781",
   "metadata": {
    "tags": []
   },
   "outputs": [],
   "source": [
    "GMHI_tax_test=get_all_GMHI(species_test,H,N)\n",
    "accuracy=get_accuracy(GMHI_tax_test,meta_test)\n",
    "print('El accuracy obtenido es de', accuracy*100 ,'%')"
   ]
  },
  {
   "cell_type": "code",
   "execution_count": null,
   "id": "b9435db1-bf86-4f84-a969-da3f38c6e497",
   "metadata": {
    "tags": []
   },
   "outputs": [],
   "source": [
    "GMHI_integrated_test=get_all_GMHI(integrated_pathways_test,MH_integrated_test,MN_integrated_test)\n",
    "accuracy=get_accuracy(GMHI_integrated_test,meta_test)\n",
    "print('El accuracy obtenido es de', accuracy*100 ,'%')"
   ]
  },
  {
   "cell_type": "code",
   "execution_count": null,
   "id": "883122c9-32aa-46f7-b6a3-f3653519868d",
   "metadata": {
    "tags": []
   },
   "outputs": [],
   "source": [
    "GMHI_unintegrated_test=get_all_GMHI(unintegrated_pathways_test,MH_unintegrated,MN_unintegrated)\n",
    "accuracy=get_accuracy(GMHI_unintegrated_test,meta_test)\n",
    "print('El accuracy obtenido es de', accuracy*100 ,'%')"
   ]
  },
  {
   "cell_type": "code",
   "execution_count": null,
   "id": "7bf72733-7699-4dde-9a8b-7ee4fac0f600",
   "metadata": {
    "tags": []
   },
   "outputs": [],
   "source": [
    "Indices_test=pd.DataFrame(index=GMHI_tax_test.index)\n",
    "Indices_test['GMHI_tax']=GMHI_tax_test\n",
    "Indices_test['GMHI_integrated_pathways']=GMHI_integrated_test\n",
    "Indices_test['GMHI_unintegrated_pathways']=GMHI_unintegrated_test\n",
    "Indices_test"
   ]
  },
  {
   "cell_type": "code",
   "execution_count": null,
   "id": "412d6a66-d930-43f6-a696-992533a7b094",
   "metadata": {
    "tags": []
   },
   "outputs": [],
   "source": [
    "classificator_test=meta_test['Diagnosis'].copy(deep=True)"
   ]
  },
  {
   "cell_type": "markdown",
   "id": "0152cd04-a371-4f52-b3c8-60b53dc8928f",
   "metadata": {},
   "source": [
    "<h3>Cambiamos a los healthy como 1 y a los unhealthy como 0</h3>"
   ]
  },
  {
   "cell_type": "code",
   "execution_count": null,
   "id": "13e8ff6d-2420-43f0-9085-fd4774536d2a",
   "metadata": {
    "tags": []
   },
   "outputs": [],
   "source": [
    "classificator_test[classificator_test!='Healthy']=0\n",
    "classificator_test[classificator_test=='Healthy']=1"
   ]
  },
  {
   "cell_type": "code",
   "execution_count": null,
   "id": "792e56b9-36a4-4a51-b242-91a3fe213584",
   "metadata": {
    "tags": []
   },
   "outputs": [],
   "source": [
    "X_test=Indices_test.values\n",
    "Y_test=classificator_test.values.astype(int)\n"
   ]
  },
  {
   "cell_type": "markdown",
   "id": "e76322c8-c3c7-4fd3-b22c-e7bb488b0d88",
   "metadata": {},
   "source": [
    "<h3>Predicción y accuracy para los datos de q2-dyobisis:</h3>"
   ]
  },
  {
   "cell_type": "code",
   "execution_count": null,
   "id": "9deef8b7-38c9-4b30-8f74-cb6d98c7cd87",
   "metadata": {
    "tags": []
   },
   "outputs": [],
   "source": [
    "Y_pred_test = clf.predict(X_test)\n",
    "Y_pred_test"
   ]
  },
  {
   "cell_type": "code",
   "execution_count": null,
   "id": "5deeb84d-a68c-43ba-9b0f-97721aca496a",
   "metadata": {
    "tags": []
   },
   "outputs": [],
   "source": [
    "accuracy_score(Y_test,Y_pred_test)"
   ]
  },
  {
   "cell_type": "markdown",
   "id": "d25bee0c-53a3-4ec0-9282-6fb40644ddd9",
   "metadata": {},
   "source": [
    "<h1>Prueba datos COVID</h1>"
   ]
  },
  {
   "cell_type": "markdown",
   "id": "0a2d1164-1655-4031-b5dc-4242347d2bea",
   "metadata": {},
   "source": [
    "<h3> Se cargan los datos de covid</h3>"
   ]
  },
  {
   "cell_type": "code",
   "execution_count": null,
   "id": "23bef7f8-e88a-4da4-9121-2a73cf06493e",
   "metadata": {
    "tags": []
   },
   "outputs": [],
   "source": [
    "meta_covid=pd.read_csv('../../DataSets/COVID/CAMDA_metadata.txt', sep=\"\\t\",index_col=0)\n",
    "tax_covid=pd.read_csv('../../DataSets/COVID/CAMDA_taxa.txt', sep='\\t',index_col=0)\n",
    "pathways_covid=pd.read_csv('../../DataSets/COVID/CAMDA_pathways.txt', sep='\\t',index_col=0)"
   ]
  },
  {
   "cell_type": "code",
   "execution_count": null,
   "id": "eaf7db63-1023-4979-8dca-ba387a0318d7",
   "metadata": {
    "tags": []
   },
   "outputs": [],
   "source": [
    "pathways_covid=pathways_covid*100"
   ]
  },
  {
   "cell_type": "markdown",
   "id": "61baa212-ac40-451b-94b6-91e58a3b1bca",
   "metadata": {
    "tags": []
   },
   "source": [
    "<h2> Se calculan los GMHI para tax y path</h2>"
   ]
  },
  {
   "cell_type": "code",
   "execution_count": null,
   "id": "f34a9813-5df4-4b51-a54b-84c94fe57cb1",
   "metadata": {
    "tags": []
   },
   "outputs": [],
   "source": [
    "GMHI_tax_covid=get_all_GMHI(tax_covid,H,N)"
   ]
  },
  {
   "cell_type": "code",
   "execution_count": null,
   "id": "e9e8cfd4-be47-45e4-8826-d23731336852",
   "metadata": {
    "tags": []
   },
   "outputs": [],
   "source": [
    "integrated_covid,unintegrated_covid=get_integrated_unintegrated(pathways_covid)"
   ]
  },
  {
   "cell_type": "code",
   "execution_count": null,
   "id": "6dbce771-0c56-45e5-9863-7233b9f4c935",
   "metadata": {
    "tags": []
   },
   "outputs": [],
   "source": [
    "GMHI_integrated_covid=get_all_GMHI(integrated_covid,MH_integrated_test,MN_integrated_test)"
   ]
  },
  {
   "cell_type": "code",
   "execution_count": null,
   "id": "e3245668-95c8-4995-a9d8-3bf99410942e",
   "metadata": {
    "tags": []
   },
   "outputs": [],
   "source": [
    "GMHI_unintegrated_covid=get_all_GMHI(unintegrated_covid,MH_unintegrated_test,MN_unintegrated_test)"
   ]
  },
  {
   "cell_type": "markdown",
   "id": "17df58f7-02ef-4dd6-9fc7-02d29c8782be",
   "metadata": {},
   "source": [
    "<h3>Se integran a un data frame </h3>"
   ]
  },
  {
   "cell_type": "code",
   "execution_count": null,
   "id": "39b0ddae-f7f7-449f-8bb0-c3d1bdd476aa",
   "metadata": {
    "tags": []
   },
   "outputs": [],
   "source": [
    "predicts=pd.DataFrame(index=GMHI_tax_covid.index)\n",
    "predicts['GMHI_tax']=GMHI_tax_covid\n",
    "predicts['GMHI_integrated_pathways']=GMHI_integrated_covid\n",
    "predicts['GMHI_unintegrated_pathways']=GMHI_unintegrated_covid\n",
    "predicts"
   ]
  },
  {
   "cell_type": "markdown",
   "id": "133d13a2-4032-4a3d-9add-db5f2d617e63",
   "metadata": {},
   "source": [
    "<h2>Se realiza la predicción</h2>"
   ]
  },
  {
   "cell_type": "code",
   "execution_count": null,
   "id": "b8084163-e597-41ec-9791-8f03d6a7bb27",
   "metadata": {
    "tags": []
   },
   "outputs": [],
   "source": [
    "clf.predict(predicts.values)"
   ]
  },
  {
   "cell_type": "markdown",
   "id": "64283ee1-0382-422d-bea3-2159ea70f20c",
   "metadata": {},
   "source": [
    "<h3>Se calculan las probabilidades de ser sano, entre mas cercano a 1, es más sano </h3>"
   ]
  },
  {
   "cell_type": "code",
   "execution_count": null,
   "id": "174c1262-247d-471c-bc73-4550052a5967",
   "metadata": {
    "tags": []
   },
   "outputs": [],
   "source": [
    "prob=clf.predict_proba(predicts.values)\n",
    "prob[:,1]"
   ]
  },
  {
   "cell_type": "code",
   "execution_count": null,
   "id": "d271dacc-e1ea-415c-8d50-af8c63de3cbd",
   "metadata": {
    "tags": []
   },
   "outputs": [],
   "source": [
    "predicts['RFT']=clf.predict(predicts.values)\n",
    "predicts['Prob_RFT']=prob[:,1]"
   ]
  },
  {
   "cell_type": "code",
   "execution_count": null,
   "id": "8c0cf832-05af-4395-ab4d-96cf5740ae4c",
   "metadata": {
    "tags": []
   },
   "outputs": [],
   "source": [
    "for i in predicts.index:\n",
    "    if predicts.loc[i,'RFT']==0:\n",
    "        predicts.loc[i,'RFT']='Unhealthy'\n",
    "    else:\n",
    "        predicts.loc[i,'RFT']='Healthy'\n"
   ]
  },
  {
   "cell_type": "code",
   "execution_count": null,
   "id": "c1ae3195-5ec2-4753-84a0-2fb772bb9a84",
   "metadata": {
    "tags": []
   },
   "outputs": [],
   "source": [
    "predicts"
   ]
  },
  {
   "cell_type": "code",
   "execution_count": null,
   "id": "87766e0e-e64f-41d3-a6d9-c85dbf9ba135",
   "metadata": {
    "tags": []
   },
   "outputs": [],
   "source": [
    "predicts.to_csv('pred_COVID_RFT_GMHI.csv', sep=',')\n"
   ]
  },
  {
   "cell_type": "markdown",
   "id": "fe761efd-07dc-4a42-9d3c-eee80992a330",
   "metadata": {},
   "source": [
    "<h1> Es posible mejorar este índice al obtener un mejor conjunto para los pathways. Cuando el GMHI de pathways es 0, se sospecha que no hay suficientes funciones buenas o malas registradas en nuestros conjuntos. </h1>"
   ]
  }
 ],
 "metadata": {
  "kernelspec": {
   "display_name": "Python 3 (ipykernel)",
   "language": "python",
   "name": "python3"
  },
  "language_info": {
   "codemirror_mode": {
    "name": "ipython",
    "version": 3
   },
   "file_extension": ".py",
   "mimetype": "text/x-python",
   "name": "python",
   "nbconvert_exporter": "python",
   "pygments_lexer": "ipython3",
   "version": "3.10.5"
  }
 },
 "nbformat": 4,
 "nbformat_minor": 5
}
